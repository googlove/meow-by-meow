{
 "cells": [
  {
   "cell_type": "code",
   "execution_count": null,
   "id": "ef9961ad-2145-465d-b72f-8a7f9efc41e1",
   "metadata": {
    "tags": []
   },
   "outputs": [],
   "source": [
    "import matplotlib\n",
    "import matplotlib.pyplot as plt\n",
    "import seaborn as sns\n",
    "sns.set_style('whitegrid')"
   ]
  },
  {
   "cell_type": "code",
   "execution_count": null,
   "id": "3adcfd3a-468a-45f1-a303-37b62bab1761",
   "metadata": {
    "tags": []
   },
   "outputs": [],
   "source": [
    "import numpy as np\n",
    "from scipy.io import wavfile"
   ]
  },
  {
   "cell_type": "code",
   "execution_count": null,
   "id": "4345362d-7b4e-44b9-a247-4df75e3fb741",
   "metadata": {
    "tags": []
   },
   "outputs": [],
   "source": [
    "# Use relative paths\n",
    "data_fp = '../../data/raw_data/zenodo.4008297/B_ANI01_MC_FN_SIM01_101.wav'"
   ]
  },
  {
   "cell_type": "code",
   "execution_count": null,
   "id": "f866e8b0-8a5b-45a5-bd76-183aa56b4c14",
   "metadata": {
    "tags": []
   },
   "outputs": [],
   "source": [
    "rate, data = wavfile.read(data_fp)"
   ]
  },
  {
   "cell_type": "code",
   "execution_count": null,
   "id": "e7942ca2-e3b5-4d2f-8cbd-ddd71f1cc6bd",
   "metadata": {
    "tags": []
   },
   "outputs": [],
   "source": [
    "plt.plot(\n",
    "    np.arange(data.size),\n",
    "    data,\n",
    ")"
   ]
  },
  {
   "cell_type": "code",
   "execution_count": null,
   "id": "17912736-6b6f-47bd-ad95-6813c75ce864",
   "metadata": {},
   "outputs": [],
   "source": []
  }
 ],
 "metadata": {
  "kernelspec": {
   "display_name": "Python 3 (ipykernel)",
   "language": "python",
   "name": "python3"
  },
  "language_info": {
   "codemirror_mode": {
    "name": "ipython",
    "version": 3
   },
   "file_extension": ".py",
   "mimetype": "text/x-python",
   "name": "python",
   "nbconvert_exporter": "python",
   "pygments_lexer": "ipython3",
   "version": "3.11.5"
  }
 },
 "nbformat": 4,
 "nbformat_minor": 5
}
