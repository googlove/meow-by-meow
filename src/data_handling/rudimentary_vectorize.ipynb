{
 "cells": [
  {
   "cell_type": "code",
   "execution_count": null,
   "id": "ef9961ad-2145-465d-b72f-8a7f9efc41e1",
   "metadata": {
    "tags": []
   },
   "outputs": [],
   "source": [
    "import matplotlib\n",
    "import matplotlib.pyplot as plt\n",
    "import seaborn as sns\n",
    "sns.set_style('whitegrid')"
   ]
  },
  {
   "cell_type": "code",
   "execution_count": null,
   "id": "3adcfd3a-468a-45f1-a303-37b62bab1761",
   "metadata": {
    "tags": []
   },
   "outputs": [],
   "source": [
    "import numpy as np\n",
    "import os\n",
    "import glob\n",
    "from scipy.io import wavfile"
   ]
  },
  {
   "cell_type": "code",
   "execution_count": null,
   "id": "b76df570-5e69-44d0-9d58-aa6db8695380",
   "metadata": {
    "tags": []
   },
   "outputs": [],
   "source": [
    "data_dir = '../../data/raw_data/zenodo.4008297/'"
   ]
  },
  {
   "cell_type": "code",
   "execution_count": null,
   "id": "255dbe68-96af-49aa-a055-7cd58b0e6600",
   "metadata": {
    "tags": []
   },
   "outputs": [],
   "source": [
    "save_fp = '../../data/processed_data/raw_wav.npy'"
   ]
  },
  {
   "cell_type": "code",
   "execution_count": null,
   "id": "3c61cca1-856a-4f9a-bc52-c9143560e2d3",
   "metadata": {
    "tags": []
   },
   "outputs": [],
   "source": [
    "# Loop over all files, store as one big array\n",
    "arrs = []\n",
    "for fp in glob.glob(os.path.join(data_dir, '*')):\n",
    "    rate, data = wavfile.read(data_fp)\n",
    "    arrs.append(data)"
   ]
  },
  {
   "cell_type": "code",
   "execution_count": null,
   "id": "993bdeb8-1503-4f98-b323-401558e5315d",
   "metadata": {
    "tags": []
   },
   "outputs": [],
   "source": [
    "# Combine into one\n",
    "x_data = np.array(arrs)"
   ]
  },
  {
   "cell_type": "code",
   "execution_count": null,
   "id": "4f79f350-0234-4e17-8ee2-564e78d1c67a",
   "metadata": {
    "tags": []
   },
   "outputs": [],
   "source": [
    "# Save\n",
    "np.save(save_fp, x_data)"
   ]
  },
  {
   "cell_type": "code",
   "execution_count": null,
   "id": "4345362d-7b4e-44b9-a247-4df75e3fb741",
   "metadata": {
    "tags": []
   },
   "outputs": [],
   "source": [
    "# Use relative paths\n",
    "data_fp = '../../data/raw_data/zenodo.4008297/B_ANI01_MC_FN_SIM01_101.wav'"
   ]
  },
  {
   "cell_type": "markdown",
   "id": "353fde68-453b-40fd-b48d-665241555e4b",
   "metadata": {
    "tags": []
   },
   "source": [
    "# Everything below is more advanced"
   ]
  },
  {
   "cell_type": "code",
   "execution_count": null,
   "id": "e7942ca2-e3b5-4d2f-8cbd-ddd71f1cc6bd",
   "metadata": {
    "tags": []
   },
   "outputs": [],
   "source": [
    "plt.plot(\n",
    "    np.arange(data.size),\n",
    "    data,\n",
    ")"
   ]
  },
  {
   "cell_type": "code",
   "execution_count": null,
   "id": "17912736-6b6f-47bd-ad95-6813c75ce864",
   "metadata": {},
   "outputs": [],
   "source": [
    "import librosa\n",
    "import librosa.display"
   ]
  },
  {
   "cell_type": "code",
   "execution_count": null,
   "id": "c3e164ab",
   "metadata": {},
   "outputs": [],
   "source": [
    "datalib, ratelib = librosa.load(data_fp, sr=None)"
   ]
  },
  {
   "cell_type": "code",
   "execution_count": null,
   "id": "39813ff8",
   "metadata": {},
   "outputs": [],
   "source": [
    "specgram = librosa.stft(datalib)\n",
    "librosa.display.specshow(specgram)"
   ]
  },
  {
   "cell_type": "code",
   "execution_count": null,
   "id": "16e5a78e",
   "metadata": {},
   "outputs": [],
   "source": [
    "specmag,_ = librosa.magphase(specgram)\n",
    "mel_scale_sgram = librosa.feature.melspectrogram(S=specmag,sr=ratelib)\n",
    "librosa.display.specshow(mel_scale_sgram)"
   ]
  },
  {
   "cell_type": "code",
   "execution_count": null,
   "id": "b1dccedb",
   "metadata": {},
   "outputs": [],
   "source": [
    "mel_spec_db = librosa.amplitude_to_db(mel_scale_sgram,ref=np.min)\n",
    "librosa.display.specshow(mel_spec_db, sr = ratelib, x_axis='time',y_axis='mel')\n",
    "plt.colorbar(format='%+2.0f dB')"
   ]
  },
  {
   "cell_type": "code",
   "execution_count": null,
   "id": "d74bf72a-2dee-454e-a4c6-01831962f84d",
   "metadata": {},
   "outputs": [],
   "source": []
  },
  {
   "cell_type": "code",
   "execution_count": null,
   "id": "d1ca7269",
   "metadata": {
    "tags": []
   },
   "outputs": [],
   "source": [
    "specgram"
   ]
  },
  {
   "cell_type": "code",
   "execution_count": null,
   "id": "947eff84-e5f2-449d-ae3d-ccf5b373d16e",
   "metadata": {},
   "outputs": [],
   "source": []
  }
 ],
 "metadata": {
  "kernelspec": {
   "display_name": "Python 3 (ipykernel)",
   "language": "python",
   "name": "python3"
  },
  "language_info": {
   "codemirror_mode": {
    "name": "ipython",
    "version": 3
   },
   "file_extension": ".py",
   "mimetype": "text/x-python",
   "name": "python",
   "nbconvert_exporter": "python",
   "pygments_lexer": "ipython3",
   "version": "3.11.5"
  }
 },
 "nbformat": 4,
 "nbformat_minor": 5
}
