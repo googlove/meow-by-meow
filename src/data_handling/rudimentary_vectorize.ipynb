{
 "cells": [
  {
   "cell_type": "code",
   "execution_count": null,
   "id": "ef9961ad-2145-465d-b72f-8a7f9efc41e1",
   "metadata": {
    "tags": []
   },
   "outputs": [],
   "source": [
    "import matplotlib\n",
    "import matplotlib.pyplot as plt\n",
    "import seaborn as sns\n",
    "sns.set_style('whitegrid')"
   ]
  },
  {
   "cell_type": "code",
   "execution_count": null,
   "id": "3adcfd3a-468a-45f1-a303-37b62bab1761",
   "metadata": {
    "tags": []
   },
   "outputs": [],
   "source": [
    "import numpy as np\n",
    "import os\n",
    "import glob\n",
    "from scipy.io import wavfile"
   ]
  },
  {
   "cell_type": "code",
   "execution_count": null,
   "id": "b76df570-5e69-44d0-9d58-aa6db8695380",
   "metadata": {
    "tags": []
   },
   "outputs": [],
   "source": [
    "data_dir = '../../data/raw_data/zenodo.4008297/'"
   ]
  },
  {
   "cell_type": "code",
   "execution_count": null,
   "id": "255dbe68-96af-49aa-a055-7cd58b0e6600",
   "metadata": {
    "tags": []
   },
   "outputs": [],
   "source": [
    "save_fp = '../../data/processed_data/raw_wav.npy'"
   ]
  },
  {
   "cell_type": "code",
   "execution_count": null,
   "id": "3c61cca1-856a-4f9a-bc52-c9143560e2d3",
   "metadata": {
    "tags": []
   },
   "outputs": [],
   "source": [
    "# Loop over all files, store as one big array\n",
    "arrs = []\n",
    "for fp in glob.glob(os.path.join(data_dir, '*')):\n",
    "    rate, data = wavfile.read(data_fp)\n",
    "    arrs.append(data)"
   ]
  },
  {
   "cell_type": "code",
   "execution_count": null,
   "id": "993bdeb8-1503-4f98-b323-401558e5315d",
   "metadata": {
    "tags": []
   },
   "outputs": [],
   "source": [
    "# Combine into one\n",
    "x_data = np.array(arrs)"
   ]
  },
  {
   "cell_type": "code",
   "execution_count": null,
   "id": "4f79f350-0234-4e17-8ee2-564e78d1c67a",
   "metadata": {
    "tags": []
   },
   "outputs": [],
   "source": [
    "# Save\n",
    "np.save(save_fp, x_data)"
   ]
  },
  {
   "cell_type": "code",
   "execution_count": null,
   "id": "4345362d-7b4e-44b9-a247-4df75e3fb741",
   "metadata": {
    "tags": []
   },
   "outputs": [],
   "source": [
    "# Use relative paths\n",
    "data_fp = '../../data/raw_data/zenodo.4008297/B_ANI01_MC_FN_SIM01_101.wav'"
   ]
  },
  {
   "cell_type": "code",
   "execution_count": null,
   "id": "e7942ca2-e3b5-4d2f-8cbd-ddd71f1cc6bd",
   "metadata": {
    "tags": []
   },
   "outputs": [],
   "source": [
    "plt.plot(\n",
    "    np.arange(data.size),\n",
    "    data,\n",
    ")"
   ]
  }
 ],
 "metadata": {
  "kernelspec": {
   "display_name": "Python 3 (ipykernel)",
   "language": "python",
   "name": "python3"
  },
  "language_info": {
   "codemirror_mode": {
    "name": "ipython",
    "version": 3
   },
   "file_extension": ".py",
   "mimetype": "text/x-python",
   "name": "python",
   "nbconvert_exporter": "python",
   "pygments_lexer": "ipython3",
   "version": "3.11.5"
  }
 },
 "nbformat": 4,
 "nbformat_minor": 5
}
