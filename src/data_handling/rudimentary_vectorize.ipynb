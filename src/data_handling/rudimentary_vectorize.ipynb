{
 "cells": [
  {
   "cell_type": "markdown",
   "id": "7efde20a-271b-4c8b-866c-fb1ffe9e6613",
   "metadata": {},
   "source": [
    "# Vectorization Feature Engineering\n",
    "This notebook can be used as a template for extracting other features."
   ]
  },
  {
   "cell_type": "markdown",
   "id": "651f4122-3d3a-4499-a983-d2e72fb58e84",
   "metadata": {},
   "source": [
    "# Imports"
   ]
  },
  {
   "cell_type": "code",
   "execution_count": 1,
   "id": "ef9961ad-2145-465d-b72f-8a7f9efc41e1",
   "metadata": {
    "tags": []
   },
   "outputs": [],
   "source": [
    "import matplotlib\n",
    "import matplotlib.pyplot as plt\n",
    "import seaborn as sns\n",
    "sns.set_style('whitegrid')"
   ]
  },
  {
   "cell_type": "code",
   "execution_count": 2,
   "id": "3adcfd3a-468a-45f1-a303-37b62bab1761",
   "metadata": {
    "tags": []
   },
   "outputs": [],
   "source": [
    "import numpy as np\n",
    "import os\n",
    "import glob\n",
    "from scipy.io import wavfile"
   ]
  },
  {
   "cell_type": "markdown",
   "id": "853f098b-8595-4261-b661-02c88b8b820b",
   "metadata": {},
   "source": [
    "# Settings"
   ]
  },
  {
   "cell_type": "code",
   "execution_count": 3,
   "id": "b76df570-5e69-44d0-9d58-aa6db8695380",
   "metadata": {
    "tags": []
   },
   "outputs": [],
   "source": [
    "data_dir = '../../data/raw_data/zenodo.4008297/'"
   ]
  },
  {
   "cell_type": "code",
   "execution_count": 4,
   "id": "255dbe68-96af-49aa-a055-7cd58b0e6600",
   "metadata": {
    "tags": []
   },
   "outputs": [],
   "source": [
    "save_fp = '../../data/processed_data/raw_wav.npy'"
   ]
  },
  {
   "cell_type": "markdown",
   "id": "43024780-fc90-4e3b-a65e-0a60dbd7e383",
   "metadata": {},
   "source": [
    "# Load Data"
   ]
  },
  {
   "cell_type": "code",
   "execution_count": 5,
   "id": "f7f6c8f5-b325-4034-8445-85a38f3d2f20",
   "metadata": {
    "tags": []
   },
   "outputs": [],
   "source": [
    "data_fps = glob.glob(os.path.join(data_dir, '*'))"
   ]
  },
  {
   "cell_type": "code",
   "execution_count": 6,
   "id": "3c61cca1-856a-4f9a-bc52-c9143560e2d3",
   "metadata": {
    "tags": []
   },
   "outputs": [
    {
     "name": "stderr",
     "output_type": "stream",
     "text": [
      "/var/folders/54/sj990qts6dl73m0p_445j_900000gq/T/ipykernel_65264/4127974580.py:4: WavFileWarning: Chunk (non-data) not understood, skipping it.\n",
      "  rate, data = wavfile.read(data_fp)\n"
     ]
    }
   ],
   "source": [
    "# Loop over all files, store as one big array\n",
    "arrs = []\n",
    "for data_fp in data_fps:\n",
    "    rate, data = wavfile.read(data_fp)\n",
    "    arrs.append(data)"
   ]
  },
  {
   "cell_type": "markdown",
   "id": "b0a06511-766e-4fab-a9b9-a5df7f28bc09",
   "metadata": {},
   "source": [
    "# Examine Data"
   ]
  },
  {
   "cell_type": "code",
   "execution_count": 7,
   "id": "e7942ca2-e3b5-4d2f-8cbd-ddd71f1cc6bd",
   "metadata": {
    "tags": []
   },
   "outputs": [
    {
     "data": {
      "text/plain": [
       "[<matplotlib.lines.Line2D at 0x168205510>]"
      ]
     },
     "execution_count": 7,
     "metadata": {},
     "output_type": "execute_result"
    },
    {
     "data": {
      "image/png": "[encoded data removed]",
      "text/plain": [
       "<Figure size 640x480 with 1 Axes>"
      ]
     },
     "metadata": {},
     "output_type": "display_data"
    }
   ],
   "source": [
    "# Look at just the first file\n",
    "plt.plot(\n",
    "    np.arange(arrs[0].size),\n",
    "    arrs[0],\n",
    ")"
   ]
  },
  {
   "cell_type": "markdown",
   "id": "4bb0e325-e358-4302-9ffb-d436b414180f",
   "metadata": {},
   "source": [
    "# Process Data"
   ]
  },
  {
   "cell_type": "code",
   "execution_count": 8,
   "id": "7f3cefdb-5caa-44a8-b1d3-5cfcad147951",
   "metadata": {
    "tags": []
   },
   "outputs": [],
   "source": [
    "# Create the empty array to hold the data\n",
    "sizes = [_.size for _ in arrs]\n",
    "max_size = np.max(sizes)\n",
    "x_data = np.zeros((len(arrs), max_size))"
   ]
  },
  {
   "cell_type": "code",
   "execution_count": 9,
   "id": "993bdeb8-1503-4f98-b323-401558e5315d",
   "metadata": {
    "tags": []
   },
   "outputs": [],
   "source": [
    "# Store the data\n",
    "for i, arr in enumerate(arrs):\n",
    "    x_data[i,:arr.size] = arr"
   ]
  },
  {
   "cell_type": "markdown",
   "id": "9c3a3144-6581-4680-be08-b9dc80dd91d8",
   "metadata": {},
   "source": [
    "# Save data"
   ]
  },
  {
   "cell_type": "code",
   "execution_count": 10,
   "id": "4f79f350-0234-4e17-8ee2-564e78d1c67a",
   "metadata": {
    "tags": []
   },
   "outputs": [],
   "source": [
    "# Save\n",
    "np.save(save_fp, x_data)"
   ]
  }
 ],
 "metadata": {
  "kernelspec": {
   "display_name": "Python 3 (ipykernel)",
   "language": "python",
   "name": "python3"
  },
  "language_info": {
   "codemirror_mode": {
    "name": "ipython",
    "version": 3
   },
   "file_extension": ".py",
   "mimetype": "text/x-python",
   "name": "python",
   "nbconvert_exporter": "python",
   "pygments_lexer": "ipython3",
   "version": "3.11.5"
  }
 },
 "nbformat": 4,
 "nbformat_minor": 5
}
