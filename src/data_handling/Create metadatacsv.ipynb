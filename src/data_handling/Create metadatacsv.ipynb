{
 "cells": [
  {
   "cell_type": "markdown",
   "id": "7efde20a-271b-4c8b-866c-fb1ffe9e6613",
   "metadata": {},
   "source": [
    "# Vectorization Feature Engineering\n",
    "This notebook can be used as a template for extracting other features."
   ]
  },
  {
   "cell_type": "markdown",
   "id": "651f4122-3d3a-4499-a983-d2e72fb58e84",
   "metadata": {},
   "source": [
    "# Imports"
   ]
  },
  {
   "cell_type": "code",
   "execution_count": 22,
   "id": "ef9961ad-2145-465d-b72f-8a7f9efc41e1",
   "metadata": {
    "tags": []
   },
   "outputs": [],
   "source": [
    "import matplotlib\n",
    "import matplotlib.pyplot as plt\n",
    "import seaborn as sns\n",
    "import pandas as pd\n",
    "sns.set_style('whitegrid')"
   ]
  },
  {
   "cell_type": "code",
   "execution_count": 23,
   "id": "3adcfd3a-468a-45f1-a303-37b62bab1761",
   "metadata": {
    "tags": []
   },
   "outputs": [],
   "source": [
    "import numpy as np\n",
    "import os\n",
    "import glob\n",
    "from scipy.io import wavfile"
   ]
  },
  {
   "cell_type": "markdown",
   "id": "853f098b-8595-4261-b661-02c88b8b820b",
   "metadata": {},
   "source": [
    "# Settings"
   ]
  },
  {
   "cell_type": "code",
   "execution_count": 24,
   "id": "b76df570-5e69-44d0-9d58-aa6db8695380",
   "metadata": {
    "tags": []
   },
   "outputs": [],
   "source": [
    "data_dir = '../../data/raw_data/zenodo.4008297/'"
   ]
  },
  {
   "cell_type": "markdown",
   "id": "d2ba3f5a",
   "metadata": {},
   "source": [
    "# PreProcess and Label"
   ]
  },
  {
   "cell_type": "code",
   "execution_count": 19,
   "id": "ec858a81",
   "metadata": {},
   "outputs": [],
   "source": [
    "from pathlib import Path\n",
    "dataset_dir = Path(data_dir)"
   ]
  },
  {
   "cell_type": "code",
   "execution_count": 21,
   "id": "5a766162",
   "metadata": {},
   "outputs": [
    {
     "data": {
      "text/html": [
       "<div>\n",
       "<style scoped>\n",
       "    .dataframe tbody tr th:only-of-type {\n",
       "        vertical-align: middle;\n",
       "    }\n",
       "\n",
       "    .dataframe tbody tr th {\n",
       "        vertical-align: top;\n",
       "    }\n",
       "\n",
       "    .dataframe thead th {\n",
       "        text-align: right;\n",
       "    }\n",
       "</style>\n",
       "<table border=\"1\" class=\"dataframe\">\n",
       "  <thead>\n",
       "    <tr style=\"text-align: right;\">\n",
       "      <th></th>\n",
       "      <th>filename</th>\n",
       "      <th>situation</th>\n",
       "      <th>sex</th>\n",
       "      <th>breed</th>\n",
       "    </tr>\n",
       "  </thead>\n",
       "  <tbody>\n",
       "    <tr>\n",
       "      <th>0</th>\n",
       "      <td>F_MAG01_EU_FN_FED01_106.wav</td>\n",
       "      <td>food</td>\n",
       "      <td>0</td>\n",
       "      <td>european_shorthair</td>\n",
       "    </tr>\n",
       "    <tr>\n",
       "      <th>1</th>\n",
       "      <td>I_NUL01_MC_MI_SIM01_304.wav</td>\n",
       "      <td>isolation</td>\n",
       "      <td>1</td>\n",
       "      <td>maine_coon</td>\n",
       "    </tr>\n",
       "    <tr>\n",
       "      <th>2</th>\n",
       "      <td>I_MEG01_MC_FI_SIM01_304.wav</td>\n",
       "      <td>isolation</td>\n",
       "      <td>0</td>\n",
       "      <td>maine_coon</td>\n",
       "    </tr>\n",
       "    <tr>\n",
       "      <th>3</th>\n",
       "      <td>B_CAN01_EU_FN_GIA01_205.wav</td>\n",
       "      <td>brushing</td>\n",
       "      <td>0</td>\n",
       "      <td>european_shorthair</td>\n",
       "    </tr>\n",
       "    <tr>\n",
       "      <th>4</th>\n",
       "      <td>F_MAG01_EU_FN_FED01_304.wav</td>\n",
       "      <td>food</td>\n",
       "      <td>0</td>\n",
       "      <td>european_shorthair</td>\n",
       "    </tr>\n",
       "  </tbody>\n",
       "</table>\n",
       "</div>"
      ],
      "text/plain": [
       "                      filename  situation sex               breed\n",
       "0  F_MAG01_EU_FN_FED01_106.wav       food   0  european_shorthair\n",
       "1  I_NUL01_MC_MI_SIM01_304.wav  isolation   1          maine_coon\n",
       "2  I_MEG01_MC_FI_SIM01_304.wav  isolation   0          maine_coon\n",
       "3  B_CAN01_EU_FN_GIA01_205.wav   brushing   0  european_shorthair\n",
       "4  F_MAG01_EU_FN_FED01_304.wav       food   0  european_shorthair"
      ]
     },
     "execution_count": 21,
     "metadata": {},
     "output_type": "execute_result"
    }
   ],
   "source": [
    "\n",
    "df = pd.DataFrame({'filename': [f.name for f in dataset_dir.glob('*.wav')]})\n",
    "df['situation'] = df.filename.str.get(0).map({'B': 'brushing', 'F': 'food', 'I': 'isolation'})\n",
    "df['sex'] = df.filename.str.get(11).map({'F': '0', 'M': '1'})\n",
    "df['breed'] = df.filename.str.get(8).map({'M': 'maine_coon', 'E': 'european_shorthair'})\n",
    "df.head()"
   ]
  },
  {
   "cell_type": "code",
   "execution_count": 38,
   "id": "e258bd04",
   "metadata": {},
   "outputs": [],
   "source": [
    "save_fp = '../../data/processed_data/metadata.csv'\n",
    "save = Path(save_fp)\n",
    "df.to_csv(save)  "
   ]
  },
  {
   "cell_type": "markdown",
   "id": "def28d92",
   "metadata": {},
   "source": []
  }
 ],
 "metadata": {
  "kernelspec": {
   "display_name": "Python 3 (ipykernel)",
   "language": "python",
   "name": "python3"
  },
  "language_info": {
   "codemirror_mode": {
    "name": "ipython",
    "version": 3
   },
   "file_extension": ".py",
   "mimetype": "text/x-python",
   "name": "python",
   "nbconvert_exporter": "python",
   "pygments_lexer": "ipython3",
   "version": "3.11.4"
  }
 },
 "nbformat": 4,
 "nbformat_minor": 5
}
