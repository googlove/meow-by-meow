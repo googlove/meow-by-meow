{
 "cells": [
  {
   "cell_type": "code",
   "execution_count": null,
   "id": "49cfb9c8-7e95-41f4-a16c-0508656fbefe",
   "metadata": {},
   "outputs": [],
   "source": [
    "import librosa\n",
    "import librosa.display"
   ]
  },
  {
   "cell_type": "code",
   "execution_count": null,
   "id": "12e6ba29-74c7-4c34-94df-2bbeb7be1d99",
   "metadata": {},
   "outputs": [],
   "source": [
    "datalib, ratelib = librosa.load(data_fp, sr=None)"
   ]
  },
  {
   "cell_type": "code",
   "execution_count": null,
   "id": "66918622-1b6d-4696-abcf-6be87a5a940a",
   "metadata": {},
   "outputs": [],
   "source": [
    "specgram = librosa.stft(datalib)\n",
    "librosa.display.specshow(specgram)"
   ]
  },
  {
   "cell_type": "code",
   "execution_count": null,
   "id": "93632354-6296-4dcc-ad76-eebc261598db",
   "metadata": {},
   "outputs": [],
   "source": [
    "specmag,_ = librosa.magphase(specgram)\n",
    "mel_scale_sgram = librosa.feature.melspectrogram(S=specmag,sr=ratelib)\n",
    "librosa.display.specshow(mel_scale_sgram)"
   ]
  },
  {
   "cell_type": "code",
   "execution_count": null,
   "id": "734e073a-7508-42ba-8ced-b675b46355f1",
   "metadata": {},
   "outputs": [],
   "source": [
    "mel_spec_db = librosa.amplitude_to_db(mel_scale_sgram,ref=np.min)\n",
    "librosa.display.specshow(mel_spec_db, sr = ratelib, x_axis='time',y_axis='mel')\n",
    "plt.colorbar(format='%+2.0f dB')"
   ]
  }
 ],
 "metadata": {
  "kernelspec": {
   "display_name": "Python 3 (ipykernel)",
   "language": "python",
   "name": "python3"
  },
  "language_info": {
   "codemirror_mode": {
    "name": "ipython",
    "version": 3
   },
   "file_extension": ".py",
   "mimetype": "text/x-python",
   "name": "python",
   "nbconvert_exporter": "python",
   "pygments_lexer": "ipython3",
   "version": "3.11.5"
  }
 },
 "nbformat": 4,
 "nbformat_minor": 5
}
