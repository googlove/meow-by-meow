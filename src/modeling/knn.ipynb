{
 "cells": [
  {
   "cell_type": "markdown",
   "id": "8c024993-3dc6-4e45-a84a-86b6114cd3d2",
   "metadata": {},
   "source": [
    "# K Nearest Neighbors Model\n",
    "\n",
    "A simple classification model. This notebook can be used as a template for others.\n",
    "\n",
    "Remark from Will: I may later go through the process of doing some diagnostic plots, but working a little with the numbers it is already quite clear that at least when test_size = 1/5, k=6 is the optimal choice; it obtains not only the best accuracy, but also obtains optimal values for 2/3 recall values and 2/3 precision values. Thus it is substantially better. The accuracy of this optimal model is 0.716. With a little experimentation, test_size = 1/5 also seems to avoid overfitting."
   ]
  },
  {
   "cell_type": "markdown",
   "id": "e4158f64-3d27-4324-ad8a-0ec0d912a8fb",
   "metadata": {},
   "source": [
    "# Imports"
   ]
  },
  {
   "cell_type": "code",
   "execution_count": 84,
   "id": "4933dd40-154e-4b37-919e-1186e0bfaee9",
   "metadata": {
    "tags": []
   },
   "outputs": [],
   "source": [
    "## Standard imports\n",
    "\n",
    "import pandas as pd\n",
    "import numpy as np\n",
    "import matplotlib.pyplot as plt\n",
    "from seaborn import set_style\n",
    "import csv\n",
    "\n",
    "set_style(\"whitegrid\")"
   ]
  },
  {
   "cell_type": "code",
   "execution_count": 85,
   "id": "54fbbc65-3a40-4292-927b-d81556bcc087",
   "metadata": {},
   "outputs": [],
   "source": [
    "## More specific imports for this notebook\n",
    "\n",
    "import joblib ## For saving trained models\n",
    "from sklearn.neighbors import KNeighborsClassifier ## Import the model here\n",
    "from sklearn.model_selection import train_test_split ## Import train_test_split\n",
    "from sklearn.metrics import confusion_matrix ## Import confusion_matrix\n",
    "from sklearn.metrics import accuracy_score"
   ]
  },
  {
   "cell_type": "markdown",
   "id": "284d3823-0954-4a52-83f4-224e3254c91f",
   "metadata": {},
   "source": [
    "# Initial Settings"
   ]
  },
  {
   "cell_type": "code",
   "execution_count": 86,
   "id": "f9334a96-3204-4258-971e-60c289f2e455",
   "metadata": {
    "tags": []
   },
   "outputs": [],
   "source": [
    "data_fp = '../../data/processed_data/specgram_db0.npy' ## Import raw wave data\n",
    "\n",
    "file = open('../../data/processed_data/metadatadata.csv','r') ##Import raw classifications corresponding to raw data\n",
    "data_cat = list(csv.reader(file, delimiter=','))\n",
    "file.close()"
   ]
  },
  {
   "cell_type": "markdown",
   "id": "4f783dab-7d2d-4212-9d88-9c7c39f5f04b",
   "metadata": {},
   "source": [
    "# Load Data"
   ]
  },
  {
   "cell_type": "code",
   "execution_count": 87,
   "id": "c904eb8a-a852-4c4b-8d20-50c64b1af0aa",
   "metadata": {
    "tags": []
   },
   "outputs": [],
   "source": [
    "# Load data (currently without classifications attached)\n",
    "x_data = np.load(data_fp)\n",
    "\n",
    "#Flatten the 2-dim matrices into vectors for the kNN\n",
    "X = []\n",
    "for x in x_data:\n",
    "    X.append(x.flatten())"
   ]
  },
  {
   "cell_type": "code",
   "execution_count": 153,
   "id": "aa09663a",
   "metadata": {},
   "outputs": [],
   "source": [
    "df = pd.read_csv(\"../../data/processed_data/metadata.csv\")\n",
    "\n",
    "situation_to_number = {'brushing': 0, 'food': 1, 'isolation': 2}\n",
    "breed_to_number = {'european_shorthair': 0, 'maine_coon': 1}\n",
    "sex_to_number = {0:0, 1:1} ## Sex already transfered to number; this is for uniformity of the code\n",
    "\n",
    "# Create a new column with numerical values based on the mapping\n",
    "model_type = 'sex'\n",
    "category_to_number = sex_to_number\n",
    "df['numerical_'+model_type] = df[model_type].map(category_to_number)\n",
    "\n",
    "y = df['numerical_'+model_type]"
   ]
  },
  {
   "cell_type": "markdown",
   "id": "fb7a4cf4-ce25-4cdf-a377-502953c28ce2",
   "metadata": {},
   "source": [
    "# Train-Test Split"
   ]
  },
  {
   "cell_type": "code",
   "execution_count": 154,
   "id": "f3a19c93-f256-492e-8786-b9df10416b57",
   "metadata": {
    "tags": []
   },
   "outputs": [],
   "source": [
    "## Set up the train test split\n",
    "\n",
    "# Use these variables to automate saving runs with different filesnames\n",
    "test_size = 1/5\n",
    "random_state = 440\n",
    "x_train, x_test, y_train, y_test = train_test_split(X.copy(), y,\n",
    "                                        shuffle = True,\n",
    "                                        random_state = random_state,\n",
    "                                        test_size=test_size)"
   ]
  },
  {
   "cell_type": "markdown",
   "id": "cc27b67a-e1fe-4101-a596-2b92ff585e16",
   "metadata": {},
   "source": [
    "# Fit Model"
   ]
  },
  {
   "cell_type": "code",
   "execution_count": 175,
   "id": "0d1b4f7b",
   "metadata": {
    "tags": []
   },
   "outputs": [
    {
     "data": {
      "text/html": [
       "<style>#sk-container-id-29 {color: black;}#sk-container-id-29 pre{padding: 0;}#sk-container-id-29 div.sk-toggleable {background-color: white;}#sk-container-id-29 label.sk-toggleable__label {cursor: pointer;display: block;width: 100%;margin-bottom: 0;padding: 0.3em;box-sizing: border-box;text-align: center;}#sk-container-id-29 label.sk-toggleable__label-arrow:before {content: \"▸\";float: left;margin-right: 0.25em;color: #696969;}#sk-container-id-29 label.sk-toggleable__label-arrow:hover:before {color: black;}#sk-container-id-29 div.sk-estimator:hover label.sk-toggleable__label-arrow:before {color: black;}#sk-container-id-29 div.sk-toggleable__content {max-height: 0;max-width: 0;overflow: hidden;text-align: left;background-color: #f0f8ff;}#sk-container-id-29 div.sk-toggleable__content pre {margin: 0.2em;color: black;border-radius: 0.25em;background-color: #f0f8ff;}#sk-container-id-29 input.sk-toggleable__control:checked~div.sk-toggleable__content {max-height: 200px;max-width: 100%;overflow: auto;}#sk-container-id-29 input.sk-toggleable__control:checked~label.sk-toggleable__label-arrow:before {content: \"▾\";}#sk-container-id-29 div.sk-estimator input.sk-toggleable__control:checked~label.sk-toggleable__label {background-color: #d4ebff;}#sk-container-id-29 div.sk-label input.sk-toggleable__control:checked~label.sk-toggleable__label {background-color: #d4ebff;}#sk-container-id-29 input.sk-hidden--visually {border: 0;clip: rect(1px 1px 1px 1px);clip: rect(1px, 1px, 1px, 1px);height: 1px;margin: -1px;overflow: hidden;padding: 0;position: absolute;width: 1px;}#sk-container-id-29 div.sk-estimator {font-family: monospace;background-color: #f0f8ff;border: 1px dotted black;border-radius: 0.25em;box-sizing: border-box;margin-bottom: 0.5em;}#sk-container-id-29 div.sk-estimator:hover {background-color: #d4ebff;}#sk-container-id-29 div.sk-parallel-item::after {content: \"\";width: 100%;border-bottom: 1px solid gray;flex-grow: 1;}#sk-container-id-29 div.sk-label:hover label.sk-toggleable__label {background-color: #d4ebff;}#sk-container-id-29 div.sk-serial::before {content: \"\";position: absolute;border-left: 1px solid gray;box-sizing: border-box;top: 0;bottom: 0;left: 50%;z-index: 0;}#sk-container-id-29 div.sk-serial {display: flex;flex-direction: column;align-items: center;background-color: white;padding-right: 0.2em;padding-left: 0.2em;position: relative;}#sk-container-id-29 div.sk-item {position: relative;z-index: 1;}#sk-container-id-29 div.sk-parallel {display: flex;align-items: stretch;justify-content: center;background-color: white;position: relative;}#sk-container-id-29 div.sk-item::before, #sk-container-id-29 div.sk-parallel-item::before {content: \"\";position: absolute;border-left: 1px solid gray;box-sizing: border-box;top: 0;bottom: 0;left: 50%;z-index: -1;}#sk-container-id-29 div.sk-parallel-item {display: flex;flex-direction: column;z-index: 1;position: relative;background-color: white;}#sk-container-id-29 div.sk-parallel-item:first-child::after {align-self: flex-end;width: 50%;}#sk-container-id-29 div.sk-parallel-item:last-child::after {align-self: flex-start;width: 50%;}#sk-container-id-29 div.sk-parallel-item:only-child::after {width: 0;}#sk-container-id-29 div.sk-dashed-wrapped {border: 1px dashed gray;margin: 0 0.4em 0.5em 0.4em;box-sizing: border-box;padding-bottom: 0.4em;background-color: white;}#sk-container-id-29 div.sk-label label {font-family: monospace;font-weight: bold;display: inline-block;line-height: 1.2em;}#sk-container-id-29 div.sk-label-container {text-align: center;}#sk-container-id-29 div.sk-container {/* jupyter's `normalize.less` sets `[hidden] { display: none; }` but bootstrap.min.css set `[hidden] { display: none !important; }` so we also need the `!important` here to be able to override the default hidden behavior on the sphinx rendered scikit-learn.org. See: https://github.com/scikit-learn/scikit-learn/issues/21755 */display: inline-block !important;position: relative;}#sk-container-id-29 div.sk-text-repr-fallback {display: none;}</style><div id=\"sk-container-id-29\" class=\"sk-top-container\"><div class=\"sk-text-repr-fallback\"><pre>KNeighborsClassifier(n_neighbors=10)</pre><b>In a Jupyter environment, please rerun this cell to show the HTML representation or trust the notebook. <br />On GitHub, the HTML representation is unable to render, please try loading this page with nbviewer.org.</b></div><div class=\"sk-container\" hidden><div class=\"sk-item\"><div class=\"sk-estimator sk-toggleable\"><input class=\"sk-toggleable__control sk-hidden--visually\" id=\"sk-estimator-id-29\" type=\"checkbox\" checked><label for=\"sk-estimator-id-29\" class=\"sk-toggleable__label sk-toggleable__label-arrow\">KNeighborsClassifier</label><div class=\"sk-toggleable__content\"><pre>KNeighborsClassifier(n_neighbors=10)</pre></div></div></div></div></div>"
      ],
      "text/plain": [
       "KNeighborsClassifier(n_neighbors=10)"
      ]
     },
     "execution_count": 175,
     "metadata": {},
     "output_type": "execute_result"
    }
   ],
   "source": [
    "## Use this variable to automate saving runs with different filesnames\n",
    "k = 10\n",
    "\n",
    "## Make the model object\n",
    "knn = KNeighborsClassifier(k)\n",
    "\n",
    "## \"Fit\" the model object\n",
    "knn.fit(x_train, y_train)"
   ]
  },
  {
   "cell_type": "markdown",
   "id": "eb60a12a-ff3e-4fc5-b304-12fa19276e3a",
   "metadata": {},
   "source": [
    "# Assess Model Performance\n",
    "Do things like test accuracy, etc."
   ]
  },
  {
   "cell_type": "code",
   "execution_count": 176,
   "id": "42fd80c0-7243-4a3d-97d2-7678a1fe90ac",
   "metadata": {
    "tags": []
   },
   "outputs": [
    {
     "name": "stdout",
     "output_type": "stream",
     "text": [
      "0.8295454545454546\n",
      "[[70  2]\n",
      " [13  3]]\n"
     ]
    }
   ],
   "source": [
    "## Predict on the training set\n",
    "y_test_pred = knn.predict(x_test)\n",
    "\n",
    "## Compute confusion matrix for model\n",
    "conf_mat = confusion_matrix(y_test, y_test_pred)\n",
    "\n",
    "## Compute accuracy for the model\n",
    "acc = accuracy_score(y_test, y_test_pred)\n",
    "\n",
    "print(acc)\n",
    "print(conf_mat)"
   ]
  },
  {
   "cell_type": "markdown",
   "id": "1eb0e7c2-3c63-48a6-b96c-ab7bb1317266",
   "metadata": {},
   "source": [
    "# Save Trained Model"
   ]
  },
  {
   "cell_type": "code",
   "execution_count": 177,
   "id": "facfb78f-2b82-46a7-9a9c-66e3fd76a14c",
   "metadata": {
    "tags": []
   },
   "outputs": [
    {
     "name": "stdout",
     "output_type": "stream",
     "text": [
      "../../data/trained_models/sex_k10s0.2r440.pkl\n"
     ]
    },
    {
     "data": {
      "text/plain": [
       "['../../data/trained_models/sex_k10s0.2r440.pkl']"
      ]
     },
     "execution_count": 177,
     "metadata": {},
     "output_type": "execute_result"
    }
   ],
   "source": [
    "# Build model_filename based on characteristics of test\n",
    "\n",
    "model_filename = '../../data/trained_models/' ## Save location destination\n",
    "model_filename += (model_type+'_')\n",
    "model_filename += ('k'+str(k)) ## Save k-value used for model\n",
    "model_filename += ('s'+str(test_size)) ## Save test_size used for train test split\n",
    "model_filename += ('r'+str(random_state)) ## Save random_state used for train test split\n",
    "model_filename += '.pkl'\n",
    "print(model_filename)\n",
    "\n",
    "# Save the model to disk\n",
    "joblib.dump(knn, model_filename)"
   ]
  },
  {
   "cell_type": "markdown",
   "id": "45442805",
   "metadata": {},
   "source": [
    "# Discussion of Data Runs\n",
    "\n",
    "The remainder of the file is mardown copies of the key data points from lots of kNN runs on different data points.\n",
    "\n",
    "Main Takeaways:\n",
    "- Extremely high reliability for predicting the breed\n",
    "- Pretty reliable for predicting the sex (without knowing the neutering status)\n",
    "- Limited but significant ability to predict the situation"
   ]
  },
  {
   "cell_type": "markdown",
   "id": "40c0bb0f",
   "metadata": {},
   "source": [
    "# Runs on Situation Data\n",
    "kNN runs for situation data:\n",
    "\n",
    "k=3\n",
    "- Accuracy = 0.6363636363636364\n",
    "- [[16  5 10]\n",
    " [ 7 10  4]\n",
    " [ 5  1 30]]\n",
    " \n",
    "k=4\n",
    "- Accuracy = 0.6477272727272727\n",
    "- [[19  3  9]\n",
    " [ 8  8  5]\n",
    " [ 5  1 30]]\n",
    "\n",
    "k=5 (Highest Accuracy)\n",
    "- Accuracy = 0.6704545454545454\n",
    "- [[19  1 11]\n",
    " [ 7  9  5]\n",
    " [ 4  1 31]]\n",
    "\n",
    "k=6\n",
    "- Accuracy = 0.6022727272727273\n",
    "- [[16  3 12]\n",
    " [ 8  9  4]\n",
    " [ 7  1 28]]\n",
    "\n",
    "k=7\n",
    "- Accuracy = 0.6477272727272727\n",
    "- [[16  4 11]\n",
    " [ 7  9  5]\n",
    " [ 2  2 32]]\n",
    "\n",
    "k=8\n",
    "- Accuracy = 0.625\n",
    "- [[14  4 13]\n",
    " [ 6 10  5]\n",
    " [ 3  2 31]]\n",
    "\n",
    "k=9\n",
    "- Accuracy = 0.6363636363636364\n",
    "- [[14  4 13]\n",
    " [ 7  9  5]\n",
    " [ 2  1 33]]\n",
    "\n",
    "k=10\n",
    "- Accuracy = 0.6363636363636364\n",
    "- [[13  4 14]\n",
    " [ 5 11  5]\n",
    " [ 2  2 32]]"
   ]
  },
  {
   "cell_type": "markdown",
   "id": "6df036b6",
   "metadata": {},
   "source": [
    "# Runs on Breed Data\n",
    "kNN runs for situation data:\n",
    "\n",
    "k=3\n",
    "- Accuracy = 0.9318181818181818\n",
    "- [[51  2]\n",
    " [ 4 31]]\n",
    "\n",
    " \n",
    "k=4 (Highest Accuracy)\n",
    "- Accuracy = 0.9545454545454546\n",
    "- [[53  0]\n",
    " [ 4 31]]\n",
    "\n",
    "k=5\n",
    "- Accuracy = 0.9090909090909091\n",
    "- [[48  5]\n",
    " [ 3 32]]\n",
    "\n",
    "k=6\n",
    "- Accuracy = 0.9318181818181818\n",
    "- [[50  3]\n",
    " [ 3 32]]\n",
    "\n",
    "k=7\n",
    "- Accuracy = 0.9090909090909091\n",
    "- [[47  6]\n",
    " [ 2 33]]\n",
    "\n",
    "k=8\n",
    "- Accuracy = 0.9090909090909091\n",
    "- [[48  5]\n",
    " [ 3 32]]\n",
    "\n",
    "k=9\n",
    "- Accuracy = 0.9090909090909091\n",
    "- [[47  6]\n",
    " [ 2 33]]\n",
    "\n",
    "k=10\n",
    "- Accuracy = 0.9090909090909091\n",
    "- [[47  6]\n",
    " [ 2 33]]"
   ]
  },
  {
   "cell_type": "markdown",
   "id": "3e98b2bd",
   "metadata": {},
   "source": [
    "# Runs on Sex Data\n",
    "kNN runs for situation data:\n",
    "\n",
    "k=3\n",
    "- Accuracy = 0.8409090909090909\n",
    "- [[65  7]\n",
    " [ 7  9]]\n",
    "\n",
    " \n",
    "k=4 (Highest Accuracy)\n",
    "- Accuracy = 0.8863636363636364\n",
    "- [[71  1]\n",
    " [ 9  7]]\n",
    "\n",
    "k=5\n",
    "- Accuracy = 0.8409090909090909\n",
    "- [[66  6]\n",
    " [ 8  8]]\n",
    "\n",
    "k=6\n",
    "- Accuracy = 0.8522727272727273\n",
    "- [[69  3]\n",
    " [10  6]]\n",
    "\n",
    "k=7\n",
    "- Accuracy = 0.8636363636363636\n",
    "- [[68  4]\n",
    " [ 8  8]]\n",
    "\n",
    "k=8\n",
    "- Accuracy = 0.8295454545454546-- \n",
    "- [[69  3]\n",
    " [12  4]]\n",
    "\n",
    "k=9\n",
    "- Accuracy = 0.8068181818181818\n",
    "- [[67  5]\n",
    " [12  4]]\n",
    "\n",
    "k=10\n",
    "- Accuracy = 0.8295454545454546\n",
    "- [[70  2]\n",
    " [13  3]]"
   ]
  },
  {
   "cell_type": "code",
   "execution_count": null,
   "id": "9a164f62",
   "metadata": {},
   "outputs": [],
   "source": []
  }
 ],
 "metadata": {
  "kernelspec": {
   "display_name": "Python 3 (ipykernel)",
   "language": "python",
   "name": "python3"
  },
  "language_info": {
   "codemirror_mode": {
    "name": "ipython",
    "version": 3
   },
   "file_extension": ".py",
   "mimetype": "text/x-python",
   "name": "python",
   "nbconvert_exporter": "python",
   "pygments_lexer": "ipython3",
   "version": "3.11.4"
  }
 },
 "nbformat": 4,
 "nbformat_minor": 5
}
