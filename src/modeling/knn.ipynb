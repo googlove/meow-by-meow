{
 "cells": [
  {
   "cell_type": "markdown",
   "id": "8c024993-3dc6-4e45-a84a-86b6114cd3d2",
   "metadata": {},
   "source": [
    "# K Nearest Neighbors Model\n",
    "\n",
    "A simple classification model. This notebook can be used as a template for others."
   ]
  },
  {
   "cell_type": "markdown",
   "id": "e4158f64-3d27-4324-ad8a-0ec0d912a8fb",
   "metadata": {},
   "source": [
    "# Imports"
   ]
  },
  {
   "cell_type": "code",
   "execution_count": 9,
   "id": "4933dd40-154e-4b37-919e-1186e0bfaee9",
   "metadata": {
    "tags": []
   },
   "outputs": [],
   "source": [
    "## Standard imports\n",
    "\n",
    "import pandas as pd\n",
    "import numpy as np\n",
    "import matplotlib.pyplot as plt\n",
    "from seaborn import set_style\n",
    "\n",
    "set_style(\"whitegrid\")"
   ]
  },
  {
   "cell_type": "code",
   "execution_count": 10,
   "id": "54fbbc65-3a40-4292-927b-d81556bcc087",
   "metadata": {},
   "outputs": [],
   "source": [
    "## More specific imports for this notebook\n",
    "\n",
    "import joblib ## For saving trained models\n",
    "from sklearn.neighbors import KNeighborsClassifier ## Import the model here\n",
    "from sklearn.model_selection import train_test_split ## Import train_test_split\n",
    "from sklearn.metrics import confusion_matrix ## Import confusion_matrix"
   ]
  },
  {
   "cell_type": "markdown",
   "id": "284d3823-0954-4a52-83f4-224e3254c91f",
   "metadata": {},
   "source": [
    "# Initial Settings"
   ]
  },
  {
   "cell_type": "code",
   "execution_count": 11,
   "id": "f9334a96-3204-4258-971e-60c289f2e455",
   "metadata": {
    "tags": []
   },
   "outputs": [],
   "source": [
    "data_fp = '../../data/processed_data/specgram_db.npy' ## Import raw wave data"
   ]
  },
  {
   "cell_type": "markdown",
   "id": "4f783dab-7d2d-4212-9d88-9c7c39f5f04b",
   "metadata": {},
   "source": [
    "# Load Data"
   ]
  },
  {
   "cell_type": "code",
   "execution_count": 17,
   "id": "c904eb8a-a852-4c4b-8d20-50c64b1af0aa",
   "metadata": {
    "tags": []
   },
   "outputs": [
    {
     "name": "stdout",
     "output_type": "stream",
     "text": [
      "[30.929146 32.63786  24.906853 ... -1.       -1.       -1.      ]\n"
     ]
    }
   ],
   "source": [
    "# Load data (currently without classifications attached)\n",
    "x_data = np.array(np.load(data_fp))\n",
    "\n",
    "## x_data currently contains 2-dim array entries\n",
    "## We transform these to vectors in order to use KNeighborsClassification\n",
    "temp_data = []\n",
    "for x in x_data:\n",
    "    temp_data.append(x.flatten())\n",
    "x_data = temp_data\n",
    "print(x_data[0])"
   ]
  },
  {
   "cell_type": "code",
   "execution_count": 82,
   "id": "d56df366-ceea-47c9-81f8-68709c7d7274",
   "metadata": {
    "tags": []
   },
   "outputs": [],
   "source": [
    "# Classifications actual classifications\n",
    "## For now, this is a random list\n",
    "rng = np.random.default_rng(seed=12987)\n",
    "y_data = rng.integers(0, 3, size=len(x_data))"
   ]
  },
  {
   "cell_type": "markdown",
   "id": "fb7a4cf4-ce25-4cdf-a377-502953c28ce2",
   "metadata": {},
   "source": [
    "# Train-Test Split"
   ]
  },
  {
   "cell_type": "code",
   "execution_count": 90,
   "id": "f3a19c93-f256-492e-8786-b9df10416b57",
   "metadata": {
    "tags": []
   },
   "outputs": [],
   "source": [
    "## Set up the train test split\n",
    "\n",
    "# Use these variables to automate saving runs with different filesnames\n",
    "test_size = 1/5\n",
    "random_state = 440\n",
    "x_train, x_test, y_train, y_test = train_test_split(x_data.copy(), y_data,\n",
    "                                        shuffle = True,\n",
    "                                        random_state = 440,\n",
    "                                        test_size=test_size)"
   ]
  },
  {
   "cell_type": "markdown",
   "id": "cc27b67a-e1fe-4101-a596-2b92ff585e16",
   "metadata": {},
   "source": [
    "# Fit Model"
   ]
  },
  {
   "cell_type": "code",
   "execution_count": 116,
   "id": "0d1b4f7b",
   "metadata": {
    "tags": []
   },
   "outputs": [
    {
     "data": {
      "text/html": [
       "<style>#sk-container-id-4 {color: black;}#sk-container-id-4 pre{padding: 0;}#sk-container-id-4 div.sk-toggleable {background-color: white;}#sk-container-id-4 label.sk-toggleable__label {cursor: pointer;display: block;width: 100%;margin-bottom: 0;padding: 0.3em;box-sizing: border-box;text-align: center;}#sk-container-id-4 label.sk-toggleable__label-arrow:before {content: \"▸\";float: left;margin-right: 0.25em;color: #696969;}#sk-container-id-4 label.sk-toggleable__label-arrow:hover:before {color: black;}#sk-container-id-4 div.sk-estimator:hover label.sk-toggleable__label-arrow:before {color: black;}#sk-container-id-4 div.sk-toggleable__content {max-height: 0;max-width: 0;overflow: hidden;text-align: left;background-color: #f0f8ff;}#sk-container-id-4 div.sk-toggleable__content pre {margin: 0.2em;color: black;border-radius: 0.25em;background-color: #f0f8ff;}#sk-container-id-4 input.sk-toggleable__control:checked~div.sk-toggleable__content {max-height: 200px;max-width: 100%;overflow: auto;}#sk-container-id-4 input.sk-toggleable__control:checked~label.sk-toggleable__label-arrow:before {content: \"▾\";}#sk-container-id-4 div.sk-estimator input.sk-toggleable__control:checked~label.sk-toggleable__label {background-color: #d4ebff;}#sk-container-id-4 div.sk-label input.sk-toggleable__control:checked~label.sk-toggleable__label {background-color: #d4ebff;}#sk-container-id-4 input.sk-hidden--visually {border: 0;clip: rect(1px 1px 1px 1px);clip: rect(1px, 1px, 1px, 1px);height: 1px;margin: -1px;overflow: hidden;padding: 0;position: absolute;width: 1px;}#sk-container-id-4 div.sk-estimator {font-family: monospace;background-color: #f0f8ff;border: 1px dotted black;border-radius: 0.25em;box-sizing: border-box;margin-bottom: 0.5em;}#sk-container-id-4 div.sk-estimator:hover {background-color: #d4ebff;}#sk-container-id-4 div.sk-parallel-item::after {content: \"\";width: 100%;border-bottom: 1px solid gray;flex-grow: 1;}#sk-container-id-4 div.sk-label:hover label.sk-toggleable__label {background-color: #d4ebff;}#sk-container-id-4 div.sk-serial::before {content: \"\";position: absolute;border-left: 1px solid gray;box-sizing: border-box;top: 0;bottom: 0;left: 50%;z-index: 0;}#sk-container-id-4 div.sk-serial {display: flex;flex-direction: column;align-items: center;background-color: white;padding-right: 0.2em;padding-left: 0.2em;position: relative;}#sk-container-id-4 div.sk-item {position: relative;z-index: 1;}#sk-container-id-4 div.sk-parallel {display: flex;align-items: stretch;justify-content: center;background-color: white;position: relative;}#sk-container-id-4 div.sk-item::before, #sk-container-id-4 div.sk-parallel-item::before {content: \"\";position: absolute;border-left: 1px solid gray;box-sizing: border-box;top: 0;bottom: 0;left: 50%;z-index: -1;}#sk-container-id-4 div.sk-parallel-item {display: flex;flex-direction: column;z-index: 1;position: relative;background-color: white;}#sk-container-id-4 div.sk-parallel-item:first-child::after {align-self: flex-end;width: 50%;}#sk-container-id-4 div.sk-parallel-item:last-child::after {align-self: flex-start;width: 50%;}#sk-container-id-4 div.sk-parallel-item:only-child::after {width: 0;}#sk-container-id-4 div.sk-dashed-wrapped {border: 1px dashed gray;margin: 0 0.4em 0.5em 0.4em;box-sizing: border-box;padding-bottom: 0.4em;background-color: white;}#sk-container-id-4 div.sk-label label {font-family: monospace;font-weight: bold;display: inline-block;line-height: 1.2em;}#sk-container-id-4 div.sk-label-container {text-align: center;}#sk-container-id-4 div.sk-container {/* jupyter's `normalize.less` sets `[hidden] { display: none; }` but bootstrap.min.css set `[hidden] { display: none !important; }` so we also need the `!important` here to be able to override the default hidden behavior on the sphinx rendered scikit-learn.org. See: https://github.com/scikit-learn/scikit-learn/issues/21755 */display: inline-block !important;position: relative;}#sk-container-id-4 div.sk-text-repr-fallback {display: none;}</style><div id=\"sk-container-id-4\" class=\"sk-top-container\"><div class=\"sk-text-repr-fallback\"><pre>KNeighborsClassifier()</pre><b>In a Jupyter environment, please rerun this cell to show the HTML representation or trust the notebook. <br />On GitHub, the HTML representation is unable to render, please try loading this page with nbviewer.org.</b></div><div class=\"sk-container\" hidden><div class=\"sk-item\"><div class=\"sk-estimator sk-toggleable\"><input class=\"sk-toggleable__control sk-hidden--visually\" id=\"sk-estimator-id-4\" type=\"checkbox\" checked><label for=\"sk-estimator-id-4\" class=\"sk-toggleable__label sk-toggleable__label-arrow\">KNeighborsClassifier</label><div class=\"sk-toggleable__content\"><pre>KNeighborsClassifier()</pre></div></div></div></div></div>"
      ],
      "text/plain": [
       "KNeighborsClassifier()"
      ]
     },
     "execution_count": 116,
     "metadata": {},
     "output_type": "execute_result"
    }
   ],
   "source": [
    "## Use this variable to automate saving runs with different filesnames\n",
    "k = 5\n",
    "\n",
    "## Make the model object\n",
    "knn = KNeighborsClassifier(k)\n",
    "\n",
    "## \"Fit\" the model object\n",
    "knn.fit(x_train, y_train)"
   ]
  },
  {
   "cell_type": "markdown",
   "id": "eb60a12a-ff3e-4fc5-b304-12fa19276e3a",
   "metadata": {},
   "source": [
    "# Assess Model Performance\n",
    "Do things like test accuracy, etc."
   ]
  },
  {
   "cell_type": "code",
   "execution_count": 117,
   "id": "42fd80c0-7243-4a3d-97d2-7678a1fe90ac",
   "metadata": {
    "tags": []
   },
   "outputs": [],
   "source": [
    "## predict on the training set\n",
    "y_test_pred = knn.predict(x_test)\n",
    "\n",
    "## Compute confusion matrix for model\n",
    "conf_mat = confusion_matrix(y_test, y_test_pred)\n",
    "\n",
    "## Compute accuracy for the model\n",
    "acc = 0\n",
    "for i in range(0,len(conf_mat[0])):\n",
    "    acc += conf_mat[i][i]/len(y_test)\n",
    "\n",
    "## Compute precisions and recalls for model\n",
    "prec_vec, recall_vec = [], []\n",
    "for i in range(0,len(conf_mat[0])):\n",
    "    prec_vec.append(conf_mat[i][i] / sum(conf_mat[i,:]))\n",
    "    recall_vec.append(conf_mat[i][i] / sum(conf_mat[:,i]))"
   ]
  },
  {
   "cell_type": "markdown",
   "id": "1eb0e7c2-3c63-48a6-b96c-ab7bb1317266",
   "metadata": {},
   "source": [
    "# Save Trained Model"
   ]
  },
  {
   "cell_type": "code",
   "execution_count": 118,
   "id": "facfb78f-2b82-46a7-9a9c-66e3fd76a14c",
   "metadata": {
    "tags": []
   },
   "outputs": [
    {
     "name": "stdout",
     "output_type": "stream",
     "text": [
      "../../data/trained_models/k5s0.2r440.pkl\n"
     ]
    },
    {
     "data": {
      "text/plain": [
       "['../../data/trained_models/k5s0.2r440.pkl']"
      ]
     },
     "execution_count": 118,
     "metadata": {},
     "output_type": "execute_result"
    }
   ],
   "source": [
    "# Build model_filename based on characteristics of test\n",
    "\n",
    "model_filename = '../../data/trained_models/' ## Save location destination\n",
    "model_filename += ('k'+str(k)) ## Save k-value used for model\n",
    "model_filename += ('s'+str(test_size)) ## Save test_size used for train test split\n",
    "model_filename += ('r'+str(random_state)) ## Save random_state used for train test split\n",
    "model_filename += '.pkl'\n",
    "print(model_filename)\n",
    "\n",
    "# Save the model to disk\n",
    "joblib.dump(knn, model_filename)"
   ]
  },
  {
   "cell_type": "markdown",
   "id": "198e3164",
   "metadata": {},
   "source": [
    "# Save Diagnostic Analysis"
   ]
  },
  {
   "cell_type": "code",
   "execution_count": 111,
   "id": "86ffdda3",
   "metadata": {},
   "outputs": [],
   "source": [
    "## Save the previously computed diagnostic data associated to this model\n",
    "\n",
    "## Create a filename that corresponds to that of the model\n",
    "data_filename = '../../data/trained_models/'\n",
    "data_filename += ('k'+str(k)) ## Save k-value used for model\n",
    "data_filename += ('s'+str(test_size)) ## Save test_size used for train test split\n",
    "data_filename += ('r'+str(random_state)) ## Save random_state used for train test split\n",
    "\n",
    "## Save the confusion matrix and all other desired data plots\n",
    "\n",
    "## NOTE FOR LATER: Using k as a free parameter, create diagnostic plots"
   ]
  },
  {
   "cell_type": "code",
   "execution_count": null,
   "id": "e4589305",
   "metadata": {},
   "outputs": [],
   "source": []
  }
 ],
 "metadata": {
  "kernelspec": {
   "display_name": "Python 3 (ipykernel)",
   "language": "python",
   "name": "python3"
  },
  "language_info": {
   "codemirror_mode": {
    "name": "ipython",
    "version": 3
   },
   "file_extension": ".py",
   "mimetype": "text/x-python",
   "name": "python",
   "nbconvert_exporter": "python",
   "pygments_lexer": "ipython3",
   "version": "3.11.4"
  }
 },
 "nbformat": 4,
 "nbformat_minor": 5
}
