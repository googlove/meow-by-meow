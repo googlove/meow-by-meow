{
 "cells": [
  {
   "cell_type": "markdown",
   "id": "8c024993-3dc6-4e45-a84a-86b6114cd3d2",
   "metadata": {},
   "source": [
    "# K Nearest Neighbors Model\n",
    "\n",
    "A simple classification model. This notebook can be used as a template for others."
   ]
  },
  {
   "cell_type": "markdown",
   "id": "e4158f64-3d27-4324-ad8a-0ec0d912a8fb",
   "metadata": {},
   "source": [
    "# Imports"
   ]
  },
  {
   "cell_type": "code",
   "execution_count": null,
   "id": "4933dd40-154e-4b37-919e-1186e0bfaee9",
   "metadata": {
    "tags": []
   },
   "outputs": [],
   "source": [
    "import pandas as pd\n",
    "import numpy as np\n",
    "import matplotlib.pyplot as plt\n",
    "from seaborn import set_style\n",
    "\n",
    "set_style(\"whitegrid\")"
   ]
  },
  {
   "cell_type": "code",
   "execution_count": null,
   "id": "54fbbc65-3a40-4292-927b-d81556bcc087",
   "metadata": {},
   "outputs": [],
   "source": [
    "# For saving trained models\n",
    "import joblib"
   ]
  },
  {
   "cell_type": "code",
   "execution_count": null,
   "id": "0f320a7e",
   "metadata": {
    "tags": []
   },
   "outputs": [],
   "source": [
    "## import here\n",
    "from sklearn.neighbors import KNeighborsClassifier"
   ]
  },
  {
   "cell_type": "code",
   "execution_count": null,
   "id": "9251fc7b",
   "metadata": {
    "tags": []
   },
   "outputs": [],
   "source": [
    "## import train_test_split\n",
    "from sklearn.model_selection import train_test_split"
   ]
  },
  {
   "cell_type": "markdown",
   "id": "284d3823-0954-4a52-83f4-224e3254c91f",
   "metadata": {},
   "source": [
    "# Settings"
   ]
  },
  {
   "cell_type": "code",
   "execution_count": null,
   "id": "f9334a96-3204-4258-971e-60c289f2e455",
   "metadata": {
    "tags": []
   },
   "outputs": [],
   "source": [
    "data_fp = '../../data/processed_data/raw_wav.npy'"
   ]
  },
  {
   "cell_type": "code",
   "execution_count": null,
   "id": "d638c944-3049-4fcf-9d73-bd8c3c834d7f",
   "metadata": {},
   "outputs": [],
   "source": [
    "model_filename = '../../data/trained_models/knn.pkl'"
   ]
  },
  {
   "cell_type": "markdown",
   "id": "4f783dab-7d2d-4212-9d88-9c7c39f5f04b",
   "metadata": {},
   "source": [
    "# Load Data"
   ]
  },
  {
   "cell_type": "code",
   "execution_count": null,
   "id": "c904eb8a-a852-4c4b-8d20-50c64b1af0aa",
   "metadata": {
    "tags": []
   },
   "outputs": [],
   "source": [
    "# Load data\n",
    "x_data = np.load(data_fp)"
   ]
  },
  {
   "cell_type": "code",
   "execution_count": null,
   "id": "d56df366-ceea-47c9-81f8-68709c7d7274",
   "metadata": {
    "tags": []
   },
   "outputs": [],
   "source": [
    "# Simulate y classifications\n",
    "# TODO: Replace this with actual classifications\n",
    "rng = np.random.default_rng(seed=12987)\n",
    "y_data = rng.integers(0, 3, size=len(x_data))"
   ]
  },
  {
   "cell_type": "markdown",
   "id": "fb7a4cf4-ce25-4cdf-a377-502953c28ce2",
   "metadata": {},
   "source": [
    "# Train-Test Split"
   ]
  },
  {
   "cell_type": "code",
   "execution_count": null,
   "id": "f3a19c93-f256-492e-8786-b9df10416b57",
   "metadata": {
    "tags": []
   },
   "outputs": [],
   "source": [
    "x_train, x_test, y_train, y_test = train_test_split(x_data.copy(), y_data,\n",
    "                                        shuffle = True,\n",
    "                                        random_state = 440,\n",
    "                                        test_size=.2)"
   ]
  },
  {
   "cell_type": "markdown",
   "id": "cc27b67a-e1fe-4101-a596-2b92ff585e16",
   "metadata": {},
   "source": [
    "# Fit Model"
   ]
  },
  {
   "cell_type": "code",
   "execution_count": null,
   "id": "0d1b4f7b",
   "metadata": {
    "tags": []
   },
   "outputs": [],
   "source": [
    "## make the model object\n",
    "knn = KNeighborsClassifier(5)\n",
    "\n",
    "## \"fit\" the model object\n",
    "knn.fit(x_train, y_train)\n"
   ]
  },
  {
   "cell_type": "markdown",
   "id": "eb60a12a-ff3e-4fc5-b304-12fa19276e3a",
   "metadata": {},
   "source": [
    "# Assess Model Performance\n",
    "Do things like test accuracy, etc."
   ]
  },
  {
   "cell_type": "code",
   "execution_count": null,
   "id": "42fd80c0-7243-4a3d-97d2-7678a1fe90ac",
   "metadata": {
    "tags": []
   },
   "outputs": [],
   "source": [
    "## predict on the training set\n",
    "y_pred = knn.predict(x_test)"
   ]
  },
  {
   "cell_type": "markdown",
   "id": "1eb0e7c2-3c63-48a6-b96c-ab7bb1317266",
   "metadata": {},
   "source": [
    "# Save Trained Model"
   ]
  },
  {
   "cell_type": "code",
   "execution_count": null,
   "id": "facfb78f-2b82-46a7-9a9c-66e3fd76a14c",
   "metadata": {
    "tags": []
   },
   "outputs": [],
   "source": [
    "# Save the model to disk\n",
    "joblib.dump(knn, model_filename)"
   ]
  }
 ],
 "metadata": {
  "kernelspec": {
   "display_name": "Python 3 (ipykernel)",
   "language": "python",
   "name": "python3"
  },
  "language_info": {
   "codemirror_mode": {
    "name": "ipython",
    "version": 3
   },
   "file_extension": ".py",
   "mimetype": "text/x-python",
   "name": "python",
   "nbconvert_exporter": "python",
   "pygments_lexer": "ipython3",
   "version": "3.11.5"
  }
 },
 "nbformat": 4,
 "nbformat_minor": 5
}
