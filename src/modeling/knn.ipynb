{
 "cells": [
  {
   "cell_type": "markdown",
   "id": "8c024993-3dc6-4e45-a84a-86b6114cd3d2",
   "metadata": {},
   "source": [
    "# K Nearest Neighbors Model\n",
    "\n",
    "A simple classification model. This notebook can be used as a template for others.\n",
    "\n",
    "Remark from Will: I may later go through the process of doing some diagnostic plots, but working a little with the numbers it is already quite clear that at least when test_size = 1/5, k=6 is the optimal choice; it obtains not only the best accuracy, but also obtains optimal values for 2/3 recall values and 2/3 precision values. Thus it is substantially better. The accuracy of this optimal model is 0.716. With a little experimentation, test_size = 1/5 also seems to avoid overfitting."
   ]
  },
  {
   "cell_type": "markdown",
   "id": "e4158f64-3d27-4324-ad8a-0ec0d912a8fb",
   "metadata": {},
   "source": [
    "# Imports"
   ]
  },
  {
   "cell_type": "code",
   "execution_count": 40,
   "id": "4933dd40-154e-4b37-919e-1186e0bfaee9",
   "metadata": {
    "tags": []
   },
   "outputs": [],
   "source": [
    "## Standard imports\n",
    "\n",
    "import pandas as pd\n",
    "import numpy as np\n",
    "import matplotlib.pyplot as plt\n",
    "from seaborn import set_style\n",
    "import csv\n",
    "\n",
    "set_style(\"whitegrid\")"
   ]
  },
  {
   "cell_type": "code",
   "execution_count": 41,
   "id": "54fbbc65-3a40-4292-927b-d81556bcc087",
   "metadata": {},
   "outputs": [],
   "source": [
    "## More specific imports for this notebook\n",
    "\n",
    "import joblib ## For saving trained models\n",
    "from sklearn.neighbors import KNeighborsClassifier ## Import the model here\n",
    "from sklearn.model_selection import train_test_split ## Import train_test_split\n",
    "from sklearn.metrics import confusion_matrix ## Import confusion_matrix\n",
    "from sklearn.metrics import accuracy_score"
   ]
  },
  {
   "cell_type": "markdown",
   "id": "284d3823-0954-4a52-83f4-224e3254c91f",
   "metadata": {},
   "source": [
    "# Initial Settings"
   ]
  },
  {
   "cell_type": "code",
   "execution_count": 42,
   "id": "f9334a96-3204-4258-971e-60c289f2e455",
   "metadata": {
    "tags": []
   },
   "outputs": [],
   "source": [
    "data_fp = '../../data/processed_data/specgram_aug_Fretim_mask.npy' ## Import raw wave data"
   ]
  },
  {
   "cell_type": "markdown",
   "id": "4f783dab-7d2d-4212-9d88-9c7c39f5f04b",
   "metadata": {},
   "source": [
    "# Load Data"
   ]
  },
  {
   "cell_type": "code",
   "execution_count": 51,
   "id": "c904eb8a-a852-4c4b-8d20-50c64b1af0aa",
   "metadata": {
    "tags": []
   },
   "outputs": [],
   "source": [
    "# Load data (currently without classifications attached)\n",
    "x_data = np.load(data_fp)\n",
    "\n",
    "#Flatten the 2-dim matrices into vectors for the kNN\n",
    "X = []\n",
    "for x in x_data:\n",
    "    X.append(x.flatten())"
   ]
  },
  {
   "cell_type": "code",
   "execution_count": 60,
   "id": "aa09663a",
   "metadata": {},
   "outputs": [
    {
     "ename": "TypeError",
     "evalue": "'dict' object is not callable",
     "output_type": "error",
     "traceback": [
      "\u001b[1;31m---------------------------------------------------------------------------\u001b[0m",
      "\u001b[1;31mTypeError\u001b[0m                                 Traceback (most recent call last)",
      "Cell \u001b[1;32mIn[60], line 13\u001b[0m\n\u001b[0;32m     11\u001b[0m model_type \u001b[38;5;241m=\u001b[39m \u001b[38;5;124m'\u001b[39m\u001b[38;5;124msituation\u001b[39m\u001b[38;5;124m'\u001b[39m\n\u001b[0;32m     12\u001b[0m category_to_number \u001b[38;5;241m=\u001b[39m breed_and_situation_to_number\n\u001b[1;32m---> 13\u001b[0m df[\u001b[38;5;124m'\u001b[39m\u001b[38;5;124mnumerical_\u001b[39m\u001b[38;5;124m'\u001b[39m\u001b[38;5;241m+\u001b[39mmodel_type] \u001b[38;5;241m=\u001b[39m \u001b[38;5;28mlist\u001b[39m(\u001b[38;5;28mmap\u001b[39m(category_to_number, df[model_type]))\n\u001b[0;32m     15\u001b[0m y \u001b[38;5;241m=\u001b[39m df[\u001b[38;5;124m'\u001b[39m\u001b[38;5;124mnumerical_\u001b[39m\u001b[38;5;124m'\u001b[39m\u001b[38;5;241m+\u001b[39mmodel_type]\n",
      "\u001b[1;31mTypeError\u001b[0m: 'dict' object is not callable"
     ]
    }
   ],
   "source": [
    "df = pd.read_csv(\"../../data/processed_data/metadatadata.csv\")\n",
    "\n",
    "situation_to_number = {'brushing': 0, 'food': 1, 'isolation': 2}\n",
    "breed_to_number = {'european_shorthair': 0, 'maine_coon': 1}\n",
    "sex_to_number = {0:0, 1:1} ## Sex already transfered to number; this is for uniformity of the code\n",
    "breed_and_situation_to_number = {'brushing_and_european_shorthair': 0, 'brushing_and_maine_coon': 1,\n",
    "                    'food_and_european_shorthair': 2, 'food_and_maine_coon': 3,\n",
    "                    'isolation_and_european_shorthair': 4, 'isolation_and_maine_coon': 5} ## Use for Bayesian study\n",
    "\n",
    "map(breed_to_number, df['situation'])\n",
    "\n",
    "## Create a new column with numerical values based on the mapping\n",
    "model_type = 'situation'\n",
    "category_to_number = breed_and_situation_to_number\n",
    "df['numerical_'+model_type] = df[model_type].map(category_to_number)\n",
    "\n",
    "y = df['numerical_'+model_type]"
   ]
  },
  {
   "cell_type": "markdown",
   "id": "fb7a4cf4-ce25-4cdf-a377-502953c28ce2",
   "metadata": {},
   "source": [
    "# Train-Test Split"
   ]
  },
  {
   "cell_type": "code",
   "execution_count": 46,
   "id": "f3a19c93-f256-492e-8786-b9df10416b57",
   "metadata": {
    "tags": []
   },
   "outputs": [],
   "source": [
    "## Set up the train test split\n",
    "\n",
    "# Use these variables to automate saving runs with different filesnames\n",
    "test_size = 1/5\n",
    "random_state = 440\n",
    "x_train, x_test, y_train, y_test = train_test_split(X.copy(), y,\n",
    "                                        shuffle = True,\n",
    "                                        random_state = random_state,\n",
    "                                        test_size=test_size)"
   ]
  },
  {
   "cell_type": "markdown",
   "id": "cc27b67a-e1fe-4101-a596-2b92ff585e16",
   "metadata": {},
   "source": [
    "# Fit Model"
   ]
  },
  {
   "cell_type": "code",
   "execution_count": 47,
   "id": "0d1b4f7b",
   "metadata": {
    "tags": []
   },
   "outputs": [
    {
     "ename": "ValueError",
     "evalue": "Input y contains NaN.",
     "output_type": "error",
     "traceback": [
      "\u001b[1;31m---------------------------------------------------------------------------\u001b[0m",
      "\u001b[1;31mValueError\u001b[0m                                Traceback (most recent call last)",
      "Cell \u001b[1;32mIn[47], line 8\u001b[0m\n\u001b[0;32m      5\u001b[0m knn \u001b[38;5;241m=\u001b[39m KNeighborsClassifier(k)\n\u001b[0;32m      7\u001b[0m \u001b[38;5;66;03m## \"Fit\" the model object\u001b[39;00m\n\u001b[1;32m----> 8\u001b[0m knn\u001b[38;5;241m.\u001b[39mfit(x_train, y_train)\n",
      "File \u001b[1;32m~\\anaconda3\\Lib\\site-packages\\sklearn\\base.py:1151\u001b[0m, in \u001b[0;36m_fit_context.<locals>.decorator.<locals>.wrapper\u001b[1;34m(estimator, *args, **kwargs)\u001b[0m\n\u001b[0;32m   1144\u001b[0m     estimator\u001b[38;5;241m.\u001b[39m_validate_params()\n\u001b[0;32m   1146\u001b[0m \u001b[38;5;28;01mwith\u001b[39;00m config_context(\n\u001b[0;32m   1147\u001b[0m     skip_parameter_validation\u001b[38;5;241m=\u001b[39m(\n\u001b[0;32m   1148\u001b[0m         prefer_skip_nested_validation \u001b[38;5;129;01mor\u001b[39;00m global_skip_validation\n\u001b[0;32m   1149\u001b[0m     )\n\u001b[0;32m   1150\u001b[0m ):\n\u001b[1;32m-> 1151\u001b[0m     \u001b[38;5;28;01mreturn\u001b[39;00m fit_method(estimator, \u001b[38;5;241m*\u001b[39margs, \u001b[38;5;241m*\u001b[39m\u001b[38;5;241m*\u001b[39mkwargs)\n",
      "File \u001b[1;32m~\\anaconda3\\Lib\\site-packages\\sklearn\\neighbors\\_classification.py:228\u001b[0m, in \u001b[0;36mKNeighborsClassifier.fit\u001b[1;34m(self, X, y)\u001b[0m\n\u001b[0;32m    206\u001b[0m \u001b[38;5;129m@_fit_context\u001b[39m(\n\u001b[0;32m    207\u001b[0m     \u001b[38;5;66;03m# KNeighborsClassifier.metric is not validated yet\u001b[39;00m\n\u001b[0;32m    208\u001b[0m     prefer_skip_nested_validation\u001b[38;5;241m=\u001b[39m\u001b[38;5;28;01mFalse\u001b[39;00m\n\u001b[0;32m    209\u001b[0m )\n\u001b[0;32m    210\u001b[0m \u001b[38;5;28;01mdef\u001b[39;00m \u001b[38;5;21mfit\u001b[39m(\u001b[38;5;28mself\u001b[39m, X, y):\n\u001b[0;32m    211\u001b[0m \u001b[38;5;250m    \u001b[39m\u001b[38;5;124;03m\"\"\"Fit the k-nearest neighbors classifier from the training dataset.\u001b[39;00m\n\u001b[0;32m    212\u001b[0m \n\u001b[0;32m    213\u001b[0m \u001b[38;5;124;03m    Parameters\u001b[39;00m\n\u001b[1;32m   (...)\u001b[0m\n\u001b[0;32m    226\u001b[0m \u001b[38;5;124;03m        The fitted k-nearest neighbors classifier.\u001b[39;00m\n\u001b[0;32m    227\u001b[0m \u001b[38;5;124;03m    \"\"\"\u001b[39;00m\n\u001b[1;32m--> 228\u001b[0m     \u001b[38;5;28;01mreturn\u001b[39;00m \u001b[38;5;28mself\u001b[39m\u001b[38;5;241m.\u001b[39m_fit(X, y)\n",
      "File \u001b[1;32m~\\anaconda3\\Lib\\site-packages\\sklearn\\neighbors\\_base.py:456\u001b[0m, in \u001b[0;36mNeighborsBase._fit\u001b[1;34m(self, X, y)\u001b[0m\n\u001b[0;32m    454\u001b[0m \u001b[38;5;28;01mif\u001b[39;00m \u001b[38;5;28mself\u001b[39m\u001b[38;5;241m.\u001b[39m_get_tags()[\u001b[38;5;124m\"\u001b[39m\u001b[38;5;124mrequires_y\u001b[39m\u001b[38;5;124m\"\u001b[39m]:\n\u001b[0;32m    455\u001b[0m     \u001b[38;5;28;01mif\u001b[39;00m \u001b[38;5;129;01mnot\u001b[39;00m \u001b[38;5;28misinstance\u001b[39m(X, (KDTree, BallTree, NeighborsBase)):\n\u001b[1;32m--> 456\u001b[0m         X, y \u001b[38;5;241m=\u001b[39m \u001b[38;5;28mself\u001b[39m\u001b[38;5;241m.\u001b[39m_validate_data(\n\u001b[0;32m    457\u001b[0m             X, y, accept_sparse\u001b[38;5;241m=\u001b[39m\u001b[38;5;124m\"\u001b[39m\u001b[38;5;124mcsr\u001b[39m\u001b[38;5;124m\"\u001b[39m, multi_output\u001b[38;5;241m=\u001b[39m\u001b[38;5;28;01mTrue\u001b[39;00m, order\u001b[38;5;241m=\u001b[39m\u001b[38;5;124m\"\u001b[39m\u001b[38;5;124mC\u001b[39m\u001b[38;5;124m\"\u001b[39m\n\u001b[0;32m    458\u001b[0m         )\n\u001b[0;32m    460\u001b[0m     \u001b[38;5;28;01mif\u001b[39;00m is_classifier(\u001b[38;5;28mself\u001b[39m):\n\u001b[0;32m    461\u001b[0m         \u001b[38;5;66;03m# Classification targets require a specific format\u001b[39;00m\n\u001b[0;32m    462\u001b[0m         \u001b[38;5;28;01mif\u001b[39;00m y\u001b[38;5;241m.\u001b[39mndim \u001b[38;5;241m==\u001b[39m \u001b[38;5;241m1\u001b[39m \u001b[38;5;129;01mor\u001b[39;00m y\u001b[38;5;241m.\u001b[39mndim \u001b[38;5;241m==\u001b[39m \u001b[38;5;241m2\u001b[39m \u001b[38;5;129;01mand\u001b[39;00m y\u001b[38;5;241m.\u001b[39mshape[\u001b[38;5;241m1\u001b[39m] \u001b[38;5;241m==\u001b[39m \u001b[38;5;241m1\u001b[39m:\n",
      "File \u001b[1;32m~\\anaconda3\\Lib\\site-packages\\sklearn\\base.py:621\u001b[0m, in \u001b[0;36mBaseEstimator._validate_data\u001b[1;34m(self, X, y, reset, validate_separately, cast_to_ndarray, **check_params)\u001b[0m\n\u001b[0;32m    619\u001b[0m         y \u001b[38;5;241m=\u001b[39m check_array(y, input_name\u001b[38;5;241m=\u001b[39m\u001b[38;5;124m\"\u001b[39m\u001b[38;5;124my\u001b[39m\u001b[38;5;124m\"\u001b[39m, \u001b[38;5;241m*\u001b[39m\u001b[38;5;241m*\u001b[39mcheck_y_params)\n\u001b[0;32m    620\u001b[0m     \u001b[38;5;28;01melse\u001b[39;00m:\n\u001b[1;32m--> 621\u001b[0m         X, y \u001b[38;5;241m=\u001b[39m check_X_y(X, y, \u001b[38;5;241m*\u001b[39m\u001b[38;5;241m*\u001b[39mcheck_params)\n\u001b[0;32m    622\u001b[0m     out \u001b[38;5;241m=\u001b[39m X, y\n\u001b[0;32m    624\u001b[0m \u001b[38;5;28;01mif\u001b[39;00m \u001b[38;5;129;01mnot\u001b[39;00m no_val_X \u001b[38;5;129;01mand\u001b[39;00m check_params\u001b[38;5;241m.\u001b[39mget(\u001b[38;5;124m\"\u001b[39m\u001b[38;5;124mensure_2d\u001b[39m\u001b[38;5;124m\"\u001b[39m, \u001b[38;5;28;01mTrue\u001b[39;00m):\n",
      "File \u001b[1;32m~\\anaconda3\\Lib\\site-packages\\sklearn\\utils\\validation.py:1163\u001b[0m, in \u001b[0;36mcheck_X_y\u001b[1;34m(X, y, accept_sparse, accept_large_sparse, dtype, order, copy, force_all_finite, ensure_2d, allow_nd, multi_output, ensure_min_samples, ensure_min_features, y_numeric, estimator)\u001b[0m\n\u001b[0;32m   1143\u001b[0m     \u001b[38;5;28;01mraise\u001b[39;00m \u001b[38;5;167;01mValueError\u001b[39;00m(\n\u001b[0;32m   1144\u001b[0m         \u001b[38;5;124mf\u001b[39m\u001b[38;5;124m\"\u001b[39m\u001b[38;5;132;01m{\u001b[39;00mestimator_name\u001b[38;5;132;01m}\u001b[39;00m\u001b[38;5;124m requires y to be passed, but the target y is None\u001b[39m\u001b[38;5;124m\"\u001b[39m\n\u001b[0;32m   1145\u001b[0m     )\n\u001b[0;32m   1147\u001b[0m X \u001b[38;5;241m=\u001b[39m check_array(\n\u001b[0;32m   1148\u001b[0m     X,\n\u001b[0;32m   1149\u001b[0m     accept_sparse\u001b[38;5;241m=\u001b[39maccept_sparse,\n\u001b[1;32m   (...)\u001b[0m\n\u001b[0;32m   1160\u001b[0m     input_name\u001b[38;5;241m=\u001b[39m\u001b[38;5;124m\"\u001b[39m\u001b[38;5;124mX\u001b[39m\u001b[38;5;124m\"\u001b[39m,\n\u001b[0;32m   1161\u001b[0m )\n\u001b[1;32m-> 1163\u001b[0m y \u001b[38;5;241m=\u001b[39m _check_y(y, multi_output\u001b[38;5;241m=\u001b[39mmulti_output, y_numeric\u001b[38;5;241m=\u001b[39my_numeric, estimator\u001b[38;5;241m=\u001b[39mestimator)\n\u001b[0;32m   1165\u001b[0m check_consistent_length(X, y)\n\u001b[0;32m   1167\u001b[0m \u001b[38;5;28;01mreturn\u001b[39;00m X, y\n",
      "File \u001b[1;32m~\\anaconda3\\Lib\\site-packages\\sklearn\\utils\\validation.py:1173\u001b[0m, in \u001b[0;36m_check_y\u001b[1;34m(y, multi_output, y_numeric, estimator)\u001b[0m\n\u001b[0;32m   1171\u001b[0m \u001b[38;5;250m\u001b[39m\u001b[38;5;124;03m\"\"\"Isolated part of check_X_y dedicated to y validation\"\"\"\u001b[39;00m\n\u001b[0;32m   1172\u001b[0m \u001b[38;5;28;01mif\u001b[39;00m multi_output:\n\u001b[1;32m-> 1173\u001b[0m     y \u001b[38;5;241m=\u001b[39m check_array(\n\u001b[0;32m   1174\u001b[0m         y,\n\u001b[0;32m   1175\u001b[0m         accept_sparse\u001b[38;5;241m=\u001b[39m\u001b[38;5;124m\"\u001b[39m\u001b[38;5;124mcsr\u001b[39m\u001b[38;5;124m\"\u001b[39m,\n\u001b[0;32m   1176\u001b[0m         force_all_finite\u001b[38;5;241m=\u001b[39m\u001b[38;5;28;01mTrue\u001b[39;00m,\n\u001b[0;32m   1177\u001b[0m         ensure_2d\u001b[38;5;241m=\u001b[39m\u001b[38;5;28;01mFalse\u001b[39;00m,\n\u001b[0;32m   1178\u001b[0m         dtype\u001b[38;5;241m=\u001b[39m\u001b[38;5;28;01mNone\u001b[39;00m,\n\u001b[0;32m   1179\u001b[0m         input_name\u001b[38;5;241m=\u001b[39m\u001b[38;5;124m\"\u001b[39m\u001b[38;5;124my\u001b[39m\u001b[38;5;124m\"\u001b[39m,\n\u001b[0;32m   1180\u001b[0m         estimator\u001b[38;5;241m=\u001b[39mestimator,\n\u001b[0;32m   1181\u001b[0m     )\n\u001b[0;32m   1182\u001b[0m \u001b[38;5;28;01melse\u001b[39;00m:\n\u001b[0;32m   1183\u001b[0m     estimator_name \u001b[38;5;241m=\u001b[39m _check_estimator_name(estimator)\n",
      "File \u001b[1;32m~\\anaconda3\\Lib\\site-packages\\sklearn\\utils\\validation.py:959\u001b[0m, in \u001b[0;36mcheck_array\u001b[1;34m(array, accept_sparse, accept_large_sparse, dtype, order, copy, force_all_finite, ensure_2d, allow_nd, ensure_min_samples, ensure_min_features, estimator, input_name)\u001b[0m\n\u001b[0;32m    953\u001b[0m         \u001b[38;5;28;01mraise\u001b[39;00m \u001b[38;5;167;01mValueError\u001b[39;00m(\n\u001b[0;32m    954\u001b[0m             \u001b[38;5;124m\"\u001b[39m\u001b[38;5;124mFound array with dim \u001b[39m\u001b[38;5;132;01m%d\u001b[39;00m\u001b[38;5;124m. \u001b[39m\u001b[38;5;132;01m%s\u001b[39;00m\u001b[38;5;124m expected <= 2.\u001b[39m\u001b[38;5;124m\"\u001b[39m\n\u001b[0;32m    955\u001b[0m             \u001b[38;5;241m%\u001b[39m (array\u001b[38;5;241m.\u001b[39mndim, estimator_name)\n\u001b[0;32m    956\u001b[0m         )\n\u001b[0;32m    958\u001b[0m     \u001b[38;5;28;01mif\u001b[39;00m force_all_finite:\n\u001b[1;32m--> 959\u001b[0m         _assert_all_finite(\n\u001b[0;32m    960\u001b[0m             array,\n\u001b[0;32m    961\u001b[0m             input_name\u001b[38;5;241m=\u001b[39minput_name,\n\u001b[0;32m    962\u001b[0m             estimator_name\u001b[38;5;241m=\u001b[39mestimator_name,\n\u001b[0;32m    963\u001b[0m             allow_nan\u001b[38;5;241m=\u001b[39mforce_all_finite \u001b[38;5;241m==\u001b[39m \u001b[38;5;124m\"\u001b[39m\u001b[38;5;124mallow-nan\u001b[39m\u001b[38;5;124m\"\u001b[39m,\n\u001b[0;32m    964\u001b[0m         )\n\u001b[0;32m    966\u001b[0m \u001b[38;5;28;01mif\u001b[39;00m ensure_min_samples \u001b[38;5;241m>\u001b[39m \u001b[38;5;241m0\u001b[39m:\n\u001b[0;32m    967\u001b[0m     n_samples \u001b[38;5;241m=\u001b[39m _num_samples(array)\n",
      "File \u001b[1;32m~\\anaconda3\\Lib\\site-packages\\sklearn\\utils\\validation.py:124\u001b[0m, in \u001b[0;36m_assert_all_finite\u001b[1;34m(X, allow_nan, msg_dtype, estimator_name, input_name)\u001b[0m\n\u001b[0;32m    121\u001b[0m \u001b[38;5;28;01mif\u001b[39;00m first_pass_isfinite:\n\u001b[0;32m    122\u001b[0m     \u001b[38;5;28;01mreturn\u001b[39;00m\n\u001b[1;32m--> 124\u001b[0m _assert_all_finite_element_wise(\n\u001b[0;32m    125\u001b[0m     X,\n\u001b[0;32m    126\u001b[0m     xp\u001b[38;5;241m=\u001b[39mxp,\n\u001b[0;32m    127\u001b[0m     allow_nan\u001b[38;5;241m=\u001b[39mallow_nan,\n\u001b[0;32m    128\u001b[0m     msg_dtype\u001b[38;5;241m=\u001b[39mmsg_dtype,\n\u001b[0;32m    129\u001b[0m     estimator_name\u001b[38;5;241m=\u001b[39mestimator_name,\n\u001b[0;32m    130\u001b[0m     input_name\u001b[38;5;241m=\u001b[39minput_name,\n\u001b[0;32m    131\u001b[0m )\n",
      "File \u001b[1;32m~\\anaconda3\\Lib\\site-packages\\sklearn\\utils\\validation.py:173\u001b[0m, in \u001b[0;36m_assert_all_finite_element_wise\u001b[1;34m(X, xp, allow_nan, msg_dtype, estimator_name, input_name)\u001b[0m\n\u001b[0;32m    156\u001b[0m \u001b[38;5;28;01mif\u001b[39;00m estimator_name \u001b[38;5;129;01mand\u001b[39;00m input_name \u001b[38;5;241m==\u001b[39m \u001b[38;5;124m\"\u001b[39m\u001b[38;5;124mX\u001b[39m\u001b[38;5;124m\"\u001b[39m \u001b[38;5;129;01mand\u001b[39;00m has_nan_error:\n\u001b[0;32m    157\u001b[0m     \u001b[38;5;66;03m# Improve the error message on how to handle missing values in\u001b[39;00m\n\u001b[0;32m    158\u001b[0m     \u001b[38;5;66;03m# scikit-learn.\u001b[39;00m\n\u001b[0;32m    159\u001b[0m     msg_err \u001b[38;5;241m+\u001b[39m\u001b[38;5;241m=\u001b[39m (\n\u001b[0;32m    160\u001b[0m         \u001b[38;5;124mf\u001b[39m\u001b[38;5;124m\"\u001b[39m\u001b[38;5;130;01m\\n\u001b[39;00m\u001b[38;5;132;01m{\u001b[39;00mestimator_name\u001b[38;5;132;01m}\u001b[39;00m\u001b[38;5;124m does not accept missing values\u001b[39m\u001b[38;5;124m\"\u001b[39m\n\u001b[0;32m    161\u001b[0m         \u001b[38;5;124m\"\u001b[39m\u001b[38;5;124m encoded as NaN natively. For supervised learning, you might want\u001b[39m\u001b[38;5;124m\"\u001b[39m\n\u001b[1;32m   (...)\u001b[0m\n\u001b[0;32m    171\u001b[0m         \u001b[38;5;124m\"\u001b[39m\u001b[38;5;124m#estimators-that-handle-nan-values\u001b[39m\u001b[38;5;124m\"\u001b[39m\n\u001b[0;32m    172\u001b[0m     )\n\u001b[1;32m--> 173\u001b[0m \u001b[38;5;28;01mraise\u001b[39;00m \u001b[38;5;167;01mValueError\u001b[39;00m(msg_err)\n",
      "\u001b[1;31mValueError\u001b[0m: Input y contains NaN."
     ]
    }
   ],
   "source": [
    "## Use this variable to automate saving runs with different filesnames\n",
    "k = 10\n",
    "\n",
    "## Make the model object\n",
    "knn = KNeighborsClassifier(k)\n",
    "\n",
    "## \"Fit\" the model object\n",
    "knn.fit(x_train, y_train)"
   ]
  },
  {
   "cell_type": "markdown",
   "id": "eb60a12a-ff3e-4fc5-b304-12fa19276e3a",
   "metadata": {},
   "source": [
    "# Assess Model Performance\n",
    "Do things like test accuracy, etc."
   ]
  },
  {
   "cell_type": "code",
   "execution_count": 176,
   "id": "42fd80c0-7243-4a3d-97d2-7678a1fe90ac",
   "metadata": {
    "tags": []
   },
   "outputs": [
    {
     "name": "stdout",
     "output_type": "stream",
     "text": [
      "0.8295454545454546\n",
      "[[70  2]\n",
      " [13  3]]\n"
     ]
    }
   ],
   "source": [
    "## Predict on the training set\n",
    "y_test_pred = knn.predict(x_test)\n",
    "\n",
    "## Compute confusion matrix for model\n",
    "conf_mat = confusion_matrix(y_test, y_test_pred)\n",
    "\n",
    "## Compute accuracy for the model\n",
    "acc = accuracy_score(y_test, y_test_pred)\n",
    "\n",
    "print(acc)\n",
    "print(conf_mat)"
   ]
  },
  {
   "cell_type": "markdown",
   "id": "1eb0e7c2-3c63-48a6-b96c-ab7bb1317266",
   "metadata": {},
   "source": [
    "# Save Trained Model"
   ]
  },
  {
   "cell_type": "code",
   "execution_count": 177,
   "id": "facfb78f-2b82-46a7-9a9c-66e3fd76a14c",
   "metadata": {
    "tags": []
   },
   "outputs": [
    {
     "name": "stdout",
     "output_type": "stream",
     "text": [
      "../../data/trained_models/sex_k10s0.2r440.pkl\n"
     ]
    },
    {
     "data": {
      "text/plain": [
       "['../../data/trained_models/sex_k10s0.2r440.pkl']"
      ]
     },
     "execution_count": 177,
     "metadata": {},
     "output_type": "execute_result"
    }
   ],
   "source": [
    "## Build model_filename based on characteristics of test\n",
    "\n",
    "model_filename = '../../data/trained_models/' ## Save location destination\n",
    "model_filename += (model_type+'_')\n",
    "model_filename += ('k'+str(k)) ## Save k-value used for model\n",
    "model_filename += ('s'+str(test_size)) ## Save test_size used for train test split\n",
    "model_filename += ('r'+str(random_state)) ## Save random_state used for train test split\n",
    "model_filename += '.pkl'\n",
    "print(model_filename)\n",
    "\n",
    "# Save the model to disk\n",
    "joblib.dump(knn, model_filename)"
   ]
  },
  {
   "cell_type": "markdown",
   "id": "45442805",
   "metadata": {},
   "source": [
    "# Discussion of Data Runs\n",
    "\n",
    "The remainder of the file is mardown copies of the key data points from lots of kNN runs on different data points.\n",
    "\n",
    "Main Takeaways:\n",
    "- Extremely high reliability for predicting the breed\n",
    "- Pretty reliable for predicting the sex (without knowing the neutering status)\n",
    "- Limited but significant ability to predict the situation"
   ]
  },
  {
   "cell_type": "markdown",
   "id": "40c0bb0f",
   "metadata": {},
   "source": [
    "# Runs on Situation Data\n",
    "kNN runs for situation data:\n",
    "\n",
    "k=3\n",
    "- Accuracy = 0.6363636363636364\n",
    "- [[16  5 10]\n",
    " [ 7 10  4]\n",
    " [ 5  1 30]]\n",
    " \n",
    "k=4\n",
    "- Accuracy = 0.6477272727272727\n",
    "- [[19  3  9]\n",
    " [ 8  8  5]\n",
    " [ 5  1 30]]\n",
    "\n",
    "k=5 (Highest Accuracy)\n",
    "- Accuracy = 0.6704545454545454\n",
    "- [[19  1 11]\n",
    " [ 7  9  5]\n",
    " [ 4  1 31]]\n",
    "\n",
    "k=6\n",
    "- Accuracy = 0.6022727272727273\n",
    "- [[16  3 12]\n",
    " [ 8  9  4]\n",
    " [ 7  1 28]]\n",
    "\n",
    "k=7\n",
    "- Accuracy = 0.6477272727272727\n",
    "- [[16  4 11]\n",
    " [ 7  9  5]\n",
    " [ 2  2 32]]\n",
    "\n",
    "k=8\n",
    "- Accuracy = 0.625\n",
    "- [[14  4 13]\n",
    " [ 6 10  5]\n",
    " [ 3  2 31]]\n",
    "\n",
    "k=9\n",
    "- Accuracy = 0.6363636363636364\n",
    "- [[14  4 13]\n",
    " [ 7  9  5]\n",
    " [ 2  1 33]]\n",
    "\n",
    "k=10\n",
    "- Accuracy = 0.6363636363636364\n",
    "- [[13  4 14]\n",
    " [ 5 11  5]\n",
    " [ 2  2 32]]"
   ]
  },
  {
   "cell_type": "markdown",
   "id": "6df036b6",
   "metadata": {},
   "source": [
    "# Runs on Breed Data\n",
    "kNN runs for situation data:\n",
    "\n",
    "k=3\n",
    "- Accuracy = 0.9318181818181818\n",
    "- [[51  2]\n",
    " [ 4 31]]\n",
    "\n",
    " \n",
    "k=4 (Highest Accuracy)\n",
    "- Accuracy = 0.9545454545454546\n",
    "- [[53  0]\n",
    " [ 4 31]]\n",
    "\n",
    "k=5\n",
    "- Accuracy = 0.9090909090909091\n",
    "- [[48  5]\n",
    " [ 3 32]]\n",
    "\n",
    "k=6\n",
    "- Accuracy = 0.9318181818181818\n",
    "- [[50  3]\n",
    " [ 3 32]]\n",
    "\n",
    "k=7\n",
    "- Accuracy = 0.9090909090909091\n",
    "- [[47  6]\n",
    " [ 2 33]]\n",
    "\n",
    "k=8\n",
    "- Accuracy = 0.9090909090909091\n",
    "- [[48  5]\n",
    " [ 3 32]]\n",
    "\n",
    "k=9\n",
    "- Accuracy = 0.9090909090909091\n",
    "- [[47  6]\n",
    " [ 2 33]]\n",
    "\n",
    "k=10\n",
    "- Accuracy = 0.9090909090909091\n",
    "- [[47  6]\n",
    " [ 2 33]]"
   ]
  },
  {
   "cell_type": "markdown",
   "id": "3e98b2bd",
   "metadata": {},
   "source": [
    "# Runs on Sex Data\n",
    "kNN runs for situation data:\n",
    "\n",
    "k=3\n",
    "- Accuracy = 0.8409090909090909\n",
    "- [[65  7]\n",
    " [ 7  9]]\n",
    "\n",
    " \n",
    "k=4 (Highest Accuracy)\n",
    "- Accuracy = 0.8863636363636364\n",
    "- [[71  1]\n",
    " [ 9  7]]\n",
    "\n",
    "k=5\n",
    "- Accuracy = 0.8409090909090909\n",
    "- [[66  6]\n",
    " [ 8  8]]\n",
    "\n",
    "k=6\n",
    "- Accuracy = 0.8522727272727273\n",
    "- [[69  3]\n",
    " [10  6]]\n",
    "\n",
    "k=7\n",
    "- Accuracy = 0.8636363636363636\n",
    "- [[68  4]\n",
    " [ 8  8]]\n",
    "\n",
    "k=8\n",
    "- Accuracy = 0.8295454545454546-- \n",
    "- [[69  3]\n",
    " [12  4]]\n",
    "\n",
    "k=9\n",
    "- Accuracy = 0.8068181818181818\n",
    "- [[67  5]\n",
    " [12  4]]\n",
    "\n",
    "k=10\n",
    "- Accuracy = 0.8295454545454546\n",
    "- [[70  2]\n",
    " [13  3]]"
   ]
  },
  {
   "cell_type": "code",
   "execution_count": null,
   "id": "9a164f62",
   "metadata": {},
   "outputs": [],
   "source": []
  }
 ],
 "metadata": {
  "kernelspec": {
   "display_name": "Python 3 (ipykernel)",
   "language": "python",
   "name": "python3"
  },
  "language_info": {
   "codemirror_mode": {
    "name": "ipython",
    "version": 3
   },
   "file_extension": ".py",
   "mimetype": "text/x-python",
   "name": "python",
   "nbconvert_exporter": "python",
   "pygments_lexer": "ipython3",
   "version": "3.11.4"
  }
 },
 "nbformat": 4,
 "nbformat_minor": 5
}
