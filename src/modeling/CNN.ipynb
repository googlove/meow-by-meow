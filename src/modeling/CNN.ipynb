{
 "cells": [
  {
   "cell_type": "code",
   "execution_count": 4,
   "id": "1f3504f7",
   "metadata": {},
   "outputs": [],
   "source": [
    "## For data handling\n",
    "import pandas as pd\n",
    "import numpy as np\n",
    "\n",
    "## For plotting\n",
    "import matplotlib.pyplot as plt\n",
    "from seaborn import set_style\n",
    "\n",
    "## This sets the plot style\n",
    "## to have a grid on a white background\n",
    "set_style(\"darkgrid\")"
   ]
  },
  {
   "cell_type": "code",
   "execution_count": 5,
   "id": "35284634",
   "metadata": {},
   "outputs": [
    {
     "name": "stdout",
     "output_type": "stream",
     "text": [
      "(440, 130, 64)\n"
     ]
    }
   ],
   "source": [
    "X = np.load('../../data/processed_data/specgram_db0.npy')\n",
    "print(X.shape)"
   ]
  },
  {
   "cell_type": "code",
   "execution_count": 6,
   "id": "9c11dae5",
   "metadata": {},
   "outputs": [
    {
     "name": "stdout",
     "output_type": "stream",
     "text": [
      "(440, 130, 64, 1)\n"
     ]
    }
   ],
   "source": [
    "# NEW to CONV nets\n",
    "## We need to reshape our data to be the correct dimensions for\n",
    "## the net\n",
    "## observations, grid, colorvalues\n",
    "\n",
    "##so we just need to add the colorvalues, 1 here represents single valued\n",
    "X = X.reshape(X.shape[0], X.shape[1], X.shape[2], 1)\n",
    "print(X.shape)"
   ]
  },
  {
   "cell_type": "code",
   "execution_count": 7,
   "id": "3de566f8",
   "metadata": {},
   "outputs": [],
   "source": [
    "df = pd.read_csv(\"../../data/processed_data/metadata.csv\")\n",
    "df = df.sort_values(by='filename', ascending=True)\n",
    "df = df.reset_index(drop=True)\n",
    "df\n",
    "category_to_number = {'brushing': 0, 'food': 1, 'isolation': 2}\n",
    "\n",
    "# Create a new column with numerical values based on the mapping\n",
    "df['numerical_situation'] = df['situation'].map(category_to_number)\n",
    "\n",
    "y = df['numerical_situation']"
   ]
  },
  {
   "cell_type": "code",
   "execution_count": 8,
   "id": "8a88f077",
   "metadata": {},
   "outputs": [],
   "source": [
    "from sklearn.model_selection import train_test_split\n",
    "\n",
    "X_train, X_test, y_train, y_test = train_test_split(X,y,\n",
    "                                                       test_size=.2,\n",
    "                                                       shuffle=True,\n",
    "                                                       random_state=100,\n",
    "                                                       stratify=y)"
   ]
  },
  {
   "cell_type": "code",
   "execution_count": 9,
   "id": "0d640c18",
   "metadata": {},
   "outputs": [],
   "source": [
    "X_train_train, X_val, y_train_train, y_val = train_test_split(X_train, y_train,\n",
    "                                                                 test_size=.2,\n",
    "                                                                   shuffle=True,\n",
    "                                                                   random_state=41,\n",
    "                                                                   stratify=y_train)"
   ]
  },
  {
   "cell_type": "code",
   "execution_count": 10,
   "id": "0e09e179",
   "metadata": {},
   "outputs": [],
   "source": [
    "## Importing the things\n",
    "from tensorflow.keras import models\n",
    "from tensorflow.keras import layers\n",
    "from tensorflow.keras import optimizers\n",
    "from tensorflow.keras import losses\n",
    "from tensorflow.keras import metrics\n",
    "from tensorflow.keras.utils import to_categorical\n",
    "\n",
    "# for earlier versions of keras run this instead\n",
    "# from keras.utils import to_categorical\n",
    "# instead of running\n",
    "# from keras.utils.np_utils import to_categorical\n",
    "# or look up the documentation for your version"
   ]
  },
  {
   "cell_type": "code",
   "execution_count": 11,
   "id": "2c2837b3",
   "metadata": {},
   "outputs": [],
   "source": [
    "## We've seen this before\n",
    "model = models.Sequential()"
   ]
  },
  {
   "cell_type": "code",
   "execution_count": 12,
   "id": "eb2c1af5",
   "metadata": {},
   "outputs": [],
   "source": [
    "## adding our first convolutional layer\n",
    "\n",
    "## Conv2D(32, specifies that we want a convolutional layer with depth 32\n",
    "## (3,3) is our sliding grid size\n",
    "## We're using the relu activation function\n",
    "## and our images are a gray scale value for 28X28 pixels, hence the input_shape\n",
    "model.add( layers.Conv2D(32, (6,3), activation='relu', input_shape=(130,64,1,) ) )\n",
    "\n",
    "\n",
    "## adding our first Max Pooling layer\n",
    "## MaxPooling2D((2,2) tells python we want to add\n",
    "## a max pooling layer that uses a (2,2) square grid\n",
    "## strides = 2, sets the stride value to 2\n",
    "model.add( layers.MaxPooling2D( (2,2), strides = 2 ) )\n",
    "\n",
    "\n",
    "## Add another layer, alternating between conv and pool\n",
    "model.add( layers.Conv2D(64, (6,3), activation='relu'))\n",
    "model.add( layers.MaxPooling2D( (2,2), strides=2) )\n",
    "\n"
   ]
  },
  {
   "cell_type": "code",
   "execution_count": 13,
   "id": "c62853b2",
   "metadata": {},
   "outputs": [
    {
     "name": "stdout",
     "output_type": "stream",
     "text": [
      "Model: \"sequential\"\n",
      "_________________________________________________________________\n",
      " Layer (type)                Output Shape              Param #   \n",
      "=================================================================\n",
      " conv2d (Conv2D)             (None, 125, 62, 32)       608       \n",
      "                                                                 \n",
      " max_pooling2d (MaxPooling2  (None, 62, 31, 32)        0         \n",
      " D)                                                              \n",
      "                                                                 \n",
      " conv2d_1 (Conv2D)           (None, 57, 29, 64)        36928     \n",
      "                                                                 \n",
      " max_pooling2d_1 (MaxPoolin  (None, 28, 14, 64)        0         \n",
      " g2D)                                                            \n",
      "                                                                 \n",
      "=================================================================\n",
      "Total params: 37536 (146.62 KB)\n",
      "Trainable params: 37536 (146.62 KB)\n",
      "Non-trainable params: 0 (0.00 Byte)\n",
      "_________________________________________________________________\n"
     ]
    }
   ],
   "source": [
    "model.summary()"
   ]
  },
  {
   "cell_type": "code",
   "execution_count": 14,
   "id": "9e415d20",
   "metadata": {},
   "outputs": [],
   "source": [
    "## Now we'll add the fully connected layer\n",
    "\n",
    "## .Flatten() will flatten the data for us,\n",
    "## meaning the last output data will turn into \n",
    "## a vector\n",
    "model.add( layers.Flatten() )\n",
    "\n",
    "## We've seen these before\n",
    "## Then we add a single dense hidden layer\n",
    "## This is 64 nodes high\n",
    "model.add(layers.Dense(64, activation='relu'))\n",
    "\n",
    "\n",
    "## Finally an output layer\n",
    "model.add(layers.Dense(3, activation='softmax'))"
   ]
  },
  {
   "cell_type": "code",
   "execution_count": 15,
   "id": "37151df9",
   "metadata": {},
   "outputs": [],
   "source": [
    "## We've seen this before in the last notebook\n",
    "model.compile(optimizer='rmsprop',\n",
    "              loss='categorical_crossentropy',\n",
    "              metrics=['accuracy'])"
   ]
  },
  {
   "cell_type": "code",
   "execution_count": 17,
   "id": "2d05fd02",
   "metadata": {},
   "outputs": [
    {
     "name": "stdout",
     "output_type": "stream",
     "text": [
      "Epoch 1/100\n",
      "1/1 [==============================] - 1s 630ms/step - loss: 0.9284 - accuracy: 0.5694 - val_loss: 1.1175 - val_accuracy: 0.4930\n",
      "Epoch 2/100\n",
      "1/1 [==============================] - 1s 582ms/step - loss: 0.9158 - accuracy: 0.5587 - val_loss: 1.1384 - val_accuracy: 0.4507\n",
      "Epoch 3/100\n",
      "1/1 [==============================] - 1s 589ms/step - loss: 0.9082 - accuracy: 0.6014 - val_loss: 1.1450 - val_accuracy: 0.4930\n",
      "Epoch 4/100\n",
      "1/1 [==============================] - 1s 571ms/step - loss: 0.9398 - accuracy: 0.5730 - val_loss: 1.1158 - val_accuracy: 0.3803\n",
      "Epoch 5/100\n",
      "1/1 [==============================] - 1s 619ms/step - loss: 0.9025 - accuracy: 0.5801 - val_loss: 1.2507 - val_accuracy: 0.5070\n",
      "Epoch 6/100\n",
      "1/1 [==============================] - 1s 561ms/step - loss: 0.9687 - accuracy: 0.5231 - val_loss: 1.2079 - val_accuracy: 0.2535\n",
      "Epoch 7/100\n",
      "1/1 [==============================] - 1s 576ms/step - loss: 0.9482 - accuracy: 0.5587 - val_loss: 1.1014 - val_accuracy: 0.5070\n",
      "Epoch 8/100\n",
      "1/1 [==============================] - 1s 570ms/step - loss: 0.8792 - accuracy: 0.6121 - val_loss: 1.0928 - val_accuracy: 0.5070\n",
      "Epoch 9/100\n",
      "1/1 [==============================] - 1s 552ms/step - loss: 0.8290 - accuracy: 0.6726 - val_loss: 1.1552 - val_accuracy: 0.4648\n",
      "Epoch 10/100\n",
      "1/1 [==============================] - 1s 553ms/step - loss: 0.8713 - accuracy: 0.6157 - val_loss: 1.2909 - val_accuracy: 0.3239\n",
      "Epoch 11/100\n",
      "1/1 [==============================] - 1s 598ms/step - loss: 0.9731 - accuracy: 0.5053 - val_loss: 1.1441 - val_accuracy: 0.5211\n",
      "Epoch 12/100\n",
      "1/1 [==============================] - 1s 609ms/step - loss: 0.9112 - accuracy: 0.6050 - val_loss: 1.0670 - val_accuracy: 0.4789\n",
      "Epoch 13/100\n",
      "1/1 [==============================] - 1s 547ms/step - loss: 0.8094 - accuracy: 0.6868 - val_loss: 1.0673 - val_accuracy: 0.4930\n",
      "Epoch 14/100\n",
      "1/1 [==============================] - 1s 552ms/step - loss: 0.7778 - accuracy: 0.6868 - val_loss: 1.0509 - val_accuracy: 0.4648\n",
      "Epoch 15/100\n",
      "1/1 [==============================] - 1s 579ms/step - loss: 0.7538 - accuracy: 0.7117 - val_loss: 1.0493 - val_accuracy: 0.5211\n",
      "Epoch 16/100\n",
      "1/1 [==============================] - 1s 564ms/step - loss: 0.7309 - accuracy: 0.7082 - val_loss: 1.0298 - val_accuracy: 0.5493\n",
      "Epoch 17/100\n",
      "1/1 [==============================] - 1s 569ms/step - loss: 0.7115 - accuracy: 0.7260 - val_loss: 1.1073 - val_accuracy: 0.5211\n",
      "Epoch 18/100\n",
      "1/1 [==============================] - 1s 565ms/step - loss: 0.7236 - accuracy: 0.6512 - val_loss: 1.2067 - val_accuracy: 0.2958\n",
      "Epoch 19/100\n",
      "1/1 [==============================] - 1s 651ms/step - loss: 0.8667 - accuracy: 0.5801 - val_loss: 1.2088 - val_accuracy: 0.5070\n",
      "Epoch 20/100\n",
      "1/1 [==============================] - 1s 592ms/step - loss: 0.8663 - accuracy: 0.5445 - val_loss: 1.2317 - val_accuracy: 0.2676\n",
      "Epoch 21/100\n",
      "1/1 [==============================] - 1s 600ms/step - loss: 0.8636 - accuracy: 0.6157 - val_loss: 1.1501 - val_accuracy: 0.5634\n",
      "Epoch 22/100\n",
      "1/1 [==============================] - 1s 579ms/step - loss: 0.8111 - accuracy: 0.6833 - val_loss: 1.0939 - val_accuracy: 0.4930\n",
      "Epoch 23/100\n",
      "1/1 [==============================] - 1s 576ms/step - loss: 0.7443 - accuracy: 0.7331 - val_loss: 1.1138 - val_accuracy: 0.5352\n",
      "Epoch 24/100\n",
      "1/1 [==============================] - 1s 567ms/step - loss: 0.7277 - accuracy: 0.6940 - val_loss: 1.1041 - val_accuracy: 0.4648\n",
      "Epoch 25/100\n",
      "1/1 [==============================] - 1s 556ms/step - loss: 0.6919 - accuracy: 0.7438 - val_loss: 1.1250 - val_accuracy: 0.4930\n",
      "Epoch 26/100\n",
      "1/1 [==============================] - 1s 572ms/step - loss: 0.7068 - accuracy: 0.6797 - val_loss: 1.1779 - val_accuracy: 0.2958\n",
      "Epoch 27/100\n",
      "1/1 [==============================] - 1s 557ms/step - loss: 0.7689 - accuracy: 0.7260 - val_loss: 1.1208 - val_accuracy: 0.5352\n",
      "Epoch 28/100\n",
      "1/1 [==============================] - 1s 573ms/step - loss: 0.7172 - accuracy: 0.6726 - val_loss: 1.1260 - val_accuracy: 0.4085\n",
      "Epoch 29/100\n",
      "1/1 [==============================] - 1s 551ms/step - loss: 0.6801 - accuracy: 0.7580 - val_loss: 1.0857 - val_accuracy: 0.5493\n",
      "Epoch 30/100\n",
      "1/1 [==============================] - 1s 552ms/step - loss: 0.6280 - accuracy: 0.7331 - val_loss: 1.1547 - val_accuracy: 0.3944\n",
      "Epoch 31/100\n",
      "1/1 [==============================] - 1s 561ms/step - loss: 0.6532 - accuracy: 0.7509 - val_loss: 1.2632 - val_accuracy: 0.5211\n",
      "Epoch 32/100\n",
      "1/1 [==============================] - 1s 580ms/step - loss: 0.8207 - accuracy: 0.6335 - val_loss: 1.2260 - val_accuracy: 0.3239\n",
      "Epoch 33/100\n",
      "1/1 [==============================] - 1s 552ms/step - loss: 0.8175 - accuracy: 0.6157 - val_loss: 1.1379 - val_accuracy: 0.5070\n",
      "Epoch 34/100\n",
      "1/1 [==============================] - 1s 566ms/step - loss: 0.7195 - accuracy: 0.6975 - val_loss: 1.3977 - val_accuracy: 0.3099\n",
      "Epoch 35/100\n",
      "1/1 [==============================] - 1s 545ms/step - loss: 0.9061 - accuracy: 0.6014 - val_loss: 1.1912 - val_accuracy: 0.5352\n",
      "Epoch 36/100\n",
      "1/1 [==============================] - 1s 555ms/step - loss: 0.7685 - accuracy: 0.7117 - val_loss: 1.1371 - val_accuracy: 0.4507\n",
      "Epoch 37/100\n",
      "1/1 [==============================] - 1s 548ms/step - loss: 0.6786 - accuracy: 0.7722 - val_loss: 1.1596 - val_accuracy: 0.5352\n",
      "Epoch 38/100\n",
      "1/1 [==============================] - 1s 587ms/step - loss: 0.6342 - accuracy: 0.7473 - val_loss: 1.2476 - val_accuracy: 0.3662\n",
      "Epoch 39/100\n",
      "1/1 [==============================] - 1s 655ms/step - loss: 0.6879 - accuracy: 0.7438 - val_loss: 1.2774 - val_accuracy: 0.5352\n",
      "Epoch 40/100\n",
      "1/1 [==============================] - 1s 665ms/step - loss: 0.6998 - accuracy: 0.7117 - val_loss: 1.2059 - val_accuracy: 0.3803\n",
      "Epoch 41/100\n",
      "1/1 [==============================] - 1s 710ms/step - loss: 0.7073 - accuracy: 0.7260 - val_loss: 1.0865 - val_accuracy: 0.5352\n",
      "Epoch 42/100\n",
      "1/1 [==============================] - 1s 618ms/step - loss: 0.5629 - accuracy: 0.7687 - val_loss: 1.2136 - val_accuracy: 0.4085\n",
      "Epoch 43/100\n",
      "1/1 [==============================] - 1s 626ms/step - loss: 0.6315 - accuracy: 0.7046 - val_loss: 1.2993 - val_accuracy: 0.5211\n",
      "Epoch 44/100\n",
      "1/1 [==============================] - 1s 644ms/step - loss: 0.7677 - accuracy: 0.6192 - val_loss: 1.1111 - val_accuracy: 0.4648\n",
      "Epoch 45/100\n",
      "1/1 [==============================] - 1s 595ms/step - loss: 0.6925 - accuracy: 0.7651 - val_loss: 1.4339 - val_accuracy: 0.5352\n",
      "Epoch 46/100\n",
      "1/1 [==============================] - 1s 593ms/step - loss: 0.7224 - accuracy: 0.6726 - val_loss: 1.3144 - val_accuracy: 0.3239\n",
      "Epoch 47/100\n",
      "1/1 [==============================] - 1s 579ms/step - loss: 0.8529 - accuracy: 0.5409 - val_loss: 1.3094 - val_accuracy: 0.5211\n",
      "Epoch 48/100\n",
      "1/1 [==============================] - 1s 571ms/step - loss: 0.8333 - accuracy: 0.5694 - val_loss: 1.2725 - val_accuracy: 0.2958\n",
      "Epoch 49/100\n",
      "1/1 [==============================] - 1s 585ms/step - loss: 0.7952 - accuracy: 0.6548 - val_loss: 1.2779 - val_accuracy: 0.5070\n",
      "Epoch 50/100\n",
      "1/1 [==============================] - 1s 574ms/step - loss: 0.8811 - accuracy: 0.7082 - val_loss: 1.1720 - val_accuracy: 0.2676\n",
      "Epoch 51/100\n",
      "1/1 [==============================] - 1s 559ms/step - loss: 0.8239 - accuracy: 0.6441 - val_loss: 1.0513 - val_accuracy: 0.5070\n",
      "Epoch 52/100\n",
      "1/1 [==============================] - 1s 571ms/step - loss: 0.6501 - accuracy: 0.7544 - val_loss: 1.2478 - val_accuracy: 0.4648\n",
      "Epoch 53/100\n",
      "1/1 [==============================] - 1s 572ms/step - loss: 0.6352 - accuracy: 0.7402 - val_loss: 2.1374 - val_accuracy: 0.3099\n",
      "Epoch 54/100\n",
      "1/1 [==============================] - 1s 569ms/step - loss: 1.5251 - accuracy: 0.3843 - val_loss: 1.2634 - val_accuracy: 0.4789\n",
      "Epoch 55/100\n",
      "1/1 [==============================] - 1s 583ms/step - loss: 0.8656 - accuracy: 0.6548 - val_loss: 1.0432 - val_accuracy: 0.4930\n",
      "Epoch 56/100\n",
      "1/1 [==============================] - 1s 600ms/step - loss: 0.7615 - accuracy: 0.6584 - val_loss: 1.1178 - val_accuracy: 0.5211\n",
      "Epoch 57/100\n",
      "1/1 [==============================] - 1s 590ms/step - loss: 0.6858 - accuracy: 0.7153 - val_loss: 1.0292 - val_accuracy: 0.5211\n",
      "Epoch 58/100\n",
      "1/1 [==============================] - 1s 577ms/step - loss: 0.6546 - accuracy: 0.7153 - val_loss: 2.0738 - val_accuracy: 0.2676\n"
     ]
    },
    {
     "name": "stdout",
     "output_type": "stream",
     "text": [
      "Epoch 59/100\n",
      "1/1 [==============================] - 1s 571ms/step - loss: 1.3711 - accuracy: 0.3772 - val_loss: 2.2647 - val_accuracy: 0.5070\n",
      "Epoch 60/100\n",
      "1/1 [==============================] - 1s 558ms/step - loss: 1.7917 - accuracy: 0.5338 - val_loss: 1.4281 - val_accuracy: 0.3944\n",
      "Epoch 61/100\n",
      "1/1 [==============================] - 1s 568ms/step - loss: 1.1714 - accuracy: 0.4555 - val_loss: 1.5250 - val_accuracy: 0.5070\n",
      "Epoch 62/100\n",
      "1/1 [==============================] - 1s 577ms/step - loss: 1.1468 - accuracy: 0.5338 - val_loss: 1.2084 - val_accuracy: 0.2817\n",
      "Epoch 63/100\n",
      "1/1 [==============================] - 1s 591ms/step - loss: 0.9518 - accuracy: 0.4804 - val_loss: 1.1843 - val_accuracy: 0.5352\n",
      "Epoch 64/100\n",
      "1/1 [==============================] - 1s 554ms/step - loss: 0.8545 - accuracy: 0.5979 - val_loss: 1.1702 - val_accuracy: 0.3662\n",
      "Epoch 65/100\n",
      "1/1 [==============================] - 1s 563ms/step - loss: 0.7867 - accuracy: 0.6299 - val_loss: 11.7104 - val_accuracy: 0.5070\n",
      "Epoch 66/100\n",
      "1/1 [==============================] - 1s 639ms/step - loss: 11.3683 - accuracy: 0.5018 - val_loss: 1.4090 - val_accuracy: 0.3099\n",
      "Epoch 67/100\n",
      "1/1 [==============================] - 1s 632ms/step - loss: 0.9597 - accuracy: 0.4840 - val_loss: 1.2382 - val_accuracy: 0.5070\n",
      "Epoch 68/100\n",
      "1/1 [==============================] - 1s 579ms/step - loss: 0.9095 - accuracy: 0.6085 - val_loss: 1.3232 - val_accuracy: 0.3380\n",
      "Epoch 69/100\n",
      "1/1 [==============================] - 1s 574ms/step - loss: 0.9323 - accuracy: 0.5231 - val_loss: 1.2580 - val_accuracy: 0.5070\n",
      "Epoch 70/100\n",
      "1/1 [==============================] - 1s 582ms/step - loss: 0.8554 - accuracy: 0.6014 - val_loss: 1.1635 - val_accuracy: 0.5070\n",
      "Epoch 71/100\n",
      "1/1 [==============================] - 1s 573ms/step - loss: 0.7742 - accuracy: 0.6940 - val_loss: 1.1300 - val_accuracy: 0.5070\n",
      "Epoch 72/100\n",
      "1/1 [==============================] - 1s 595ms/step - loss: 0.7234 - accuracy: 0.7117 - val_loss: 1.2029 - val_accuracy: 0.4930\n",
      "Epoch 73/100\n",
      "1/1 [==============================] - 1s 583ms/step - loss: 0.7022 - accuracy: 0.7046 - val_loss: 1.1369 - val_accuracy: 0.5634\n",
      "Epoch 74/100\n",
      "1/1 [==============================] - 1s 600ms/step - loss: 0.8070 - accuracy: 0.6477 - val_loss: 1.2415 - val_accuracy: 0.4507\n",
      "Epoch 75/100\n",
      "1/1 [==============================] - 1s 635ms/step - loss: 0.7361 - accuracy: 0.6762 - val_loss: 1.1350 - val_accuracy: 0.6056\n",
      "Epoch 76/100\n",
      "1/1 [==============================] - 1s 581ms/step - loss: 0.6780 - accuracy: 0.7117 - val_loss: 1.2260 - val_accuracy: 0.3662\n",
      "Epoch 77/100\n",
      "1/1 [==============================] - 1s 565ms/step - loss: 0.7011 - accuracy: 0.6940 - val_loss: 1.2463 - val_accuracy: 0.5070\n",
      "Epoch 78/100\n",
      "1/1 [==============================] - 1s 572ms/step - loss: 0.6911 - accuracy: 0.6868 - val_loss: 2.4283 - val_accuracy: 0.2394\n",
      "Epoch 79/100\n",
      "1/1 [==============================] - 1s 572ms/step - loss: 1.6228 - accuracy: 0.3488 - val_loss: 1.4164 - val_accuracy: 0.4789\n",
      "Epoch 80/100\n",
      "1/1 [==============================] - 1s 565ms/step - loss: 0.9574 - accuracy: 0.6762 - val_loss: 1.1500 - val_accuracy: 0.5352\n",
      "Epoch 81/100\n",
      "1/1 [==============================] - 1s 583ms/step - loss: 0.7464 - accuracy: 0.7544 - val_loss: 1.1016 - val_accuracy: 0.5493\n",
      "Epoch 82/100\n",
      "1/1 [==============================] - 1s 611ms/step - loss: 0.6012 - accuracy: 0.7687 - val_loss: 1.1078 - val_accuracy: 0.5352\n",
      "Epoch 83/100\n",
      "1/1 [==============================] - 1s 629ms/step - loss: 0.5231 - accuracy: 0.8363 - val_loss: 1.2291 - val_accuracy: 0.5775\n",
      "Epoch 84/100\n",
      "1/1 [==============================] - 1s 615ms/step - loss: 0.5244 - accuracy: 0.7758 - val_loss: 23.3029 - val_accuracy: 0.2113\n",
      "Epoch 85/100\n",
      "1/1 [==============================] - 1s 591ms/step - loss: 20.9894 - accuracy: 0.2100 - val_loss: 8.0402 - val_accuracy: 0.2676\n",
      "Epoch 86/100\n",
      "1/1 [==============================] - 1s 594ms/step - loss: 7.0457 - accuracy: 0.3630 - val_loss: 9.7563 - val_accuracy: 0.5070\n",
      "Epoch 87/100\n",
      "1/1 [==============================] - 1s 576ms/step - loss: 9.1386 - accuracy: 0.5018 - val_loss: 1.3770 - val_accuracy: 0.4225\n",
      "Epoch 88/100\n",
      "1/1 [==============================] - 1s 581ms/step - loss: 0.8437 - accuracy: 0.5765 - val_loss: 1.2304 - val_accuracy: 0.4648\n",
      "Epoch 89/100\n",
      "1/1 [==============================] - 1s 586ms/step - loss: 0.7257 - accuracy: 0.6904 - val_loss: 1.1788 - val_accuracy: 0.5352\n",
      "Epoch 90/100\n",
      "1/1 [==============================] - 1s 572ms/step - loss: 0.6462 - accuracy: 0.7438 - val_loss: 1.6350 - val_accuracy: 0.3239\n",
      "Epoch 91/100\n",
      "1/1 [==============================] - 1s 578ms/step - loss: 0.9499 - accuracy: 0.5979 - val_loss: 1.6309 - val_accuracy: 0.5211\n",
      "Epoch 92/100\n",
      "1/1 [==============================] - 1s 590ms/step - loss: 1.0713 - accuracy: 0.6548 - val_loss: 1.1741 - val_accuracy: 0.4789\n",
      "Epoch 93/100\n",
      "1/1 [==============================] - 1s 628ms/step - loss: 0.6951 - accuracy: 0.6975 - val_loss: 1.1502 - val_accuracy: 0.4789\n",
      "Epoch 94/100\n",
      "1/1 [==============================] - 1s 623ms/step - loss: 0.6314 - accuracy: 0.7900 - val_loss: 1.1472 - val_accuracy: 0.4789\n",
      "Epoch 95/100\n",
      "1/1 [==============================] - 1s 567ms/step - loss: 0.5919 - accuracy: 0.7900 - val_loss: 1.1252 - val_accuracy: 0.4648\n",
      "Epoch 96/100\n",
      "1/1 [==============================] - 1s 577ms/step - loss: 0.5558 - accuracy: 0.8327 - val_loss: 1.1339 - val_accuracy: 0.4930\n",
      "Epoch 97/100\n",
      "1/1 [==============================] - 1s 571ms/step - loss: 0.5211 - accuracy: 0.8363 - val_loss: 1.1701 - val_accuracy: 0.4930\n",
      "Epoch 98/100\n",
      "1/1 [==============================] - 1s 570ms/step - loss: 0.5182 - accuracy: 0.8221 - val_loss: 1.2564 - val_accuracy: 0.5070\n",
      "Epoch 99/100\n",
      "1/1 [==============================] - 1s 629ms/step - loss: 0.6062 - accuracy: 0.7544 - val_loss: 1.4195 - val_accuracy: 0.4648\n",
      "Epoch 100/100\n",
      "1/1 [==============================] - 1s 638ms/step - loss: 0.7567 - accuracy: 0.6441 - val_loss: 1.1909 - val_accuracy: 0.4930\n"
     ]
    }
   ],
   "source": [
    "## we'll go for 10 epochs\n",
    "## This is slow!\n",
    "epochs=100\n",
    "history = model.fit(X_train_train, \n",
    "                      to_categorical(y_train_train), \n",
    "                      epochs=epochs, \n",
    "                      batch_size=512,\n",
    "                      validation_data=(X_val,to_categorical(y_val)))"
   ]
  },
  {
   "cell_type": "code",
   "execution_count": 18,
   "id": "e4f516d3",
   "metadata": {},
   "outputs": [],
   "source": [
    "history_dict = history.history"
   ]
  },
  {
   "cell_type": "code",
   "execution_count": 19,
   "id": "a3885717",
   "metadata": {},
   "outputs": [
    {
     "data": {
      "image/png": "[encoded data removed]",
      "text/plain": [
       "<Figure size 800x600 with 1 Axes>"
      ]
     },
     "metadata": {},
     "output_type": "display_data"
    },
    {
     "data": {
      "image/png": "[encoded data removed]",
      "text/plain": [
       "<Figure size 800x600 with 1 Axes>"
      ]
     },
     "metadata": {},
     "output_type": "display_data"
    }
   ],
   "source": [
    "plt.figure(figsize = (8,6))\n",
    "\n",
    "plt.scatter(range(1,epochs+1), history_dict['accuracy'], label = \"Training Accuracy\")\n",
    "plt.scatter(range(1,epochs+1), history_dict['val_accuracy'], label = \"Validation Set Accuracy\")\n",
    "\n",
    "plt.xlabel(\"Epoch\", fontsize=12)\n",
    "plt.ylabel(\"Accuracy\", fontsize=12)\n",
    "\n",
    "plt.xticks(fontsize=10)\n",
    "plt.yticks(fontsize=10)\n",
    "\n",
    "plt.legend(fontsize=12)\n",
    "\n",
    "plt.show()\n",
    "\n",
    "\n",
    "plt.figure(figsize = (8,6))\n",
    "\n",
    "plt.scatter(range(1,epochs+1), history_dict['loss'], label = \"Training Loss\")\n",
    "plt.scatter(range(1,epochs+1), history_dict['val_loss'], label = \"Validation Set Loss\")\n",
    "\n",
    "plt.xlabel(\"Epoch\", fontsize=12)\n",
    "plt.ylabel(\"Loss Function Value\", fontsize=12)\n",
    "\n",
    "plt.xticks(fontsize=10)\n",
    "plt.yticks(fontsize=10)\n",
    "\n",
    "plt.legend(fontsize=12)\n",
    "\n",
    "plt.show()"
   ]
  },
  {
   "cell_type": "code",
   "execution_count": null,
   "id": "b42cdc5f",
   "metadata": {},
   "outputs": [],
   "source": []
  }
 ],
 "metadata": {
  "kernelspec": {
   "display_name": "Python 3 (ipykernel)",
   "language": "python",
   "name": "python3"
  },
  "language_info": {
   "codemirror_mode": {
    "name": "ipython",
    "version": 3
   },
   "file_extension": ".py",
   "mimetype": "text/x-python",
   "name": "python",
   "nbconvert_exporter": "python",
   "pygments_lexer": "ipython3",
   "version": "3.11.0"
  }
 },
 "nbformat": 4,
 "nbformat_minor": 5
}
