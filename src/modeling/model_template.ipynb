{
 "cells": [
  {
   "cell_type": "markdown",
   "id": "01545946-2c22-4d59-a823-c2e13059e583",
   "metadata": {},
   "source": [
    "# Model Template\n",
    "This notebook is an example template of how to use the structured code (\"`meowlib`\") to preprocess your data for modeling."
   ]
  },
  {
   "cell_type": "markdown",
   "id": "30fc1204-7b4f-43e7-87a3-c22b6b16def1",
   "metadata": {},
   "source": [
    "# Setup"
   ]
  },
  {
   "cell_type": "markdown",
   "id": "ca754fd5-f3bc-46ef-b7b1-c7d3bcca6ead",
   "metadata": {},
   "source": [
    "## Settings"
   ]
  },
  {
   "cell_type": "code",
   "execution_count": null,
   "id": "023317ec-082b-4c68-9926-a0e7b80ec4f8",
   "metadata": {
    "tags": []
   },
   "outputs": [],
   "source": [
    "data_dir = '../../data/raw_data/zenodo.4008297/'"
   ]
  },
  {
   "cell_type": "markdown",
   "id": "f1c19b19-d20d-4db0-b2c1-331d16443445",
   "metadata": {},
   "source": [
    "## Install Meowlib\n",
    "To install, we navigate to the repo directory for `meow-by-meow`, and run the command `pip install -e .`\n",
    "These few lines of code do that for you.\n",
    "You may have to restart the notebook afterwards."
   ]
  },
  {
   "cell_type": "code",
   "execution_count": null,
   "id": "de5745f6-b361-411a-af41-c12cc16be756",
   "metadata": {
    "tags": []
   },
   "outputs": [],
   "source": [
    "# Navigate to the meow-by-meow repo directory\n",
    "import os\n",
    "path_to_repo = '../../'\n",
    "cwd = os.getcwd()\n",
    "os.chdir(path_to_repo)"
   ]
  },
  {
   "cell_type": "code",
   "execution_count": null,
   "id": "c38e562b-8905-4f18-b121-461237ff128d",
   "metadata": {
    "tags": []
   },
   "outputs": [],
   "source": [
    "# Install the code\n",
    "# Assumes you are running from inside the \"modeling\" subfolder in src\n",
    "!pip install -e ."
   ]
  },
  {
   "cell_type": "code",
   "execution_count": null,
   "id": "ca53ce72-4f49-4e8f-8c86-b000badd101b",
   "metadata": {
    "tags": []
   },
   "outputs": [],
   "source": [
    "# Move back\n",
    "os.chdir(cwd)"
   ]
  },
  {
   "cell_type": "markdown",
   "id": "5363795e-4459-4cc1-8741-57e5990a401b",
   "metadata": {},
   "source": [
    "## Imports"
   ]
  },
  {
   "cell_type": "code",
   "execution_count": null,
   "id": "13333525-4baa-4b4e-889e-4633f89647fe",
   "metadata": {
    "tags": []
   },
   "outputs": [],
   "source": [
    "from sklearn.pipeline import Pipeline"
   ]
  },
  {
   "cell_type": "code",
   "execution_count": null,
   "id": "cde3064a-8461-4133-a0f9-091d68bd54f2",
   "metadata": {
    "tags": []
   },
   "outputs": [],
   "source": [
    "from meowlib import utils, data_handling"
   ]
  },
  {
   "cell_type": "markdown",
   "id": "eb1a6124-6e3f-40e5-8637-b66887a28a39",
   "metadata": {},
   "source": [
    "# Preparing data for modeling\n",
    "Here are examples of pre-processing made easy."
   ]
  },
  {
   "cell_type": "code",
   "execution_count": null,
   "id": "94d81e90-908c-4099-aa68-abd2f5ab9f48",
   "metadata": {
    "tags": []
   },
   "outputs": [],
   "source": [
    "# Load the data. The \"extension\" argument is optional.\n",
    "data_fps = utils.discover_data(data_dir, extension='wav')"
   ]
  },
  {
   "cell_type": "code",
   "execution_count": null,
   "id": "e8995b38-500c-4cf0-8f9e-d274f3c74250",
   "metadata": {
    "tags": []
   },
   "outputs": [],
   "source": [
    "# Modify this to change what steps you want to include.\n",
    "# Here are a few common steps.\n",
    "preprocessing = Pipeline([\n",
    "    ('load_data', data_handling.WavLoader()),\n",
    "    ('specgram', data_handling.SpecgramTransformer()),\n",
    "    ('pad', data_handling.PadTransformer()),\n",
    "    ('flatten', data_handling.FlattenTransformer()),\n",
    "])"
   ]
  },
  {
   "cell_type": "code",
   "execution_count": null,
   "id": "2b3c1d34-5821-4184-9fe8-69ba274b6c0e",
   "metadata": {
    "tags": []
   },
   "outputs": [],
   "source": [
    "# Modify the data\n",
    "X = preprocessing.fit_transform(data_fps)"
   ]
  },
  {
   "cell_type": "code",
   "execution_count": null,
   "id": "8b881b48-031c-43ea-9398-f2cb3817f173",
   "metadata": {
    "tags": []
   },
   "outputs": [],
   "source": [
    "# The output is loaded raw .wavs, converted to specgrams, padded, and flattened.\n",
    "# Removing steps (e.g. if you don't want to flatten) just involves commenting out a line above, in the preprocessing Pipeline definition.\n",
    "# Adding steps just involves adding a new line.\n",
    "X"
   ]
  },
  {
   "cell_type": "code",
   "execution_count": null,
   "id": "fba5c5b1-d574-4042-82de-6ce3556df398",
   "metadata": {},
   "outputs": [],
   "source": []
  }
 ],
 "metadata": {
  "kernelspec": {
   "display_name": "Python 3 (ipykernel)",
   "language": "python",
   "name": "python3"
  },
  "language_info": {
   "codemirror_mode": {
    "name": "ipython",
    "version": 3
   },
   "file_extension": ".py",
   "mimetype": "text/x-python",
   "name": "python",
   "nbconvert_exporter": "python",
   "pygments_lexer": "ipython3",
   "version": "3.11.5"
  }
 },
 "nbformat": 4,
 "nbformat_minor": 5
}
