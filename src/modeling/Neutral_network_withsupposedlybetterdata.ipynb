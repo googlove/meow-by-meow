{
 "cells": [
  {
   "cell_type": "code",
   "execution_count": 1,
   "id": "36748f0a",
   "metadata": {},
   "outputs": [],
   "source": [
    "## For data handling\n",
    "import pandas as pd\n",
    "import numpy as np\n",
    "\n",
    "## For plotting\n",
    "import matplotlib.pyplot as plt\n",
    "from seaborn import set_style\n",
    "import librosa\n",
    "import librosa.display\n",
    "## This sets the plot style\n",
    "## to have a grid on a white background\n",
    "set_style(\"whitegrid\")"
   ]
  },
  {
   "cell_type": "code",
   "execution_count": 2,
   "id": "98a83208",
   "metadata": {},
   "outputs": [],
   "source": [
    "X = np.load('../../data/processed_data/specgram_db_pad_trunc_flattened.npy')    \n",
    "##add one bias column\n",
    "X = np.insert(X, 0, 1, axis=1)"
   ]
  },
  {
   "cell_type": "code",
   "execution_count": 3,
   "id": "a094a37a",
   "metadata": {},
   "outputs": [
    {
     "data": {
      "text/html": [
       "<div>\n",
       "<style scoped>\n",
       "    .dataframe tbody tr th:only-of-type {\n",
       "        vertical-align: middle;\n",
       "    }\n",
       "\n",
       "    .dataframe tbody tr th {\n",
       "        vertical-align: top;\n",
       "    }\n",
       "\n",
       "    .dataframe thead th {\n",
       "        text-align: right;\n",
       "    }\n",
       "</style>\n",
       "<table border=\"1\" class=\"dataframe\">\n",
       "  <thead>\n",
       "    <tr style=\"text-align: right;\">\n",
       "      <th></th>\n",
       "      <th>Unnamed: 0</th>\n",
       "      <th>filename</th>\n",
       "      <th>situation</th>\n",
       "      <th>sex</th>\n",
       "      <th>breed</th>\n",
       "      <th>numerical_situation</th>\n",
       "    </tr>\n",
       "  </thead>\n",
       "  <tbody>\n",
       "    <tr>\n",
       "      <th>0</th>\n",
       "      <td>0</td>\n",
       "      <td>F_MAG01_EU_FN_FED01_106.wav</td>\n",
       "      <td>food</td>\n",
       "      <td>0</td>\n",
       "      <td>european_shorthair</td>\n",
       "      <td>1</td>\n",
       "    </tr>\n",
       "    <tr>\n",
       "      <th>1</th>\n",
       "      <td>1</td>\n",
       "      <td>I_NUL01_MC_MI_SIM01_304.wav</td>\n",
       "      <td>isolation</td>\n",
       "      <td>1</td>\n",
       "      <td>maine_coon</td>\n",
       "      <td>2</td>\n",
       "    </tr>\n",
       "    <tr>\n",
       "      <th>2</th>\n",
       "      <td>2</td>\n",
       "      <td>I_MEG01_MC_FI_SIM01_304.wav</td>\n",
       "      <td>isolation</td>\n",
       "      <td>0</td>\n",
       "      <td>maine_coon</td>\n",
       "      <td>2</td>\n",
       "    </tr>\n",
       "    <tr>\n",
       "      <th>3</th>\n",
       "      <td>3</td>\n",
       "      <td>B_CAN01_EU_FN_GIA01_205.wav</td>\n",
       "      <td>brushing</td>\n",
       "      <td>0</td>\n",
       "      <td>european_shorthair</td>\n",
       "      <td>0</td>\n",
       "    </tr>\n",
       "    <tr>\n",
       "      <th>4</th>\n",
       "      <td>4</td>\n",
       "      <td>F_MAG01_EU_FN_FED01_304.wav</td>\n",
       "      <td>food</td>\n",
       "      <td>0</td>\n",
       "      <td>european_shorthair</td>\n",
       "      <td>1</td>\n",
       "    </tr>\n",
       "    <tr>\n",
       "      <th>...</th>\n",
       "      <td>...</td>\n",
       "      <td>...</td>\n",
       "      <td>...</td>\n",
       "      <td>...</td>\n",
       "      <td>...</td>\n",
       "      <td>...</td>\n",
       "    </tr>\n",
       "    <tr>\n",
       "      <th>435</th>\n",
       "      <td>435</td>\n",
       "      <td>I_TIG01_EU_FN_GIU01_201.wav</td>\n",
       "      <td>isolation</td>\n",
       "      <td>0</td>\n",
       "      <td>european_shorthair</td>\n",
       "      <td>2</td>\n",
       "    </tr>\n",
       "    <tr>\n",
       "      <th>436</th>\n",
       "      <td>436</td>\n",
       "      <td>B_NIG01_MC_MN_SIM01_101.wav</td>\n",
       "      <td>brushing</td>\n",
       "      <td>1</td>\n",
       "      <td>maine_coon</td>\n",
       "      <td>0</td>\n",
       "    </tr>\n",
       "    <tr>\n",
       "      <th>437</th>\n",
       "      <td>437</td>\n",
       "      <td>B_CAN01_EU_FN_GIA01_208.wav</td>\n",
       "      <td>brushing</td>\n",
       "      <td>0</td>\n",
       "      <td>european_shorthair</td>\n",
       "      <td>0</td>\n",
       "    </tr>\n",
       "    <tr>\n",
       "      <th>438</th>\n",
       "      <td>438</td>\n",
       "      <td>B_WHO01_MC_FI_SIM01_203.wav</td>\n",
       "      <td>brushing</td>\n",
       "      <td>0</td>\n",
       "      <td>maine_coon</td>\n",
       "      <td>0</td>\n",
       "    </tr>\n",
       "    <tr>\n",
       "      <th>439</th>\n",
       "      <td>439</td>\n",
       "      <td>B_MAG01_EU_FN_FED01_203.wav</td>\n",
       "      <td>brushing</td>\n",
       "      <td>0</td>\n",
       "      <td>european_shorthair</td>\n",
       "      <td>0</td>\n",
       "    </tr>\n",
       "  </tbody>\n",
       "</table>\n",
       "<p>440 rows × 6 columns</p>\n",
       "</div>"
      ],
      "text/plain": [
       "     Unnamed: 0                     filename  situation  sex  \\\n",
       "0             0  F_MAG01_EU_FN_FED01_106.wav       food    0   \n",
       "1             1  I_NUL01_MC_MI_SIM01_304.wav  isolation    1   \n",
       "2             2  I_MEG01_MC_FI_SIM01_304.wav  isolation    0   \n",
       "3             3  B_CAN01_EU_FN_GIA01_205.wav   brushing    0   \n",
       "4             4  F_MAG01_EU_FN_FED01_304.wav       food    0   \n",
       "..          ...                          ...        ...  ...   \n",
       "435         435  I_TIG01_EU_FN_GIU01_201.wav  isolation    0   \n",
       "436         436  B_NIG01_MC_MN_SIM01_101.wav   brushing    1   \n",
       "437         437  B_CAN01_EU_FN_GIA01_208.wav   brushing    0   \n",
       "438         438  B_WHO01_MC_FI_SIM01_203.wav   brushing    0   \n",
       "439         439  B_MAG01_EU_FN_FED01_203.wav   brushing    0   \n",
       "\n",
       "                  breed  numerical_situation  \n",
       "0    european_shorthair                    1  \n",
       "1            maine_coon                    2  \n",
       "2            maine_coon                    2  \n",
       "3    european_shorthair                    0  \n",
       "4    european_shorthair                    1  \n",
       "..                  ...                  ...  \n",
       "435  european_shorthair                    2  \n",
       "436          maine_coon                    0  \n",
       "437  european_shorthair                    0  \n",
       "438          maine_coon                    0  \n",
       "439  european_shorthair                    0  \n",
       "\n",
       "[440 rows x 6 columns]"
      ]
     },
     "execution_count": 3,
     "metadata": {},
     "output_type": "execute_result"
    }
   ],
   "source": [
    "df = pd.read_csv(\"../../data/processed_data/metadata.csv\")\n",
    "category_to_number = {'brushing': 0, 'food': 1, 'isolation': 2}\n",
    "\n",
    "# Create a new column with numerical values based on the mapping\n",
    "df['numerical_situation'] = df['situation'].map(category_to_number)\n",
    "\n",
    "y = df['numerical_situation']\n",
    "df"
   ]
  },
  {
   "cell_type": "markdown",
   "id": "0d7a1a94",
   "metadata": {},
   "source": [
    "Train test spilt"
   ]
  },
  {
   "cell_type": "code",
   "execution_count": 4,
   "id": "5938da55",
   "metadata": {},
   "outputs": [],
   "source": [
    "from sklearn.model_selection import train_test_split\n",
    "\n",
    "X_train, X_test, y_train, y_test = train_test_split(X,y,\n",
    "                                                       test_size=.2,\n",
    "                                                       shuffle=True,\n",
    "                                                       random_state=124,\n",
    "                                                       stratify=y)"
   ]
  },
  {
   "cell_type": "markdown",
   "id": "97d64e97",
   "metadata": {},
   "source": [
    "Train validation split"
   ]
  },
  {
   "cell_type": "code",
   "execution_count": 5,
   "id": "ec5523c0",
   "metadata": {},
   "outputs": [],
   "source": [
    "X_train_train, X_val, y_train_train, y_val = train_test_split(X_train, y_train,\n",
    "                                                                 test_size=.2,\n",
    "                                                                   shuffle=True,\n",
    "                                                                   random_state=41,\n",
    "                                                                   stratify=y_train)"
   ]
  },
  {
   "cell_type": "code",
   "execution_count": 6,
   "id": "fef83606",
   "metadata": {},
   "outputs": [],
   "source": [
    "from sklearn.neural_network import MLPClassifier"
   ]
  },
  {
   "cell_type": "code",
   "execution_count": 7,
   "id": "56668883",
   "metadata": {},
   "outputs": [],
   "source": [
    "mlp1 = MLPClassifier(hidden_layer_sizes=(1000,),activation='logistic',\n",
    "                     max_iter=100000)  ###lots of values of the factors might require cross-validation.\n"
   ]
  },
  {
   "cell_type": "code",
   "execution_count": 8,
   "id": "8086ae6b",
   "metadata": {},
   "outputs": [
    {
     "data": {
      "text/html": [
       "<style>#sk-container-id-1 {color: black;}#sk-container-id-1 pre{padding: 0;}#sk-container-id-1 div.sk-toggleable {background-color: white;}#sk-container-id-1 label.sk-toggleable__label {cursor: pointer;display: block;width: 100%;margin-bottom: 0;padding: 0.3em;box-sizing: border-box;text-align: center;}#sk-container-id-1 label.sk-toggleable__label-arrow:before {content: \"▸\";float: left;margin-right: 0.25em;color: #696969;}#sk-container-id-1 label.sk-toggleable__label-arrow:hover:before {color: black;}#sk-container-id-1 div.sk-estimator:hover label.sk-toggleable__label-arrow:before {color: black;}#sk-container-id-1 div.sk-toggleable__content {max-height: 0;max-width: 0;overflow: hidden;text-align: left;background-color: #f0f8ff;}#sk-container-id-1 div.sk-toggleable__content pre {margin: 0.2em;color: black;border-radius: 0.25em;background-color: #f0f8ff;}#sk-container-id-1 input.sk-toggleable__control:checked~div.sk-toggleable__content {max-height: 200px;max-width: 100%;overflow: auto;}#sk-container-id-1 input.sk-toggleable__control:checked~label.sk-toggleable__label-arrow:before {content: \"▾\";}#sk-container-id-1 div.sk-estimator input.sk-toggleable__control:checked~label.sk-toggleable__label {background-color: #d4ebff;}#sk-container-id-1 div.sk-label input.sk-toggleable__control:checked~label.sk-toggleable__label {background-color: #d4ebff;}#sk-container-id-1 input.sk-hidden--visually {border: 0;clip: rect(1px 1px 1px 1px);clip: rect(1px, 1px, 1px, 1px);height: 1px;margin: -1px;overflow: hidden;padding: 0;position: absolute;width: 1px;}#sk-container-id-1 div.sk-estimator {font-family: monospace;background-color: #f0f8ff;border: 1px dotted black;border-radius: 0.25em;box-sizing: border-box;margin-bottom: 0.5em;}#sk-container-id-1 div.sk-estimator:hover {background-color: #d4ebff;}#sk-container-id-1 div.sk-parallel-item::after {content: \"\";width: 100%;border-bottom: 1px solid gray;flex-grow: 1;}#sk-container-id-1 div.sk-label:hover label.sk-toggleable__label {background-color: #d4ebff;}#sk-container-id-1 div.sk-serial::before {content: \"\";position: absolute;border-left: 1px solid gray;box-sizing: border-box;top: 0;bottom: 0;left: 50%;z-index: 0;}#sk-container-id-1 div.sk-serial {display: flex;flex-direction: column;align-items: center;background-color: white;padding-right: 0.2em;padding-left: 0.2em;position: relative;}#sk-container-id-1 div.sk-item {position: relative;z-index: 1;}#sk-container-id-1 div.sk-parallel {display: flex;align-items: stretch;justify-content: center;background-color: white;position: relative;}#sk-container-id-1 div.sk-item::before, #sk-container-id-1 div.sk-parallel-item::before {content: \"\";position: absolute;border-left: 1px solid gray;box-sizing: border-box;top: 0;bottom: 0;left: 50%;z-index: -1;}#sk-container-id-1 div.sk-parallel-item {display: flex;flex-direction: column;z-index: 1;position: relative;background-color: white;}#sk-container-id-1 div.sk-parallel-item:first-child::after {align-self: flex-end;width: 50%;}#sk-container-id-1 div.sk-parallel-item:last-child::after {align-self: flex-start;width: 50%;}#sk-container-id-1 div.sk-parallel-item:only-child::after {width: 0;}#sk-container-id-1 div.sk-dashed-wrapped {border: 1px dashed gray;margin: 0 0.4em 0.5em 0.4em;box-sizing: border-box;padding-bottom: 0.4em;background-color: white;}#sk-container-id-1 div.sk-label label {font-family: monospace;font-weight: bold;display: inline-block;line-height: 1.2em;}#sk-container-id-1 div.sk-label-container {text-align: center;}#sk-container-id-1 div.sk-container {/* jupyter's `normalize.less` sets `[hidden] { display: none; }` but bootstrap.min.css set `[hidden] { display: none !important; }` so we also need the `!important` here to be able to override the default hidden behavior on the sphinx rendered scikit-learn.org. See: https://github.com/scikit-learn/scikit-learn/issues/21755 */display: inline-block !important;position: relative;}#sk-container-id-1 div.sk-text-repr-fallback {display: none;}</style><div id=\"sk-container-id-1\" class=\"sk-top-container\"><div class=\"sk-text-repr-fallback\"><pre>MLPClassifier(activation=&#x27;logistic&#x27;, hidden_layer_sizes=(1000,),\n",
       "              max_iter=100000)</pre><b>In a Jupyter environment, please rerun this cell to show the HTML representation or trust the notebook. <br />On GitHub, the HTML representation is unable to render, please try loading this page with nbviewer.org.</b></div><div class=\"sk-container\" hidden><div class=\"sk-item\"><div class=\"sk-estimator sk-toggleable\"><input class=\"sk-toggleable__control sk-hidden--visually\" id=\"sk-estimator-id-1\" type=\"checkbox\" checked><label for=\"sk-estimator-id-1\" class=\"sk-toggleable__label sk-toggleable__label-arrow\">MLPClassifier</label><div class=\"sk-toggleable__content\"><pre>MLPClassifier(activation=&#x27;logistic&#x27;, hidden_layer_sizes=(1000,),\n",
       "              max_iter=100000)</pre></div></div></div></div></div>"
      ],
      "text/plain": [
       "MLPClassifier(activation='logistic', hidden_layer_sizes=(1000,),\n",
       "              max_iter=100000)"
      ]
     },
     "execution_count": 8,
     "metadata": {},
     "output_type": "execute_result"
    }
   ],
   "source": [
    "mlp1.fit(X_train_train, y_train_train)\n"
   ]
  },
  {
   "cell_type": "code",
   "execution_count": 9,
   "id": "c8c0e749",
   "metadata": {},
   "outputs": [],
   "source": [
    "from sklearn.metrics import accuracy_score"
   ]
  },
  {
   "cell_type": "code",
   "execution_count": 10,
   "id": "9f100b97",
   "metadata": {},
   "outputs": [
    {
     "name": "stdout",
     "output_type": "stream",
     "text": [
      "The single hidden layer with 1000 nodes has a training accuracy of 50.18\n",
      "The single hidden layer with 1000 nodes has a validation accuracy of 50.7\n"
     ]
    }
   ],
   "source": [
    "print(\"The single hidden layer with 1000 nodes has a training accuracy of\",\n",
    "         np.round(100*accuracy_score(y_train_train, mlp1.predict(X_train_train)),2))\n",
    "\n",
    "print(\"The single hidden layer with 1000 nodes has a validation accuracy of\",\n",
    "         np.round(100*accuracy_score(y_val, mlp1.predict(X_val)),2))"
   ]
  },
  {
   "cell_type": "code",
   "execution_count": 11,
   "id": "0f6bcc09",
   "metadata": {},
   "outputs": [],
   "source": [
    "mlp2 = MLPClassifier(hidden_layer_sizes=(500,500,),activation='logistic',\n",
    "                     max_iter=100000)"
   ]
  },
  {
   "cell_type": "code",
   "execution_count": 12,
   "id": "11950916",
   "metadata": {},
   "outputs": [
    {
     "data": {
      "text/html": [
       "<style>#sk-container-id-2 {color: black;}#sk-container-id-2 pre{padding: 0;}#sk-container-id-2 div.sk-toggleable {background-color: white;}#sk-container-id-2 label.sk-toggleable__label {cursor: pointer;display: block;width: 100%;margin-bottom: 0;padding: 0.3em;box-sizing: border-box;text-align: center;}#sk-container-id-2 label.sk-toggleable__label-arrow:before {content: \"▸\";float: left;margin-right: 0.25em;color: #696969;}#sk-container-id-2 label.sk-toggleable__label-arrow:hover:before {color: black;}#sk-container-id-2 div.sk-estimator:hover label.sk-toggleable__label-arrow:before {color: black;}#sk-container-id-2 div.sk-toggleable__content {max-height: 0;max-width: 0;overflow: hidden;text-align: left;background-color: #f0f8ff;}#sk-container-id-2 div.sk-toggleable__content pre {margin: 0.2em;color: black;border-radius: 0.25em;background-color: #f0f8ff;}#sk-container-id-2 input.sk-toggleable__control:checked~div.sk-toggleable__content {max-height: 200px;max-width: 100%;overflow: auto;}#sk-container-id-2 input.sk-toggleable__control:checked~label.sk-toggleable__label-arrow:before {content: \"▾\";}#sk-container-id-2 div.sk-estimator input.sk-toggleable__control:checked~label.sk-toggleable__label {background-color: #d4ebff;}#sk-container-id-2 div.sk-label input.sk-toggleable__control:checked~label.sk-toggleable__label {background-color: #d4ebff;}#sk-container-id-2 input.sk-hidden--visually {border: 0;clip: rect(1px 1px 1px 1px);clip: rect(1px, 1px, 1px, 1px);height: 1px;margin: -1px;overflow: hidden;padding: 0;position: absolute;width: 1px;}#sk-container-id-2 div.sk-estimator {font-family: monospace;background-color: #f0f8ff;border: 1px dotted black;border-radius: 0.25em;box-sizing: border-box;margin-bottom: 0.5em;}#sk-container-id-2 div.sk-estimator:hover {background-color: #d4ebff;}#sk-container-id-2 div.sk-parallel-item::after {content: \"\";width: 100%;border-bottom: 1px solid gray;flex-grow: 1;}#sk-container-id-2 div.sk-label:hover label.sk-toggleable__label {background-color: #d4ebff;}#sk-container-id-2 div.sk-serial::before {content: \"\";position: absolute;border-left: 1px solid gray;box-sizing: border-box;top: 0;bottom: 0;left: 50%;z-index: 0;}#sk-container-id-2 div.sk-serial {display: flex;flex-direction: column;align-items: center;background-color: white;padding-right: 0.2em;padding-left: 0.2em;position: relative;}#sk-container-id-2 div.sk-item {position: relative;z-index: 1;}#sk-container-id-2 div.sk-parallel {display: flex;align-items: stretch;justify-content: center;background-color: white;position: relative;}#sk-container-id-2 div.sk-item::before, #sk-container-id-2 div.sk-parallel-item::before {content: \"\";position: absolute;border-left: 1px solid gray;box-sizing: border-box;top: 0;bottom: 0;left: 50%;z-index: -1;}#sk-container-id-2 div.sk-parallel-item {display: flex;flex-direction: column;z-index: 1;position: relative;background-color: white;}#sk-container-id-2 div.sk-parallel-item:first-child::after {align-self: flex-end;width: 50%;}#sk-container-id-2 div.sk-parallel-item:last-child::after {align-self: flex-start;width: 50%;}#sk-container-id-2 div.sk-parallel-item:only-child::after {width: 0;}#sk-container-id-2 div.sk-dashed-wrapped {border: 1px dashed gray;margin: 0 0.4em 0.5em 0.4em;box-sizing: border-box;padding-bottom: 0.4em;background-color: white;}#sk-container-id-2 div.sk-label label {font-family: monospace;font-weight: bold;display: inline-block;line-height: 1.2em;}#sk-container-id-2 div.sk-label-container {text-align: center;}#sk-container-id-2 div.sk-container {/* jupyter's `normalize.less` sets `[hidden] { display: none; }` but bootstrap.min.css set `[hidden] { display: none !important; }` so we also need the `!important` here to be able to override the default hidden behavior on the sphinx rendered scikit-learn.org. See: https://github.com/scikit-learn/scikit-learn/issues/21755 */display: inline-block !important;position: relative;}#sk-container-id-2 div.sk-text-repr-fallback {display: none;}</style><div id=\"sk-container-id-2\" class=\"sk-top-container\"><div class=\"sk-text-repr-fallback\"><pre>MLPClassifier(activation=&#x27;logistic&#x27;, hidden_layer_sizes=(500, 500),\n",
       "              max_iter=100000)</pre><b>In a Jupyter environment, please rerun this cell to show the HTML representation or trust the notebook. <br />On GitHub, the HTML representation is unable to render, please try loading this page with nbviewer.org.</b></div><div class=\"sk-container\" hidden><div class=\"sk-item\"><div class=\"sk-estimator sk-toggleable\"><input class=\"sk-toggleable__control sk-hidden--visually\" id=\"sk-estimator-id-2\" type=\"checkbox\" checked><label for=\"sk-estimator-id-2\" class=\"sk-toggleable__label sk-toggleable__label-arrow\">MLPClassifier</label><div class=\"sk-toggleable__content\"><pre>MLPClassifier(activation=&#x27;logistic&#x27;, hidden_layer_sizes=(500, 500),\n",
       "              max_iter=100000)</pre></div></div></div></div></div>"
      ],
      "text/plain": [
       "MLPClassifier(activation='logistic', hidden_layer_sizes=(500, 500),\n",
       "              max_iter=100000)"
      ]
     },
     "execution_count": 12,
     "metadata": {},
     "output_type": "execute_result"
    }
   ],
   "source": [
    "mlp2.fit(X_train_train, y_train_train)"
   ]
  },
  {
   "cell_type": "code",
   "execution_count": 13,
   "id": "8f633c70",
   "metadata": {},
   "outputs": [
    {
     "name": "stdout",
     "output_type": "stream",
     "text": [
      "The two hidden layers with 500 nodes each has a training accuracy of 50.18\n",
      "The two hidden layers with 500 nodes each has a validation accuracy of 50.7\n"
     ]
    }
   ],
   "source": [
    "print(\"The two hidden layers with 500 nodes each has a training accuracy of\",\n",
    "         np.round(100*accuracy_score(y_train_train, mlp2.predict(X_train_train)),2))\n",
    "\n",
    "print(\"The two hidden layers with 500 nodes each has a validation accuracy of\",\n",
    "         np.round(100*accuracy_score(y_val, mlp2.predict(X_val)),2))"
   ]
  },
  {
   "cell_type": "code",
   "execution_count": null,
   "id": "9997074e",
   "metadata": {},
   "outputs": [],
   "source": []
  },
  {
   "cell_type": "code",
   "execution_count": null,
   "id": "64ef6851",
   "metadata": {},
   "outputs": [],
   "source": []
  },
  {
   "cell_type": "code",
   "execution_count": null,
   "id": "0dec16a5",
   "metadata": {},
   "outputs": [],
   "source": []
  }
 ],
 "metadata": {
  "kernelspec": {
   "display_name": "Python 3 (ipykernel)",
   "language": "python",
   "name": "python3"
  },
  "language_info": {
   "codemirror_mode": {
    "name": "ipython",
    "version": 3
   },
   "file_extension": ".py",
   "mimetype": "text/x-python",
   "name": "python",
   "nbconvert_exporter": "python",
   "pygments_lexer": "ipython3",
   "version": "3.11.0"
  }
 },
 "nbformat": 4,
 "nbformat_minor": 5
}
