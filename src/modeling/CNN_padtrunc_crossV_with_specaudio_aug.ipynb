{
 "cells": [
  {
   "cell_type": "code",
   "execution_count": 14,
   "id": "1f3504f7",
   "metadata": {},
   "outputs": [],
   "source": [
    "## For data handling\n",
    "import pandas as pd\n",
    "import numpy as np\n",
    "\n",
    "## For plotting\n",
    "import matplotlib.pyplot as plt\n",
    "from seaborn import set_style\n",
    "\n",
    "## This sets the plot style\n",
    "## to have a grid on a white background\n",
    "set_style(\"darkgrid\")"
   ]
  },
  {
   "cell_type": "code",
   "execution_count": 15,
   "id": "35284634",
   "metadata": {},
   "outputs": [
    {
     "name": "stdout",
     "output_type": "stream",
     "text": [
      "(440, 128, 67)\n"
     ]
    }
   ],
   "source": [
    "X_orig = np.load('../../data/processed_data/specgram_db_pad_trunc.npy')\n",
    "\n",
    "X_specaug1 = np.load('../../data/processed_data/augment_data/spec_pt_ftmask1.npy')\n",
    "X_tsh1 = np.load('../../data/processed_data/augment_data/spec_pt_timeshift1.npy')\n",
    "X_randn1 = np.load('../../data/processed_data/augment_data/spec_pt_randnoise1.npy')\n",
    "X_tstr1 = np.load('../../data/processed_data/augment_data/spec_pt_timestretch1.npy')\n",
    "\n",
    "X_specaug2 = np.load('../../data/processed_data/augment_data/spec_pt_ftmask2.npy')\n",
    "X_tsh2 = np.load('../../data/processed_data/augment_data/spec_pt_timeshift2.npy')\n",
    "X_randn2 = np.load('../../data/processed_data/augment_data/spec_pt_randnoise2.npy')\n",
    "X_tstr2 = np.load('../../data/processed_data/augment_data/spec_pt_timestretch2.npy')\n",
    "\n",
    "X_specaug3 = np.load('../../data/processed_data/augment_data/spec_pt_ftmask3.npy')\n",
    "X_tsh3 = np.load('../../data/processed_data/augment_data/spec_pt_timeshift3.npy')\n",
    "X_randn3 = np.load('../../data/processed_data/augment_data/spec_pt_randnoise3.npy')\n",
    "X_tstr3 = np.load('../../data/processed_data/augment_data/spec_pt_timestretch3.npy')\n",
    "\n",
    "print(X_orig.shape)"
   ]
  },
  {
   "cell_type": "code",
   "execution_count": 16,
   "id": "dc4e583f",
   "metadata": {},
   "outputs": [
    {
     "name": "stdout",
     "output_type": "stream",
     "text": [
      "(1320, 128, 67)\n",
      "(1320,)\n"
     ]
    }
   ],
   "source": [
    "#choose what to add to the orignal data\n",
    "X = np.concatenate((X_orig,X_specaug3,X_tstr3), axis=0)\n",
    "print(X.shape)\n",
    "\n",
    "df = pd.read_csv(\"../../data/processed_data/metadata.csv\")\n",
    "category_to_number = {'brushing': 0, 'food': 1, 'isolation': 2}\n",
    "\n",
    "# Create a new column with numerical values based on the mapping\n",
    "df['numerical_situation'] = df['situation'].map(category_to_number)\n",
    "\n",
    "y_orig = df['numerical_situation'].values\n",
    "y = np.concatenate((y_orig, y_orig, y_orig), axis=0)\n",
    "print(y.shape)"
   ]
  },
  {
   "cell_type": "code",
   "execution_count": 17,
   "id": "9c11dae5",
   "metadata": {},
   "outputs": [
    {
     "name": "stdout",
     "output_type": "stream",
     "text": [
      "(1320, 128, 67, 1)\n"
     ]
    }
   ],
   "source": [
    "# NEW to CONV nets\n",
    "## We need to reshape our data to be the correct dimensions for\n",
    "## the net\n",
    "## observations, grid, colorvalues\n",
    "\n",
    "##so we just need to add the colorvalues, 1 here represents single valued\n",
    "X = X.reshape(X.shape[0], X.shape[1], X.shape[2], 1)\n",
    "print(X.shape)"
   ]
  },
  {
   "cell_type": "code",
   "execution_count": 18,
   "id": "86b92e79",
   "metadata": {},
   "outputs": [],
   "source": [
    "def plottv(history_dict,epochs):\n",
    "    plt.figure(figsize = (8,6))\n",
    "\n",
    "    plt.scatter(range(1,epochs+1), history_dict['accuracy'], label = \"Training Accuracy\")\n",
    "    plt.scatter(range(1,epochs+1), history_dict['val_accuracy'], label = \"Validation Set Accuracy\")\n",
    "\n",
    "    plt.xlabel(\"Epoch\", fontsize=12)\n",
    "    plt.ylabel(\"Accuracy\", fontsize=12)\n",
    "\n",
    "    plt.xticks(fontsize=10)\n",
    "    plt.yticks(fontsize=10)\n",
    "\n",
    "    plt.legend(fontsize=12)\n",
    "\n",
    "    plt.show()\n",
    "\n",
    "\n",
    "    plt.figure(figsize = (8,6))\n",
    "\n",
    "    plt.scatter(range(1,epochs+1), history_dict['loss'], label = \"Training Loss\")\n",
    "    plt.scatter(range(1,epochs+1), history_dict['val_loss'], label = \"Validation Set Loss\")\n",
    "\n",
    "    plt.xlabel(\"Epoch\", fontsize=12)\n",
    "    plt.ylabel(\"Loss Function Value\", fontsize=12)\n",
    "\n",
    "    plt.xticks(fontsize=10)\n",
    "    plt.yticks(fontsize=10)\n",
    "\n",
    "    plt.legend(fontsize=12)\n",
    "\n",
    "    plt.show()"
   ]
  },
  {
   "cell_type": "code",
   "execution_count": 19,
   "id": "8a88f077",
   "metadata": {},
   "outputs": [],
   "source": [
    "from sklearn.model_selection import train_test_split\n",
    "\n",
    "X_train, X_test, y_train, y_test = train_test_split(X,y,\n",
    "                                                       test_size=.2,\n",
    "                                                       shuffle=True,\n",
    "                                                       random_state=100,\n",
    "                                                       stratify=y)"
   ]
  },
  {
   "cell_type": "code",
   "execution_count": 20,
   "id": "0e09e179",
   "metadata": {},
   "outputs": [],
   "source": [
    "## Importing the things\n",
    "from tensorflow.keras import models\n",
    "from tensorflow.keras import layers\n",
    "from tensorflow.keras import optimizers\n",
    "from tensorflow.keras import losses\n",
    "from tensorflow.keras import metrics\n",
    "from tensorflow.keras.utils import to_categorical\n",
    "from sklearn.model_selection import StratifiedKFold"
   ]
  },
  {
   "cell_type": "code",
   "execution_count": 22,
   "id": "eb2c1af5",
   "metadata": {},
   "outputs": [
    {
     "name": "stdout",
     "output_type": "stream",
     "text": [
      "Epoch 1/100\n",
      "1/1 [==============================] - 3s 3s/step - loss: 2.3476 - accuracy: 0.4759 - val_loss: 42.8012 - val_accuracy: 0.2699\n",
      "Epoch 2/100\n",
      "1/1 [==============================] - 2s 2s/step - loss: 40.7649 - accuracy: 0.2784 - val_loss: 25.2084 - val_accuracy: 0.2188\n",
      "Epoch 3/100\n"
     ]
    },
    {
     "ename": "KeyboardInterrupt",
     "evalue": "",
     "output_type": "error",
     "traceback": [
      "\u001b[0;31m---------------------------------------------------------------------------\u001b[0m",
      "\u001b[0;31mKeyboardInterrupt\u001b[0m                         Traceback (most recent call last)",
      "Cell \u001b[0;32mIn[22], line 30\u001b[0m\n\u001b[1;32m     25\u001b[0m model\u001b[38;5;241m.\u001b[39madd(layers\u001b[38;5;241m.\u001b[39mDense(\u001b[38;5;241m3\u001b[39m, activation\u001b[38;5;241m=\u001b[39m\u001b[38;5;124m'\u001b[39m\u001b[38;5;124msoftmax\u001b[39m\u001b[38;5;124m'\u001b[39m))\n\u001b[1;32m     26\u001b[0m model\u001b[38;5;241m.\u001b[39mcompile(optimizer\u001b[38;5;241m=\u001b[39m\u001b[38;5;124m'\u001b[39m\u001b[38;5;124madam\u001b[39m\u001b[38;5;124m'\u001b[39m,\n\u001b[1;32m     27\u001b[0m               loss\u001b[38;5;241m=\u001b[39m\u001b[38;5;124m'\u001b[39m\u001b[38;5;124mcategorical_crossentropy\u001b[39m\u001b[38;5;124m'\u001b[39m,\n\u001b[1;32m     28\u001b[0m               metrics\u001b[38;5;241m=\u001b[39m[\u001b[38;5;124m'\u001b[39m\u001b[38;5;124maccuracy\u001b[39m\u001b[38;5;124m'\u001b[39m])\n\u001b[0;32m---> 30\u001b[0m history \u001b[38;5;241m=\u001b[39m model\u001b[38;5;241m.\u001b[39mfit(X_tt, \n\u001b[1;32m     31\u001b[0m                       to_categorical(y_tt), \n\u001b[1;32m     32\u001b[0m                       epochs\u001b[38;5;241m=\u001b[39mepochs, \n\u001b[1;32m     33\u001b[0m                       batch_size\u001b[38;5;241m=\u001b[39m\u001b[38;5;28mint\u001b[39m(\u001b[38;5;28mlen\u001b[39m(y_tt)),\n\u001b[1;32m     34\u001b[0m                       validation_data\u001b[38;5;241m=\u001b[39m(X_val,to_categorical(y_val)))\n\u001b[1;32m     35\u001b[0m history_dict \u001b[38;5;241m=\u001b[39m history\u001b[38;5;241m.\u001b[39mhistory\n\u001b[1;32m     36\u001b[0m plottv(history_dict,epochs)\n",
      "File \u001b[0;32m/opt/homebrew/anaconda3/lib/python3.11/site-packages/keras/src/utils/traceback_utils.py:65\u001b[0m, in \u001b[0;36mfilter_traceback.<locals>.error_handler\u001b[0;34m(*args, **kwargs)\u001b[0m\n\u001b[1;32m     63\u001b[0m filtered_tb \u001b[38;5;241m=\u001b[39m \u001b[38;5;28;01mNone\u001b[39;00m\n\u001b[1;32m     64\u001b[0m \u001b[38;5;28;01mtry\u001b[39;00m:\n\u001b[0;32m---> 65\u001b[0m     \u001b[38;5;28;01mreturn\u001b[39;00m fn(\u001b[38;5;241m*\u001b[39margs, \u001b[38;5;241m*\u001b[39m\u001b[38;5;241m*\u001b[39mkwargs)\n\u001b[1;32m     66\u001b[0m \u001b[38;5;28;01mexcept\u001b[39;00m \u001b[38;5;167;01mException\u001b[39;00m \u001b[38;5;28;01mas\u001b[39;00m e:\n\u001b[1;32m     67\u001b[0m     filtered_tb \u001b[38;5;241m=\u001b[39m _process_traceback_frames(e\u001b[38;5;241m.\u001b[39m__traceback__)\n",
      "File \u001b[0;32m/opt/homebrew/anaconda3/lib/python3.11/site-packages/keras/src/engine/training.py:1742\u001b[0m, in \u001b[0;36mModel.fit\u001b[0;34m(self, x, y, batch_size, epochs, verbose, callbacks, validation_split, validation_data, shuffle, class_weight, sample_weight, initial_epoch, steps_per_epoch, validation_steps, validation_batch_size, validation_freq, max_queue_size, workers, use_multiprocessing)\u001b[0m\n\u001b[1;32m   1734\u001b[0m \u001b[38;5;28;01mwith\u001b[39;00m tf\u001b[38;5;241m.\u001b[39mprofiler\u001b[38;5;241m.\u001b[39mexperimental\u001b[38;5;241m.\u001b[39mTrace(\n\u001b[1;32m   1735\u001b[0m     \u001b[38;5;124m\"\u001b[39m\u001b[38;5;124mtrain\u001b[39m\u001b[38;5;124m\"\u001b[39m,\n\u001b[1;32m   1736\u001b[0m     epoch_num\u001b[38;5;241m=\u001b[39mepoch,\n\u001b[0;32m   (...)\u001b[0m\n\u001b[1;32m   1739\u001b[0m     _r\u001b[38;5;241m=\u001b[39m\u001b[38;5;241m1\u001b[39m,\n\u001b[1;32m   1740\u001b[0m ):\n\u001b[1;32m   1741\u001b[0m     callbacks\u001b[38;5;241m.\u001b[39mon_train_batch_begin(step)\n\u001b[0;32m-> 1742\u001b[0m     tmp_logs \u001b[38;5;241m=\u001b[39m \u001b[38;5;28mself\u001b[39m\u001b[38;5;241m.\u001b[39mtrain_function(iterator)\n\u001b[1;32m   1743\u001b[0m     \u001b[38;5;28;01mif\u001b[39;00m data_handler\u001b[38;5;241m.\u001b[39mshould_sync:\n\u001b[1;32m   1744\u001b[0m         context\u001b[38;5;241m.\u001b[39masync_wait()\n",
      "File \u001b[0;32m/opt/homebrew/anaconda3/lib/python3.11/site-packages/tensorflow/python/util/traceback_utils.py:150\u001b[0m, in \u001b[0;36mfilter_traceback.<locals>.error_handler\u001b[0;34m(*args, **kwargs)\u001b[0m\n\u001b[1;32m    148\u001b[0m filtered_tb \u001b[38;5;241m=\u001b[39m \u001b[38;5;28;01mNone\u001b[39;00m\n\u001b[1;32m    149\u001b[0m \u001b[38;5;28;01mtry\u001b[39;00m:\n\u001b[0;32m--> 150\u001b[0m   \u001b[38;5;28;01mreturn\u001b[39;00m fn(\u001b[38;5;241m*\u001b[39margs, \u001b[38;5;241m*\u001b[39m\u001b[38;5;241m*\u001b[39mkwargs)\n\u001b[1;32m    151\u001b[0m \u001b[38;5;28;01mexcept\u001b[39;00m \u001b[38;5;167;01mException\u001b[39;00m \u001b[38;5;28;01mas\u001b[39;00m e:\n\u001b[1;32m    152\u001b[0m   filtered_tb \u001b[38;5;241m=\u001b[39m _process_traceback_frames(e\u001b[38;5;241m.\u001b[39m__traceback__)\n",
      "File \u001b[0;32m/opt/homebrew/anaconda3/lib/python3.11/site-packages/tensorflow/python/eager/polymorphic_function/polymorphic_function.py:825\u001b[0m, in \u001b[0;36mFunction.__call__\u001b[0;34m(self, *args, **kwds)\u001b[0m\n\u001b[1;32m    822\u001b[0m compiler \u001b[38;5;241m=\u001b[39m \u001b[38;5;124m\"\u001b[39m\u001b[38;5;124mxla\u001b[39m\u001b[38;5;124m\"\u001b[39m \u001b[38;5;28;01mif\u001b[39;00m \u001b[38;5;28mself\u001b[39m\u001b[38;5;241m.\u001b[39m_jit_compile \u001b[38;5;28;01melse\u001b[39;00m \u001b[38;5;124m\"\u001b[39m\u001b[38;5;124mnonXla\u001b[39m\u001b[38;5;124m\"\u001b[39m\n\u001b[1;32m    824\u001b[0m \u001b[38;5;28;01mwith\u001b[39;00m OptionalXlaContext(\u001b[38;5;28mself\u001b[39m\u001b[38;5;241m.\u001b[39m_jit_compile):\n\u001b[0;32m--> 825\u001b[0m   result \u001b[38;5;241m=\u001b[39m \u001b[38;5;28mself\u001b[39m\u001b[38;5;241m.\u001b[39m_call(\u001b[38;5;241m*\u001b[39margs, \u001b[38;5;241m*\u001b[39m\u001b[38;5;241m*\u001b[39mkwds)\n\u001b[1;32m    827\u001b[0m new_tracing_count \u001b[38;5;241m=\u001b[39m \u001b[38;5;28mself\u001b[39m\u001b[38;5;241m.\u001b[39mexperimental_get_tracing_count()\n\u001b[1;32m    828\u001b[0m without_tracing \u001b[38;5;241m=\u001b[39m (tracing_count \u001b[38;5;241m==\u001b[39m new_tracing_count)\n",
      "File \u001b[0;32m/opt/homebrew/anaconda3/lib/python3.11/site-packages/tensorflow/python/eager/polymorphic_function/polymorphic_function.py:857\u001b[0m, in \u001b[0;36mFunction._call\u001b[0;34m(self, *args, **kwds)\u001b[0m\n\u001b[1;32m    854\u001b[0m   \u001b[38;5;28mself\u001b[39m\u001b[38;5;241m.\u001b[39m_lock\u001b[38;5;241m.\u001b[39mrelease()\n\u001b[1;32m    855\u001b[0m   \u001b[38;5;66;03m# In this case we have created variables on the first call, so we run the\u001b[39;00m\n\u001b[1;32m    856\u001b[0m   \u001b[38;5;66;03m# defunned version which is guaranteed to never create variables.\u001b[39;00m\n\u001b[0;32m--> 857\u001b[0m   \u001b[38;5;28;01mreturn\u001b[39;00m \u001b[38;5;28mself\u001b[39m\u001b[38;5;241m.\u001b[39m_no_variable_creation_fn(\u001b[38;5;241m*\u001b[39margs, \u001b[38;5;241m*\u001b[39m\u001b[38;5;241m*\u001b[39mkwds)  \u001b[38;5;66;03m# pylint: disable=not-callable\u001b[39;00m\n\u001b[1;32m    858\u001b[0m \u001b[38;5;28;01melif\u001b[39;00m \u001b[38;5;28mself\u001b[39m\u001b[38;5;241m.\u001b[39m_variable_creation_fn \u001b[38;5;129;01mis\u001b[39;00m \u001b[38;5;129;01mnot\u001b[39;00m \u001b[38;5;28;01mNone\u001b[39;00m:\n\u001b[1;32m    859\u001b[0m   \u001b[38;5;66;03m# Release the lock early so that multiple threads can perform the call\u001b[39;00m\n\u001b[1;32m    860\u001b[0m   \u001b[38;5;66;03m# in parallel.\u001b[39;00m\n\u001b[1;32m    861\u001b[0m   \u001b[38;5;28mself\u001b[39m\u001b[38;5;241m.\u001b[39m_lock\u001b[38;5;241m.\u001b[39mrelease()\n",
      "File \u001b[0;32m/opt/homebrew/anaconda3/lib/python3.11/site-packages/tensorflow/python/eager/polymorphic_function/tracing_compiler.py:148\u001b[0m, in \u001b[0;36mTracingCompiler.__call__\u001b[0;34m(self, *args, **kwargs)\u001b[0m\n\u001b[1;32m    145\u001b[0m \u001b[38;5;28;01mwith\u001b[39;00m \u001b[38;5;28mself\u001b[39m\u001b[38;5;241m.\u001b[39m_lock:\n\u001b[1;32m    146\u001b[0m   (concrete_function,\n\u001b[1;32m    147\u001b[0m    filtered_flat_args) \u001b[38;5;241m=\u001b[39m \u001b[38;5;28mself\u001b[39m\u001b[38;5;241m.\u001b[39m_maybe_define_function(args, kwargs)\n\u001b[0;32m--> 148\u001b[0m \u001b[38;5;28;01mreturn\u001b[39;00m concrete_function\u001b[38;5;241m.\u001b[39m_call_flat(\n\u001b[1;32m    149\u001b[0m     filtered_flat_args, captured_inputs\u001b[38;5;241m=\u001b[39mconcrete_function\u001b[38;5;241m.\u001b[39mcaptured_inputs)\n",
      "File \u001b[0;32m/opt/homebrew/anaconda3/lib/python3.11/site-packages/tensorflow/python/eager/polymorphic_function/monomorphic_function.py:1349\u001b[0m, in \u001b[0;36mConcreteFunction._call_flat\u001b[0;34m(self, args, captured_inputs)\u001b[0m\n\u001b[1;32m   1345\u001b[0m possible_gradient_type \u001b[38;5;241m=\u001b[39m gradients_util\u001b[38;5;241m.\u001b[39mPossibleTapeGradientTypes(args)\n\u001b[1;32m   1346\u001b[0m \u001b[38;5;28;01mif\u001b[39;00m (possible_gradient_type \u001b[38;5;241m==\u001b[39m gradients_util\u001b[38;5;241m.\u001b[39mPOSSIBLE_GRADIENT_TYPES_NONE\n\u001b[1;32m   1347\u001b[0m     \u001b[38;5;129;01mand\u001b[39;00m executing_eagerly):\n\u001b[1;32m   1348\u001b[0m   \u001b[38;5;66;03m# No tape is watching; skip to running the function.\u001b[39;00m\n\u001b[0;32m-> 1349\u001b[0m   \u001b[38;5;28;01mreturn\u001b[39;00m \u001b[38;5;28mself\u001b[39m\u001b[38;5;241m.\u001b[39m_build_call_outputs(\u001b[38;5;28mself\u001b[39m\u001b[38;5;241m.\u001b[39m_inference_function(\u001b[38;5;241m*\u001b[39margs))\n\u001b[1;32m   1350\u001b[0m forward_backward \u001b[38;5;241m=\u001b[39m \u001b[38;5;28mself\u001b[39m\u001b[38;5;241m.\u001b[39m_select_forward_and_backward_functions(\n\u001b[1;32m   1351\u001b[0m     args,\n\u001b[1;32m   1352\u001b[0m     possible_gradient_type,\n\u001b[1;32m   1353\u001b[0m     executing_eagerly)\n\u001b[1;32m   1354\u001b[0m forward_function, args_with_tangents \u001b[38;5;241m=\u001b[39m forward_backward\u001b[38;5;241m.\u001b[39mforward()\n",
      "File \u001b[0;32m/opt/homebrew/anaconda3/lib/python3.11/site-packages/tensorflow/python/eager/polymorphic_function/atomic_function.py:196\u001b[0m, in \u001b[0;36mAtomicFunction.__call__\u001b[0;34m(self, *args)\u001b[0m\n\u001b[1;32m    194\u001b[0m \u001b[38;5;28;01mwith\u001b[39;00m record\u001b[38;5;241m.\u001b[39mstop_recording():\n\u001b[1;32m    195\u001b[0m   \u001b[38;5;28;01mif\u001b[39;00m \u001b[38;5;28mself\u001b[39m\u001b[38;5;241m.\u001b[39m_bound_context\u001b[38;5;241m.\u001b[39mexecuting_eagerly():\n\u001b[0;32m--> 196\u001b[0m     outputs \u001b[38;5;241m=\u001b[39m \u001b[38;5;28mself\u001b[39m\u001b[38;5;241m.\u001b[39m_bound_context\u001b[38;5;241m.\u001b[39mcall_function(\n\u001b[1;32m    197\u001b[0m         \u001b[38;5;28mself\u001b[39m\u001b[38;5;241m.\u001b[39mname,\n\u001b[1;32m    198\u001b[0m         \u001b[38;5;28mlist\u001b[39m(args),\n\u001b[1;32m    199\u001b[0m         \u001b[38;5;28mlen\u001b[39m(\u001b[38;5;28mself\u001b[39m\u001b[38;5;241m.\u001b[39mfunction_type\u001b[38;5;241m.\u001b[39mflat_outputs),\n\u001b[1;32m    200\u001b[0m     )\n\u001b[1;32m    201\u001b[0m   \u001b[38;5;28;01melse\u001b[39;00m:\n\u001b[1;32m    202\u001b[0m     outputs \u001b[38;5;241m=\u001b[39m make_call_op_in_graph(\u001b[38;5;28mself\u001b[39m, \u001b[38;5;28mlist\u001b[39m(args))\n",
      "File \u001b[0;32m/opt/homebrew/anaconda3/lib/python3.11/site-packages/tensorflow/python/eager/context.py:1457\u001b[0m, in \u001b[0;36mContext.call_function\u001b[0;34m(self, name, tensor_inputs, num_outputs)\u001b[0m\n\u001b[1;32m   1455\u001b[0m cancellation_context \u001b[38;5;241m=\u001b[39m cancellation\u001b[38;5;241m.\u001b[39mcontext()\n\u001b[1;32m   1456\u001b[0m \u001b[38;5;28;01mif\u001b[39;00m cancellation_context \u001b[38;5;129;01mis\u001b[39;00m \u001b[38;5;28;01mNone\u001b[39;00m:\n\u001b[0;32m-> 1457\u001b[0m   outputs \u001b[38;5;241m=\u001b[39m execute\u001b[38;5;241m.\u001b[39mexecute(\n\u001b[1;32m   1458\u001b[0m       name\u001b[38;5;241m.\u001b[39mdecode(\u001b[38;5;124m\"\u001b[39m\u001b[38;5;124mutf-8\u001b[39m\u001b[38;5;124m\"\u001b[39m),\n\u001b[1;32m   1459\u001b[0m       num_outputs\u001b[38;5;241m=\u001b[39mnum_outputs,\n\u001b[1;32m   1460\u001b[0m       inputs\u001b[38;5;241m=\u001b[39mtensor_inputs,\n\u001b[1;32m   1461\u001b[0m       attrs\u001b[38;5;241m=\u001b[39mattrs,\n\u001b[1;32m   1462\u001b[0m       ctx\u001b[38;5;241m=\u001b[39m\u001b[38;5;28mself\u001b[39m,\n\u001b[1;32m   1463\u001b[0m   )\n\u001b[1;32m   1464\u001b[0m \u001b[38;5;28;01melse\u001b[39;00m:\n\u001b[1;32m   1465\u001b[0m   outputs \u001b[38;5;241m=\u001b[39m execute\u001b[38;5;241m.\u001b[39mexecute_with_cancellation(\n\u001b[1;32m   1466\u001b[0m       name\u001b[38;5;241m.\u001b[39mdecode(\u001b[38;5;124m\"\u001b[39m\u001b[38;5;124mutf-8\u001b[39m\u001b[38;5;124m\"\u001b[39m),\n\u001b[1;32m   1467\u001b[0m       num_outputs\u001b[38;5;241m=\u001b[39mnum_outputs,\n\u001b[0;32m   (...)\u001b[0m\n\u001b[1;32m   1471\u001b[0m       cancellation_manager\u001b[38;5;241m=\u001b[39mcancellation_context,\n\u001b[1;32m   1472\u001b[0m   )\n",
      "File \u001b[0;32m/opt/homebrew/anaconda3/lib/python3.11/site-packages/tensorflow/python/eager/execute.py:53\u001b[0m, in \u001b[0;36mquick_execute\u001b[0;34m(op_name, num_outputs, inputs, attrs, ctx, name)\u001b[0m\n\u001b[1;32m     51\u001b[0m \u001b[38;5;28;01mtry\u001b[39;00m:\n\u001b[1;32m     52\u001b[0m   ctx\u001b[38;5;241m.\u001b[39mensure_initialized()\n\u001b[0;32m---> 53\u001b[0m   tensors \u001b[38;5;241m=\u001b[39m pywrap_tfe\u001b[38;5;241m.\u001b[39mTFE_Py_Execute(ctx\u001b[38;5;241m.\u001b[39m_handle, device_name, op_name,\n\u001b[1;32m     54\u001b[0m                                       inputs, attrs, num_outputs)\n\u001b[1;32m     55\u001b[0m \u001b[38;5;28;01mexcept\u001b[39;00m core\u001b[38;5;241m.\u001b[39m_NotOkStatusException \u001b[38;5;28;01mas\u001b[39;00m e:\n\u001b[1;32m     56\u001b[0m   \u001b[38;5;28;01mif\u001b[39;00m name \u001b[38;5;129;01mis\u001b[39;00m \u001b[38;5;129;01mnot\u001b[39;00m \u001b[38;5;28;01mNone\u001b[39;00m:\n",
      "\u001b[0;31mKeyboardInterrupt\u001b[0m: "
     ]
    }
   ],
   "source": [
    "## Cross Validation folds\n",
    "kfold = StratifiedKFold(3,\n",
    "                        shuffle=True,\n",
    "                        random_state=846)\n",
    "epochs=100\n",
    "\n",
    "for train_index, test_index in kfold.split(X_train,y_train):\n",
    "    \n",
    "    X_tt, X_val = X[train_index], X[test_index]\n",
    "    y_tt, y_val = y[train_index], y[test_index]\n",
    "    \n",
    "    model = models.Sequential()\n",
    "    model.add( layers.Conv2D(32, (6,4), activation='relu', input_shape=(X.shape[1],X.shape[2],1,) ) )\n",
    "    model.add( layers.MaxPooling2D( (3,2), strides = 2 ) )\n",
    "    model.add( layers.Conv2D(64, (6,4), activation='relu'))\n",
    "    model.add( layers.MaxPooling2D( (3,2), strides = 2) )\n",
    "    model.add( layers.Conv2D(96, (6,4), activation='relu'))\n",
    "    model.add( layers.MaxPooling2D( (3,2), strides = 2) )\n",
    "    \n",
    "    \n",
    "    model.add( layers.Flatten() )\n",
    "    model.add(layers.Dense(45, activation='relu'))\n",
    "\n",
    "    ## Finally an output layer\n",
    "    model.add(layers.Dense(3, activation='softmax'))\n",
    "    model.compile(optimizer='adam',\n",
    "                  loss='categorical_crossentropy',\n",
    "                  metrics=['accuracy'])\n",
    "    \n",
    "    history = model.fit(X_tt, \n",
    "                          to_categorical(y_tt), \n",
    "                          epochs=epochs, \n",
    "                          batch_size=int(len(y_tt)),\n",
    "                          validation_data=(X_val,to_categorical(y_val)))\n",
    "    history_dict = history.history\n",
    "    plottv(history_dict,epochs)"
   ]
  },
  {
   "cell_type": "code",
   "execution_count": 8,
   "id": "c62853b2",
   "metadata": {},
   "outputs": [
    {
     "name": "stdout",
     "output_type": "stream",
     "text": [
      "Epoch 1/100\n",
      "1/1 [==============================] - 4s 4s/step - loss: 4.8149 - accuracy: 0.2888\n",
      "Epoch 2/100\n",
      "1/1 [==============================] - 3s 3s/step - loss: 17.6588 - accuracy: 0.5019\n",
      "Epoch 3/100\n",
      "1/1 [==============================] - 3s 3s/step - loss: 5.1793 - accuracy: 0.5019\n",
      "Epoch 4/100\n",
      "1/1 [==============================] - 3s 3s/step - loss: 1.8981 - accuracy: 0.2093\n",
      "Epoch 5/100\n",
      "1/1 [==============================] - 3s 3s/step - loss: 1.2971 - accuracy: 0.2888\n",
      "Epoch 6/100\n",
      "1/1 [==============================] - 3s 3s/step - loss: 1.2404 - accuracy: 0.2879\n",
      "Epoch 7/100\n",
      "1/1 [==============================] - 3s 3s/step - loss: 1.1134 - accuracy: 0.2898\n",
      "Epoch 8/100\n",
      "1/1 [==============================] - 3s 3s/step - loss: 1.0488 - accuracy: 0.5019\n",
      "Epoch 9/100\n",
      "1/1 [==============================] - 3s 3s/step - loss: 1.1009 - accuracy: 0.4915\n",
      "Epoch 10/100\n",
      "1/1 [==============================] - 3s 3s/step - loss: 1.0406 - accuracy: 0.5028\n",
      "Epoch 11/100\n",
      "1/1 [==============================] - 5s 5s/step - loss: 1.0117 - accuracy: 0.5019\n",
      "Epoch 12/100\n",
      "1/1 [==============================] - 5s 5s/step - loss: 0.9915 - accuracy: 0.5114\n",
      "Epoch 13/100\n",
      "1/1 [==============================] - 5s 5s/step - loss: 0.9886 - accuracy: 0.5417\n",
      "Epoch 14/100\n",
      "1/1 [==============================] - 5s 5s/step - loss: 0.9804 - accuracy: 0.5653\n",
      "Epoch 15/100\n",
      "1/1 [==============================] - 5s 5s/step - loss: 0.9539 - accuracy: 0.5540\n",
      "Epoch 16/100\n",
      "1/1 [==============================] - 3s 3s/step - loss: 0.9235 - accuracy: 0.5559\n",
      "Epoch 17/100\n",
      "1/1 [==============================] - 3s 3s/step - loss: 0.9011 - accuracy: 0.5473\n",
      "Epoch 18/100\n",
      "1/1 [==============================] - 3s 3s/step - loss: 0.8879 - accuracy: 0.5549\n",
      "Epoch 19/100\n",
      "1/1 [==============================] - 3s 3s/step - loss: 0.8752 - accuracy: 0.5625\n",
      "Epoch 20/100\n",
      "1/1 [==============================] - 3s 3s/step - loss: 0.8603 - accuracy: 0.5701\n",
      "Epoch 21/100\n",
      "1/1 [==============================] - 3s 3s/step - loss: 0.8441 - accuracy: 0.5890\n",
      "Epoch 22/100\n",
      "1/1 [==============================] - 3s 3s/step - loss: 0.8366 - accuracy: 0.6004\n",
      "Epoch 23/100\n",
      "1/1 [==============================] - 3s 3s/step - loss: 0.8329 - accuracy: 0.6165\n",
      "Epoch 24/100\n",
      "1/1 [==============================] - 3s 3s/step - loss: 0.8184 - accuracy: 0.6070\n",
      "Epoch 25/100\n",
      "1/1 [==============================] - 3s 3s/step - loss: 0.8051 - accuracy: 0.6241\n",
      "Epoch 26/100\n",
      "1/1 [==============================] - 3s 3s/step - loss: 0.7942 - accuracy: 0.6278\n",
      "Epoch 27/100\n",
      "1/1 [==============================] - 3s 3s/step - loss: 0.7797 - accuracy: 0.6439\n",
      "Epoch 28/100\n",
      "1/1 [==============================] - 3s 3s/step - loss: 0.7658 - accuracy: 0.6468\n",
      "Epoch 29/100\n",
      "1/1 [==============================] - 3s 3s/step - loss: 0.7542 - accuracy: 0.6515\n",
      "Epoch 30/100\n",
      "1/1 [==============================] - 3s 3s/step - loss: 0.7426 - accuracy: 0.6496\n",
      "Epoch 31/100\n",
      "1/1 [==============================] - 3s 3s/step - loss: 0.7381 - accuracy: 0.6212\n",
      "Epoch 32/100\n",
      "1/1 [==============================] - 3s 3s/step - loss: 0.7304 - accuracy: 0.6411\n",
      "Epoch 33/100\n",
      "1/1 [==============================] - 3s 3s/step - loss: 0.7249 - accuracy: 0.6667\n",
      "Epoch 34/100\n",
      "1/1 [==============================] - 3s 3s/step - loss: 0.7147 - accuracy: 0.6686\n",
      "Epoch 35/100\n",
      "1/1 [==============================] - 3s 3s/step - loss: 0.7073 - accuracy: 0.6534\n",
      "Epoch 36/100\n",
      "1/1 [==============================] - 3s 3s/step - loss: 0.6971 - accuracy: 0.6733\n",
      "Epoch 37/100\n",
      "1/1 [==============================] - 3s 3s/step - loss: 0.6906 - accuracy: 0.6894\n",
      "Epoch 38/100\n",
      "1/1 [==============================] - 3s 3s/step - loss: 0.6804 - accuracy: 0.6922\n",
      "Epoch 39/100\n",
      "1/1 [==============================] - 3s 3s/step - loss: 0.6753 - accuracy: 0.6932\n",
      "Epoch 40/100\n",
      "1/1 [==============================] - 3s 3s/step - loss: 0.6743 - accuracy: 0.7045\n",
      "Epoch 41/100\n",
      "1/1 [==============================] - 3s 3s/step - loss: 0.6768 - accuracy: 0.7093\n",
      "Epoch 42/100\n",
      "1/1 [==============================] - 3s 3s/step - loss: 0.6694 - accuracy: 0.6922\n",
      "Epoch 43/100\n",
      "1/1 [==============================] - 3s 3s/step - loss: 0.6488 - accuracy: 0.7216\n",
      "Epoch 44/100\n",
      "1/1 [==============================] - 3s 3s/step - loss: 0.6590 - accuracy: 0.7102\n",
      "Epoch 45/100\n",
      "1/1 [==============================] - 3s 3s/step - loss: 0.6438 - accuracy: 0.7150\n",
      "Epoch 46/100\n",
      "1/1 [==============================] - 3s 3s/step - loss: 0.6370 - accuracy: 0.7216\n",
      "Epoch 47/100\n",
      "1/1 [==============================] - 3s 3s/step - loss: 0.6372 - accuracy: 0.7330\n",
      "Epoch 48/100\n",
      "1/1 [==============================] - 3s 3s/step - loss: 0.6252 - accuracy: 0.7358\n",
      "Epoch 49/100\n",
      "1/1 [==============================] - 3s 3s/step - loss: 0.6239 - accuracy: 0.7348\n",
      "Epoch 50/100\n",
      "1/1 [==============================] - 3s 3s/step - loss: 0.6161 - accuracy: 0.7386\n",
      "Epoch 51/100\n",
      "1/1 [==============================] - 3s 3s/step - loss: 0.6096 - accuracy: 0.7386\n",
      "Epoch 52/100\n",
      "1/1 [==============================] - 3s 3s/step - loss: 0.6081 - accuracy: 0.7519\n",
      "Epoch 53/100\n",
      "1/1 [==============================] - 3s 3s/step - loss: 0.5979 - accuracy: 0.7462\n",
      "Epoch 54/100\n",
      "1/1 [==============================] - 3s 3s/step - loss: 0.5974 - accuracy: 0.7396\n",
      "Epoch 55/100\n",
      "1/1 [==============================] - 3s 3s/step - loss: 0.5883 - accuracy: 0.7519\n",
      "Epoch 56/100\n",
      "1/1 [==============================] - 3s 3s/step - loss: 0.5863 - accuracy: 0.7595\n",
      "Epoch 57/100\n",
      "1/1 [==============================] - 3s 3s/step - loss: 0.5806 - accuracy: 0.7481\n",
      "Epoch 58/100\n",
      "1/1 [==============================] - 3s 3s/step - loss: 0.5748 - accuracy: 0.7519\n",
      "Epoch 59/100\n",
      "1/1 [==============================] - 3s 3s/step - loss: 0.5711 - accuracy: 0.7689\n",
      "Epoch 60/100\n",
      "1/1 [==============================] - 3s 3s/step - loss: 0.5642 - accuracy: 0.7604\n",
      "Epoch 61/100\n",
      "1/1 [==============================] - 3s 3s/step - loss: 0.5608 - accuracy: 0.7604\n",
      "Epoch 62/100\n",
      "1/1 [==============================] - 3s 3s/step - loss: 0.5529 - accuracy: 0.7689\n",
      "Epoch 63/100\n",
      "1/1 [==============================] - 3s 3s/step - loss: 0.5641 - accuracy: 0.7708\n",
      "Epoch 64/100\n",
      "1/1 [==============================] - 3s 3s/step - loss: 0.5576 - accuracy: 0.7566\n",
      "Epoch 65/100\n",
      "1/1 [==============================] - 3s 3s/step - loss: 0.5427 - accuracy: 0.7737\n",
      "Epoch 66/100\n",
      "1/1 [==============================] - 3s 3s/step - loss: 0.5375 - accuracy: 0.7898\n",
      "Epoch 67/100\n",
      "1/1 [==============================] - 3s 3s/step - loss: 0.5503 - accuracy: 0.7519\n",
      "Epoch 68/100\n",
      "1/1 [==============================] - 3s 3s/step - loss: 0.5359 - accuracy: 0.7898\n",
      "Epoch 69/100\n",
      "1/1 [==============================] - 3s 3s/step - loss: 0.5194 - accuracy: 0.7936\n",
      "Epoch 70/100\n",
      "1/1 [==============================] - 3s 3s/step - loss: 0.5267 - accuracy: 0.7756\n",
      "Epoch 71/100\n",
      "1/1 [==============================] - 3s 3s/step - loss: 0.5115 - accuracy: 0.8011\n",
      "Epoch 72/100\n",
      "1/1 [==============================] - 3s 3s/step - loss: 0.5067 - accuracy: 0.8087\n",
      "Epoch 73/100\n",
      "1/1 [==============================] - 3s 3s/step - loss: 0.5056 - accuracy: 0.7879\n",
      "Epoch 74/100\n",
      "1/1 [==============================] - 3s 3s/step - loss: 0.4919 - accuracy: 0.7973\n",
      "Epoch 75/100\n",
      "1/1 [==============================] - 3s 3s/step - loss: 0.4954 - accuracy: 0.8049\n",
      "Epoch 76/100\n",
      "1/1 [==============================] - 3s 3s/step - loss: 0.4808 - accuracy: 0.8059\n",
      "Epoch 77/100\n",
      "1/1 [==============================] - 3s 3s/step - loss: 0.4787 - accuracy: 0.8040\n",
      "Epoch 78/100\n",
      "1/1 [==============================] - 3s 3s/step - loss: 0.4734 - accuracy: 0.8210\n",
      "Epoch 79/100\n",
      "1/1 [==============================] - 3s 3s/step - loss: 0.4621 - accuracy: 0.8239\n",
      "Epoch 80/100\n",
      "1/1 [==============================] - 3s 3s/step - loss: 0.4627 - accuracy: 0.8116\n",
      "Epoch 81/100\n",
      "1/1 [==============================] - 4s 4s/step - loss: 0.4503 - accuracy: 0.8324\n",
      "Epoch 82/100\n",
      "1/1 [==============================] - 3s 3s/step - loss: 0.4476 - accuracy: 0.8352\n",
      "Epoch 83/100\n",
      "1/1 [==============================] - 4s 4s/step - loss: 0.4411 - accuracy: 0.8248\n",
      "Epoch 84/100\n",
      "1/1 [==============================] - 4s 4s/step - loss: 0.4315 - accuracy: 0.8428\n",
      "Epoch 85/100\n"
     ]
    },
    {
     "name": "stdout",
     "output_type": "stream",
     "text": [
      "1/1 [==============================] - 3s 3s/step - loss: 0.4281 - accuracy: 0.8438\n",
      "Epoch 86/100\n",
      "1/1 [==============================] - 3s 3s/step - loss: 0.4189 - accuracy: 0.8475\n",
      "Epoch 87/100\n",
      "1/1 [==============================] - 3s 3s/step - loss: 0.4113 - accuracy: 0.8532\n",
      "Epoch 88/100\n",
      "1/1 [==============================] - 3s 3s/step - loss: 0.4057 - accuracy: 0.8542\n",
      "Epoch 89/100\n",
      "1/1 [==============================] - 3s 3s/step - loss: 0.3979 - accuracy: 0.8523\n",
      "Epoch 90/100\n",
      "1/1 [==============================] - 3s 3s/step - loss: 0.3900 - accuracy: 0.8580\n",
      "Epoch 91/100\n",
      "1/1 [==============================] - 3s 3s/step - loss: 0.3824 - accuracy: 0.8636\n",
      "Epoch 92/100\n",
      "1/1 [==============================] - 3s 3s/step - loss: 0.3761 - accuracy: 0.8646\n",
      "Epoch 93/100\n",
      "1/1 [==============================] - 3s 3s/step - loss: 0.3687 - accuracy: 0.8598\n",
      "Epoch 94/100\n",
      "1/1 [==============================] - 3s 3s/step - loss: 0.3597 - accuracy: 0.8636\n",
      "Epoch 95/100\n",
      "1/1 [==============================] - 3s 3s/step - loss: 0.3523 - accuracy: 0.8693\n",
      "Epoch 96/100\n",
      "1/1 [==============================] - 3s 3s/step - loss: 0.3467 - accuracy: 0.8646\n",
      "Epoch 97/100\n",
      "1/1 [==============================] - 3s 3s/step - loss: 0.3389 - accuracy: 0.8797\n",
      "Epoch 98/100\n",
      "1/1 [==============================] - 3s 3s/step - loss: 0.3306 - accuracy: 0.8731\n",
      "Epoch 99/100\n",
      "1/1 [==============================] - 3s 3s/step - loss: 0.3227 - accuracy: 0.8778\n",
      "Epoch 100/100\n",
      "1/1 [==============================] - 3s 3s/step - loss: 0.3148 - accuracy: 0.8854\n"
     ]
    }
   ],
   "source": [
    "epochs = 100 ##earlier stop, observed from Cross validation\n",
    "\n",
    "model = models.Sequential()\n",
    "model.add( layers.Conv2D(32, (6,4), activation='relu', input_shape=(X.shape[1],X.shape[2],1,) ) )\n",
    "model.add( layers.MaxPooling2D( (3,2), strides = 2 ) )\n",
    "model.add( layers.Conv2D(64, (6,4), activation='relu'))\n",
    "model.add( layers.MaxPooling2D( (3,2), strides = 2) )\n",
    "model.add( layers.Conv2D(96, (6,4), activation='relu'))\n",
    "model.add( layers.MaxPooling2D( (3,2), strides = 2) )\n",
    "    \n",
    "    \n",
    "model.add( layers.Flatten() )\n",
    "model.add(layers.Dense(45, activation='relu'))\n",
    "\n",
    "## Finally an output layer\n",
    "model.add(layers.Dense(3, activation='softmax'))\n",
    "model.compile(optimizer='adam',\n",
    "              loss='categorical_crossentropy',\n",
    "              metrics=['accuracy'])\n",
    "\n",
    "\n",
    "history = model.fit(X_train, \n",
    "                    to_categorical(y_train), \n",
    "                    epochs=epochs, \n",
    "                    batch_size=len(y_train)\n",
    "                    )\n",
    "#history_dict = history.history\n",
    "#plottv(history_dict,epochs)"
   ]
  },
  {
   "cell_type": "code",
   "execution_count": 9,
   "id": "37151df9",
   "metadata": {},
   "outputs": [
    {
     "name": "stdout",
     "output_type": "stream",
     "text": [
      "9/9 [==============================] - 0s 24ms/step - loss: 0.4423 - accuracy: 0.8144\n"
     ]
    },
    {
     "data": {
      "text/plain": [
       "[0.44233277440071106, 0.814393937587738]"
      ]
     },
     "execution_count": 9,
     "metadata": {},
     "output_type": "execute_result"
    }
   ],
   "source": [
    "model.evaluate(X_test,to_categorical(y_test)) ##If want to use this predict new data, use model.predict() after loading the model\n",
    "\n"
   ]
  },
  {
   "cell_type": "code",
   "execution_count": 10,
   "id": "2dbd3149",
   "metadata": {},
   "outputs": [
    {
     "name": "stdout",
     "output_type": "stream",
     "text": [
      "9/9 [==============================] - 0s 24ms/step\n"
     ]
    }
   ],
   "source": [
    "predictions = model.predict(X_test)"
   ]
  },
  {
   "cell_type": "code",
   "execution_count": 11,
   "id": "f19e7e24",
   "metadata": {},
   "outputs": [
    {
     "name": "stdout",
     "output_type": "stream",
     "text": [
      "[2 0 2 2 2 0 0 0 0 2 2 2 2 2 2 1 0 0 2 2 2 0 2 1 0 2 1 0 0 0 1 2 0 2 2 2 2\n",
      " 2 2 1 1 0 0 0 1 2 0 2 2 0 2 2 1 2 2 1 2 2 0 0 2 2 0 0 1 1 2 2 0 0 0 0 0 0\n",
      " 2 1 2 2 0 2 0 2 2 2 1 2 2 2 2 1 2 2 1 2 2 0 0 2 2 2 1 0 2 2 1 2 2 2 2 2 2\n",
      " 2 2 2 0 0 1 1 2 1 0 1 2 2 0 1 1 2 0 1 0 2 0 2 1 2 2 0 2 2 0 0 1 0 2 1 1 2\n",
      " 0 1 0 1 2 0 2 1 2 2 1 1 1 1 2 2 1 0 2 1 2 2 2 0 2 2 2 1 1 2 2 1 2 2 2 0 2\n",
      " 0 0 1 1 2 2 0 2 2 2 0 2 2 2 0 2 0 2 2 1 0 2 2 0 1 0 2 2 2 2 0 1 2 1 0 2 2\n",
      " 0 0 1 2 0 2 1 2 2 2 1 2 0 2 2 2 1 1 0 1 0 2 1 0 0 0 1 0 2 0 1 2 1 0 2 1 2\n",
      " 1 2 1 1 1]\n"
     ]
    }
   ],
   "source": [
    "predicted_categ = np.argmax(predictions, axis=1)\n",
    "\n",
    "# 'predicted_labels' now contains the predicted class indices for each sample\n",
    "print(predicted_categ)"
   ]
  },
  {
   "cell_type": "code",
   "execution_count": 12,
   "id": "ed51bd45",
   "metadata": {},
   "outputs": [
    {
     "data": {
      "text/plain": [
       "array([ 0,  0,  1,  0,  0,  0,  0,  0,  0,  0,  0,  0,  0,  0,  0,  1,  0,\n",
       "        0,  0,  0,  0, -2,  0,  1,  0,  0,  0, -2,  0, -1,  0,  0,  0,  0,\n",
       "        0,  2,  0,  0,  0, -1,  0, -1,  0,  0,  0,  0,  0,  0,  2,  0,  0,\n",
       "        0,  0,  0,  0,  0,  0,  2,  0,  0,  0,  0,  0,  0,  0,  0,  0,  0,\n",
       "       -2,  0,  0,  0, -2, -2,  0,  0,  1,  0,  0,  0,  0,  1,  0,  0,  0,\n",
       "        0,  0,  0,  0,  0,  0,  0,  0,  0,  0, -2, -2,  0,  0,  0,  0,  0,\n",
       "        0,  0, -1,  0,  0,  0,  0,  0,  0,  0,  2,  0,  0,  0,  0,  1,  0,\n",
       "        0,  0,  0,  0,  0,  0,  0,  0,  0,  0,  0,  0,  0, -1,  0,  1,  0,\n",
       "        0, -1,  0,  0,  0,  0,  1,  0,  0,  1,  1,  0,  0,  0,  0,  0,  0,\n",
       "        0,  0,  1,  1,  0,  0,  0,  0,  0,  0,  0,  1,  0,  0,  0,  0,  2,\n",
       "        0,  0,  2,  0,  0,  0,  0,  0,  0, -1,  0,  0,  0, -2,  0,  0,  0,\n",
       "        0,  0,  0,  0,  0,  0,  0,  0,  0,  0,  0,  1,  0,  0, -1,  0,  0,\n",
       "        1, -2,  0,  0,  0,  0,  0,  0,  0,  0,  0,  0,  0,  0,  0, -1,  0,\n",
       "        0,  0,  0,  0,  0,  0,  0,  1,  0,  0,  0, -1,  0, -1,  0,  0,  0,\n",
       "        0,  0,  0,  1,  0,  0,  1,  0,  0, -1,  0,  0,  0,  0,  0,  1, -1,\n",
       "        0,  0,  0,  0,  1,  0, -1,  0,  0])"
      ]
     },
     "execution_count": 12,
     "metadata": {},
     "output_type": "execute_result"
    }
   ],
   "source": [
    "predicted_categ-y_test"
   ]
  },
  {
   "cell_type": "code",
   "execution_count": 13,
   "id": "2d05fd02",
   "metadata": {},
   "outputs": [],
   "source": [
    "model.save(\"/Users/jinjingyi/meow/meow-by-meow/data/trained_models/CNN/CNN_dataaug_with_ftmask_randn.keras\")"
   ]
  },
  {
   "cell_type": "code",
   "execution_count": null,
   "id": "e4f516d3",
   "metadata": {},
   "outputs": [],
   "source": []
  },
  {
   "cell_type": "code",
   "execution_count": null,
   "id": "a3885717",
   "metadata": {},
   "outputs": [],
   "source": [
    "\n"
   ]
  },
  {
   "cell_type": "code",
   "execution_count": null,
   "id": "b42cdc5f",
   "metadata": {},
   "outputs": [],
   "source": []
  },
  {
   "cell_type": "code",
   "execution_count": null,
   "id": "05050056",
   "metadata": {},
   "outputs": [],
   "source": []
  }
 ],
 "metadata": {
  "kernelspec": {
   "display_name": "Python 3 (ipykernel)",
   "language": "python",
   "name": "python3"
  },
  "language_info": {
   "codemirror_mode": {
    "name": "ipython",
    "version": 3
   },
   "file_extension": ".py",
   "mimetype": "text/x-python",
   "name": "python",
   "nbconvert_exporter": "python",
   "pygments_lexer": "ipython3",
   "version": "3.11.5"
  }
 },
 "nbformat": 4,
 "nbformat_minor": 5
}
