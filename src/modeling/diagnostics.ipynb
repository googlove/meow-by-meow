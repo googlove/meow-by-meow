{
 "cells": [
  {
   "cell_type": "markdown",
   "id": "07cf738c",
   "metadata": {},
   "source": [
    "# Diagnostic Plots\n",
    "\n",
    "This file imports various models as $k$ varies and formulates diagnostic plots we can use for choosing optimal $k$. We focus firstly on precision-recall curves with $k$ as the free parameter."
   ]
  },
  {
   "cell_type": "markdown",
   "id": "2c00a005",
   "metadata": {},
   "source": [
    "# Imports"
   ]
  },
  {
   "cell_type": "code",
   "execution_count": null,
   "id": "d27bf799",
   "metadata": {},
   "outputs": [],
   "source": [
    "## For data handling\n",
    "import pandas as pd\n",
    "import numpy as np\n",
    "\n",
    "## For plotting\n",
    "import matplotlib.pyplot as plt\n",
    "import seaborn as sns\n",
    "\n",
    "## This sets the plot style\n",
    "## to have a grid on a white background\n",
    "sns.set_style(\"whitegrid\")"
   ]
  },
  {
   "cell_type": "markdown",
   "id": "80369620",
   "metadata": {},
   "source": [
    "# Load Data"
   ]
  },
  {
   "cell_type": "code",
   "execution_count": null,
   "id": "a4f4eea0",
   "metadata": {},
   "outputs": [],
   "source": [
    "## Load data from a wide range of k-values"
   ]
  },
  {
   "cell_type": "markdown",
   "id": "bfdc5cbe",
   "metadata": {},
   "source": [
    "# Plot Various Precision/Recall Graphs"
   ]
  },
  {
   "cell_type": "code",
   "execution_count": null,
   "id": "b63511b0",
   "metadata": {},
   "outputs": [],
   "source": [
    "## Create precision/recall graphs for 0-1, 0-2, and 1-2 combinations of categories"
   ]
  }
 ],
 "metadata": {
  "kernelspec": {
   "display_name": "Python 3 (ipykernel)",
   "language": "python",
   "name": "python3"
  },
  "language_info": {
   "codemirror_mode": {
    "name": "ipython",
    "version": 3
   },
   "file_extension": ".py",
   "mimetype": "text/x-python",
   "name": "python",
   "nbconvert_exporter": "python",
   "pygments_lexer": "ipython3",
   "version": "3.11.4"
  }
 },
 "nbformat": 4,
 "nbformat_minor": 5
}
